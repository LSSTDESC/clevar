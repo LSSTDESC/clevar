{
 "cells": [
  {
   "cell_type": "markdown",
   "metadata": {},
   "source": [
    "# Advanced example of plotting metrics of matching\n",
    "Example of the more functions to plot metrics of matching, using non-standard quantities of the catalogs"
   ]
  },
  {
   "cell_type": "code",
   "execution_count": null,
   "metadata": {},
   "outputs": [],
   "source": [
    "%load_ext autoreload\n",
    "%autoreload 2"
   ]
  },
  {
   "cell_type": "code",
   "execution_count": null,
   "metadata": {},
   "outputs": [],
   "source": [
    "import numpy as np\n",
    "import pylab as plt"
   ]
  },
  {
   "cell_type": "markdown",
   "metadata": {},
   "source": [
    "## Generate random data and add to catalog"
   ]
  },
  {
   "cell_type": "code",
   "execution_count": null,
   "metadata": {},
   "outputs": [],
   "source": [
    "# For reproducibility\n",
    "np.random.seed(1)"
   ]
  },
  {
   "cell_type": "code",
   "execution_count": null,
   "metadata": {},
   "outputs": [],
   "source": [
    "from support import gen_cluster\n",
    "input1, input2 = gen_cluster()"
   ]
  },
  {
   "cell_type": "code",
   "execution_count": null,
   "metadata": {},
   "outputs": [],
   "source": [
    "from clevar import ClCatalog\n",
    "c1 = ClCatalog('Cat1', ra=input1['RA'], dec=input1['DEC'], z=input1['Z'], mass=input1['MASS'],\n",
    "            mass_err=input1['MASS_ERR'], z_err=input1['Z_ERR'])\n",
    "c2 = ClCatalog('Cat2', ra=input2['RA'], dec=input2['DEC'], z=input2['Z'], mass=input2['MASS'],\n",
    "            mass_err=input2['MASS_ERR'], z_err=input2['Z_ERR'])"
   ]
  },
  {
   "cell_type": "markdown",
   "metadata": {},
   "source": [
    "## Match catalogs"
   ]
  },
  {
   "cell_type": "code",
   "execution_count": null,
   "metadata": {},
   "outputs": [],
   "source": [
    "from clevar.match import ProximityMatch\n",
    "from clevar.cosmology import AstroPyCosmology\n",
    "\n",
    "match_config = {\n",
    "    'type': 'cross', # options are cross, cat1, cat2\n",
    "    'which_radius': 'max', # Case of radius to be used, can be: cat1, cat2, min, max\n",
    "    'preference': 'angular_proximity', # options are more_massive, angular_proximity or redshift_proximity\n",
    "    'catalog1': {'delta_z':.2,\n",
    "                'match_radius': '1 mpc'\n",
    "                },\n",
    "    'catalog2': {'delta_z':.2,\n",
    "                'match_radius': '10 arcsec'\n",
    "                }\n",
    "}\n",
    "\n",
    "cosmo = AstroPyCosmology()\n",
    "mt = ProximityMatch()\n",
    "mt.match_from_config(c1, c2, match_config, cosmo=cosmo)"
   ]
  },
  {
   "cell_type": "markdown",
   "metadata": {},
   "source": [
    "## Recovery rate\n",
    "Compute recovery rates, in the main functions they are computed in mass and redshift bins.\n",
    "Here a more advanced use where different quantities can be used.\n",
    "There are several ways they can be displayed:\n",
    "- Single panel with multiple lines\n",
    "- Multiple panels\n",
    "- 2D color map\n",
    "\n",
    "To use this, import the `ClCatalogFuncs` package from `recovery`. It contains the functions:\n",
    "- `plot`\n",
    "- `plot_panel`\n",
    "- `plot2D`\n",
    "\n",
    "There functions have the names of the columns as arguments, so you can use different columns available in the catalogs."
   ]
  },
  {
   "cell_type": "code",
   "execution_count": null,
   "metadata": {},
   "outputs": [],
   "source": [
    "from clevar.match_metrics.recovery import ClCatalogFuncs as r_cf"
   ]
  },
  {
   "cell_type": "code",
   "execution_count": null,
   "metadata": {},
   "outputs": [],
   "source": [
    "zbins = np.linspace(0, 2, 11)\n",
    "mbins = np.logspace(13, 14, 5)"
   ]
  },
  {
   "cell_type": "markdown",
   "metadata": {},
   "source": [
    "### Simple plot\n",
    "The recovery rates are shown as a function of redshift in mass bins.\n",
    "They can be displayed as a continuous line or with steps:"
   ]
  },
  {
   "cell_type": "code",
   "execution_count": null,
   "metadata": {},
   "outputs": [],
   "source": [
    "ax = r_cf.plot(c1, col1='z', col2='mass', bins1=zbins, bins2=mbins,\n",
    "        matching_type='cross', legend_format=lambda x: f'10^{{{np.log10(x)}}}')"
   ]
  },
  {
   "cell_type": "markdown",
   "metadata": {},
   "source": [
    "They can also be transposed to be shown as a function of mass in redshift bins."
   ]
  },
  {
   "cell_type": "code",
   "execution_count": null,
   "metadata": {},
   "outputs": [],
   "source": [
    "f, axes = r_cf.plot_panel(c1, col1='z', col2='mass', bins1=zbins, bins2=mbins,\n",
    "        matching_type='cross', label_format=lambda x: f'10^{{{np.log10(x)}}}')"
   ]
  },
  {
   "cell_type": "code",
   "execution_count": null,
   "metadata": {},
   "outputs": [],
   "source": [
    "f, axes = r_cf.plot2D(c1, col1='z', col2='mass', bins1=zbins, bins2=mbins,\n",
    "        matching_type='cross', scale2='log')"
   ]
  },
  {
   "cell_type": "markdown",
   "metadata": {},
   "source": [
    "## Distances of matching\n",
    "The main functions in `distances` can already be binned along other quantities of the catalog and do not require a more advanced use.\n",
    "\n",
    "Nonetheless it also has a `ClCatalogFuncs` package and can be used with the same formalism:"
   ]
  },
  {
   "cell_type": "code",
   "execution_count": null,
   "metadata": {},
   "outputs": [],
   "source": [
    "from clevar.match_metrics.distances import ClCatalogFuncs as d_cf"
   ]
  },
  {
   "cell_type": "code",
   "execution_count": null,
   "metadata": {},
   "outputs": [],
   "source": [
    "ax = d_cf.central_position(c1, c2, 'cross', radial_bins=20, radial_bin_units='degrees',\n",
    "                           col2='z', bins2=zbins[::4])"
   ]
  },
  {
   "cell_type": "code",
   "execution_count": null,
   "metadata": {},
   "outputs": [],
   "source": [
    "ax = d_cf.redshift(c1, c2, 'cross', redshift_bins=20,\n",
    "                   col2='z', bins2=zbins[::4], normalize='cat1')"
   ]
  },
  {
   "cell_type": "markdown",
   "metadata": {},
   "source": [
    "## Scaling Relations\n",
    "Here you will be able to evaluate the scaling relations of any two quantities of the matched catalogs.\n",
    "Import the `ClCatalogFuncs` package from `scaling`, the functions of this package are:\n",
    "- `plot`: Scaling relation of a quantity\n",
    "- `plot_color`: Scaling relation of a quantity with the colors based on a 2nd quantity\n",
    "- `plot_density`: Scaling relation of a quantity with the colors based on density of points\n",
    "- `plot_panel`: Scaling relation of a quantity divided in panels based on a 2nd quantity\n",
    "- `plot_color_panel`: Scaling relation of a quantity with the colors based on a 2nd quantity in panels based on a 3rd quantity \n",
    "- `plot_density_panel`: Scaling relation of a quantity with the colors based on density of points in panels based on a 2rd quantity\n",
    "\n",
    "\n",
    "take the name of the quantity to be binned:"
   ]
  },
  {
   "cell_type": "code",
   "execution_count": null,
   "metadata": {},
   "outputs": [],
   "source": [
    "from clevar.match_metrics.scaling import ClCatalogFuncs as s_cf"
   ]
  },
  {
   "cell_type": "code",
   "execution_count": null,
   "metadata": {},
   "outputs": [],
   "source": [
    "ax = s_cf.plot(c1, c2, 'cross', col='mass', xscale='log', yscale='log')"
   ]
  },
  {
   "cell_type": "code",
   "execution_count": null,
   "metadata": {},
   "outputs": [],
   "source": [
    "ax = s_cf.plot_color(c1, c2, 'cross', col='mass', xscale='log', yscale='log',\n",
    "                     col_color='mass', color_log=True)"
   ]
  },
  {
   "cell_type": "code",
   "execution_count": null,
   "metadata": {},
   "outputs": [],
   "source": [
    "ax = s_cf.plot_density(c1, c2, 'cross', col='mass', xscale='log', yscale='log')"
   ]
  },
  {
   "cell_type": "code",
   "execution_count": null,
   "metadata": {},
   "outputs": [],
   "source": [
    "f, axes = s_cf.plot_panel(c1, c2, 'cross', col='mass', xscale='log', yscale='log',\n",
    "                         col_panel='z', bins_panel=zbins[::2])"
   ]
  },
  {
   "cell_type": "code",
   "execution_count": null,
   "metadata": {},
   "outputs": [],
   "source": [
    "f, axes = s_cf.plot_color_panel(c1, c2, 'cross', col='mass', xscale='log', yscale='log',\n",
    "                         col_panel='z', bins_panel=zbins[::2],\n",
    "                         col_color='z')"
   ]
  },
  {
   "cell_type": "code",
   "execution_count": null,
   "metadata": {},
   "outputs": [],
   "source": [
    "f, axes = s_cf.plot_density_panel(c1, c2, 'cross', col='mass', xscale='log', yscale='log',\n",
    "                         col_panel='z', bins_panel=zbins[::2])"
   ]
  },
  {
   "cell_type": "code",
   "execution_count": null,
   "metadata": {},
   "outputs": [],
   "source": [
    "f, axes = s_cf.plot_metrics(c1, c2, 'cross', col='z', label1='z1')"
   ]
  },
  {
   "cell_type": "code",
   "execution_count": null,
   "metadata": {},
   "outputs": [],
   "source": [
    "f, axes = s_cf.plot_density_metrics(c1, c2, 'cross', col='z')"
   ]
  },
  {
   "cell_type": "code",
   "execution_count": null,
   "metadata": {},
   "outputs": [],
   "source": [
    "f, axes = s_cf.plot_density_metrics(c1, c2, 'cross', col='mass', metrics_mode='log', \n",
    "                                   scale1='log', scale2='log')"
   ]
  }
 ],
 "metadata": {
  "kernelspec": {
   "display_name": "conda-clmmenv",
   "language": "python",
   "name": "conda-clmmenv"
  },
  "language_info": {
   "codemirror_mode": {
    "name": "ipython",
    "version": 3
   },
   "file_extension": ".py",
   "mimetype": "text/x-python",
   "name": "python",
   "nbconvert_exporter": "python",
   "pygments_lexer": "ipython3",
   "version": "3.9.2"
  }
 },
 "nbformat": 4,
 "nbformat_minor": 4
}
