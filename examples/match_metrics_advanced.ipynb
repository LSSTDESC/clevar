{
 "cells": [
  {
   "cell_type": "markdown",
   "metadata": {},
   "source": [
    "# Metrics of matching (advanced)\n",
    "Example of the more functions to plot metrics of matching, using non-standard quantities of the catalogs"
   ]
  },
  {
   "cell_type": "markdown",
   "metadata": {
    "toc": true
   },
   "source": [
    "<h1>Table of Contents<span class=\"tocSkip\"></span></h1>\n",
    "<div class=\"toc\"><ul class=\"toc-item\"><li><span><a href=\"#Generate-random-data-and-add-to-catalog\" data-toc-modified-id=\"Generate-random-data-and-add-to-catalog-1\"><span class=\"toc-item-num\">1&nbsp;&nbsp;</span>Generate random data and add to catalog</a></span></li><li><span><a href=\"#Match-catalogs\" data-toc-modified-id=\"Match-catalogs-2\"><span class=\"toc-item-num\">2&nbsp;&nbsp;</span>Match catalogs</a></span></li><li><span><a href=\"#Recovery-rate\" data-toc-modified-id=\"Recovery-rate-3\"><span class=\"toc-item-num\">3&nbsp;&nbsp;</span>Recovery rate</a></span><ul class=\"toc-item\"><li><span><a href=\"#Binned-plot\" data-toc-modified-id=\"Binned-plot-3.1\"><span class=\"toc-item-num\">3.1&nbsp;&nbsp;</span>Binned plot</a></span></li><li><span><a href=\"#Sky-plots\" data-toc-modified-id=\"Sky-plots-3.2\"><span class=\"toc-item-num\">3.2&nbsp;&nbsp;</span>Sky plots</a></span></li></ul></li><li><span><a href=\"#Distances-of-matching\" data-toc-modified-id=\"Distances-of-matching-4\"><span class=\"toc-item-num\">4&nbsp;&nbsp;</span>Distances of matching</a></span></li><li><span><a href=\"#Scaling-Relations\" data-toc-modified-id=\"Scaling-Relations-5\"><span class=\"toc-item-num\">5&nbsp;&nbsp;</span>Scaling Relations</a></span></li></ul></div>"
   ]
  },
  {
   "cell_type": "code",
   "execution_count": null,
   "metadata": {},
   "outputs": [],
   "source": [
    "%load_ext autoreload\n",
    "%autoreload 2"
   ]
  },
  {
   "cell_type": "code",
   "execution_count": null,
   "metadata": {},
   "outputs": [],
   "source": [
    "import numpy as np\n",
    "import pylab as plt"
   ]
  },
  {
   "cell_type": "markdown",
   "metadata": {},
   "source": [
    "## Generate random data and add to catalog"
   ]
  },
  {
   "cell_type": "code",
   "execution_count": null,
   "metadata": {},
   "outputs": [],
   "source": [
    "# For reproducibility\n",
    "np.random.seed(1)"
   ]
  },
  {
   "cell_type": "code",
   "execution_count": null,
   "metadata": {},
   "outputs": [],
   "source": [
    "from support import gen_cluster\n",
    "\n",
    "input1, input2 = gen_cluster(ra_min=0, ra_max=30, dec_min=0, dec_max=30)"
   ]
  },
  {
   "cell_type": "code",
   "execution_count": null,
   "metadata": {},
   "outputs": [],
   "source": [
    "from clevar import ClCatalog\n",
    "\n",
    "tags = {\n",
    "    \"ra\": \"RA\",\n",
    "    \"dec\": \"DEC\",\n",
    "    \"z\": \"Z\",\n",
    "    \"mass\": \"MASS\",\n",
    "    \"mass_err\": \"MASS_ERR\",\n",
    "    \"z_err\": \"Z_ERR\",\n",
    "}\n",
    "c1 = ClCatalog(\"Cat1\", data=input1, tags=tags)\n",
    "c2 = ClCatalog(\"Cat2\", data=input2, tags=tags)\n",
    "# Format for nice display\n",
    "for c in (\"ra\", \"dec\", \"z\", \"z_err\"):\n",
    "    c1[c].info.format = \".2f\"\n",
    "    c2[c].info.format = \".2f\"\n",
    "for c in (\"mass\", \"mass_err\"):\n",
    "    c1[c].info.format = \".2e\"\n",
    "    c2[c].info.format = \".2e\""
   ]
  },
  {
   "cell_type": "markdown",
   "metadata": {},
   "source": [
    "## Match catalogs"
   ]
  },
  {
   "cell_type": "code",
   "execution_count": null,
   "metadata": {},
   "outputs": [],
   "source": [
    "from clevar.match import ProximityMatch\n",
    "from clevar.cosmology import AstroPyCosmology\n",
    "\n",
    "match_config = {\n",
    "    \"type\": \"cross\",  # options are cross, cat1, cat2\n",
    "    \"verbose\": True,  # print matching info of all clusters to screen\n",
    "    \"which_radius\": \"max\",  # Case of radius to be used, can be: cat1, cat2, min, max\n",
    "    \"preference\": \"angular_proximity\",  # options are more_massive, angular_proximity or redshift_proximity\n",
    "    \"catalog1\": {\"delta_z\": 0.2, \"match_radius\": \"1 mpc\"},\n",
    "    \"catalog2\": {\"delta_z\": 0.2, \"match_radius\": \"10 arcsec\"},\n",
    "}\n",
    "\n",
    "cosmo = AstroPyCosmology()\n",
    "mt = ProximityMatch()\n",
    "mt.match_from_config(c1, c2, match_config, cosmo=cosmo)"
   ]
  },
  {
   "cell_type": "markdown",
   "metadata": {},
   "source": [
    "## Recovery rate\n",
    "Compute recovery rates, in the main functions they are computed in mass and redshift bins.\n",
    "Here a more advanced use where different quantities can be used.\n",
    "There are several ways they can be displayed:\n",
    "- Single panel with multiple lines\n",
    "- Multiple panels\n",
    "- 2D color map\n",
    "\n",
    "To use this, import the `ClCatalogFuncs` package from `recovery`. It contains the functions:\n",
    "- `plot`\n",
    "- `plot_panel`\n",
    "- `plot2D`\n",
    "\n",
    "There functions have the names of the columns as arguments, so you can use different columns available in the catalogs."
   ]
  },
  {
   "cell_type": "code",
   "execution_count": null,
   "metadata": {},
   "outputs": [],
   "source": [
    "from clevar.match_metrics.recovery import ClCatalogFuncs as r_cf"
   ]
  },
  {
   "cell_type": "code",
   "execution_count": null,
   "metadata": {},
   "outputs": [],
   "source": [
    "zbins = np.linspace(0, 2, 11)\n",
    "mbins = np.logspace(13, 14, 5)"
   ]
  },
  {
   "cell_type": "markdown",
   "metadata": {},
   "source": [
    "### Binned plot\n",
    "The recovery rates are shown as a function of `col1` in `col2` bins.\n",
    "They can be displayed as a continuous line or with steps:"
   ]
  },
  {
   "cell_type": "code",
   "execution_count": null,
   "metadata": {},
   "outputs": [],
   "source": [
    "info = r_cf.plot(\n",
    "    c1,\n",
    "    col1=\"z\",\n",
    "    col2=\"mass\",\n",
    "    bins1=zbins,\n",
    "    bins2=mbins,\n",
    "    matching_type=\"cross\",\n",
    "    legend_format=lambda x: f\"10^{{{np.log10(x)}}}\",\n",
    ")"
   ]
  },
  {
   "cell_type": "markdown",
   "metadata": {},
   "source": [
    "They can also be transposed to be shown as a function of mass in redshift bins."
   ]
  },
  {
   "cell_type": "code",
   "execution_count": null,
   "metadata": {},
   "outputs": [],
   "source": [
    "info = r_cf.plot_panel(\n",
    "    c1,\n",
    "    col1=\"z\",\n",
    "    col2=\"mass\",\n",
    "    bins1=zbins,\n",
    "    bins2=mbins,\n",
    "    matching_type=\"cross\",\n",
    "    label_format=lambda x: f\"10^{{{np.log10(x)}}}\",\n",
    ")"
   ]
  },
  {
   "cell_type": "code",
   "execution_count": null,
   "metadata": {},
   "outputs": [],
   "source": [
    "info = r_cf.plot2D(\n",
    "    c1, col1=\"z\", col2=\"mass\", bins1=zbins, bins2=mbins, matching_type=\"cross\", scale2=\"log\"\n",
    ")"
   ]
  },
  {
   "cell_type": "markdown",
   "metadata": {},
   "source": [
    "### Sky plots\n",
    "It is possible to plot the recovery rate by positions in the sky. It is done based on healpix pixelizations:"
   ]
  },
  {
   "cell_type": "code",
   "execution_count": null,
   "metadata": {},
   "outputs": [],
   "source": [
    "info = r_cf.skyplot(c1, matching_type=\"cross\", nside=16, ra_lim=[-10, 50], dec_lim=[-5, 35])"
   ]
  },
  {
   "cell_type": "markdown",
   "metadata": {},
   "source": [
    "## Distances of matching\n",
    "The main functions in `distances` can already be binned along other quantities of the catalog and do not require a more advanced use.\n",
    "\n",
    "Nonetheless it also has a `ClCatalogFuncs` package and can be used with the same formalism:"
   ]
  },
  {
   "cell_type": "code",
   "execution_count": null,
   "metadata": {},
   "outputs": [],
   "source": [
    "from clevar.match_metrics.distances import ClCatalogFuncs as d_cf"
   ]
  },
  {
   "cell_type": "code",
   "execution_count": null,
   "metadata": {},
   "outputs": [],
   "source": [
    "info = d_cf.central_position(\n",
    "    c1, c2, \"cross\", radial_bins=20, radial_bin_units=\"degrees\", col2=\"z\", bins2=zbins[::4]\n",
    ")"
   ]
  },
  {
   "cell_type": "code",
   "execution_count": null,
   "metadata": {},
   "outputs": [],
   "source": [
    "info = d_cf.redshift(\n",
    "    c1, c2, \"cross\", redshift_bins=20, col2=\"z\", bins2=zbins[::4], normalize=\"cat1\"\n",
    ")"
   ]
  },
  {
   "cell_type": "markdown",
   "metadata": {},
   "source": [
    "## Scaling Relations\n",
    "Here you will be able to evaluate the scaling relations of any two quantities of the matched catalogs.\n",
    "Import the `ClCatalogFuncs` package from `scaling`, the functions of this package are:\n",
    "- `plot`: Scaling relation of a quantity\n",
    "- `plot_color`: Scaling relation of a quantity with the colors based on a 2nd quantity\n",
    "- `plot_density`: Scaling relation of a quantity with the colors based on density of points\n",
    "- `plot_panel`: Scaling relation of a quantity divided in panels based on a 2nd quantity\n",
    "- `plot_color_panel`: Scaling relation of a quantity with the colors based on a 2nd quantity in panels based on a 3rd quantity \n",
    "- `plot_density_panel`: Scaling relation of a quantity with the colors based on density of points in panels based on a 2rd quantity\n",
    "- `plot_metrics`: Metrics of quantity scaling relation.\n",
    "- `plot_density_metrics`: Scaling relation of a quantity with the colors based on density of points with scatter and bias panels\n",
    "- `plot_dist`: Distribution of a quantity, binned by other component in panels, and an optional secondary component in lines.\n",
    "- `plot_dist_self`: Distribution of a quantity, binned by the same quantity in panels, with option for a second quantity in lines. Is is useful to compare with plot_dist results.\n",
    "\n",
    "take the name of the quantity to be binned:"
   ]
  },
  {
   "cell_type": "code",
   "execution_count": null,
   "metadata": {},
   "outputs": [],
   "source": [
    "from clevar.match_metrics.scaling import ClCatalogFuncs as s_cf"
   ]
  },
  {
   "cell_type": "code",
   "execution_count": null,
   "metadata": {},
   "outputs": [],
   "source": [
    "info = s_cf.plot(c1, c2, \"cross\", col=\"mass\", xscale=\"log\", yscale=\"log\")"
   ]
  },
  {
   "cell_type": "code",
   "execution_count": null,
   "metadata": {},
   "outputs": [],
   "source": [
    "info = s_cf.plot(\n",
    "    c1, c2, \"cross\", col=\"mass\", xscale=\"log\", yscale=\"log\", col_color=\"z\", add_err=False\n",
    ")"
   ]
  },
  {
   "cell_type": "code",
   "execution_count": null,
   "metadata": {},
   "outputs": [],
   "source": [
    "info = s_cf.plot_density(\n",
    "    c1,\n",
    "    c2,\n",
    "    \"cross\",\n",
    "    col=\"mass\",\n",
    "    xscale=\"log\",\n",
    "    yscale=\"log\",\n",
    "    add_err=False,\n",
    "    add_fit=True,\n",
    "    fit_bins1=5,\n",
    "    fit_log=True,\n",
    ")"
   ]
  },
  {
   "cell_type": "code",
   "execution_count": null,
   "metadata": {},
   "outputs": [],
   "source": [
    "info = s_cf.plot_panel(\n",
    "    c1, c2, \"cross\", col=\"mass\", xscale=\"log\", yscale=\"log\", col_panel=\"z\", bins_panel=zbins[::2]\n",
    ")"
   ]
  },
  {
   "cell_type": "code",
   "execution_count": null,
   "metadata": {},
   "outputs": [],
   "source": [
    "info = s_cf.plot_panel(\n",
    "    c1,\n",
    "    c2,\n",
    "    \"cross\",\n",
    "    col=\"mass\",\n",
    "    xscale=\"log\",\n",
    "    yscale=\"log\",\n",
    "    col_panel=\"z\",\n",
    "    bins_panel=zbins[::2],\n",
    "    col_color=\"z\",\n",
    ")"
   ]
  },
  {
   "cell_type": "code",
   "execution_count": null,
   "metadata": {},
   "outputs": [],
   "source": [
    "info = s_cf.plot_density_panel(\n",
    "    c1, c2, \"cross\", col=\"mass\", xscale=\"log\", yscale=\"log\", col_panel=\"z\", bins_panel=zbins[::2]\n",
    ")"
   ]
  },
  {
   "cell_type": "code",
   "execution_count": null,
   "metadata": {},
   "outputs": [],
   "source": [
    "info = s_cf.plot_metrics(c1, c2, \"cross\", col=\"z\", mode=\"diff_z\", label1=\"z1\")"
   ]
  },
  {
   "cell_type": "code",
   "execution_count": null,
   "metadata": {},
   "outputs": [],
   "source": [
    "info = s_cf.plot_density_metrics(c1, c2, \"cross\", col=\"z\", metrics_mode=\"diff_z\")"
   ]
  },
  {
   "cell_type": "code",
   "execution_count": null,
   "metadata": {},
   "outputs": [],
   "source": [
    "info = s_cf.plot_density_metrics(\n",
    "    c1, c2, \"cross\", col=\"mass\", metrics_mode=\"log\", scale1=\"log\", scale2=\"log\"\n",
    ")"
   ]
  },
  {
   "cell_type": "code",
   "execution_count": null,
   "metadata": {},
   "outputs": [],
   "source": [
    "info = s_cf.plot_density_dist(\n",
    "    c1, c2, \"cross\", col=\"mass\", metrics_mode=\"log\", scale1=\"log\", scale2=\"log\", add_err=False\n",
    ")"
   ]
  },
  {
   "cell_type": "code",
   "execution_count": null,
   "metadata": {},
   "outputs": [],
   "source": [
    "zbins2 = np.linspace(0, 1.2, 7)[1:]\n",
    "rbins2 = [1, 5.5, 25, 50, c2[\"mass\"].max()]\n",
    "bins1 = 10 ** np.histogram(np.log10(c1[\"mass\"]), 20)[1]\n",
    "info = s_cf.plot_dist(\n",
    "    c1,\n",
    "    c2,\n",
    "    \"cross\",\n",
    "    \"mass\",\n",
    "    bins1=21,\n",
    "    bins2=[10**13.0, 10**13.2, 10**13.5, 1e14, 1e15],\n",
    "    col_aux=\"z\",\n",
    "    bins_aux=4,\n",
    "    shape=\"line\",\n",
    "    log_vals=True,\n",
    "    fig_kwargs={\"figsize\": (15, 6)},\n",
    ")"
   ]
  }
 ],
 "metadata": {
  "kernelspec": {
   "display_name": "",
   "language": "python",
   "name": ""
  },
  "language_info": {
   "codemirror_mode": {
    "name": "ipython",
    "version": 3
   },
   "file_extension": ".py",
   "mimetype": "text/x-python",
   "name": "python",
   "nbconvert_exporter": "python",
   "pygments_lexer": "ipython3",
   "version": "3.9.2"
  },
  "toc": {
   "base_numbering": 1,
   "nav_menu": {},
   "number_sections": true,
   "sideBar": true,
   "skip_h1_title": true,
   "title_cell": "Table of Contents",
   "title_sidebar": "Contents",
   "toc_cell": true,
   "toc_position": {},
   "toc_section_display": true,
   "toc_window_display": false
  }
 },
 "nbformat": 4,
 "nbformat_minor": 4
}
