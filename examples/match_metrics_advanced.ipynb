{
 "cells": [
  {
   "cell_type": "markdown",
   "metadata": {},
   "source": [
    "# Metrics of matching (advanced)\n",
    "Example of the more functions to plot metrics of matching, using non-standard quantities of the catalogs"
   ]
  },
  {
   "cell_type": "code",
   "execution_count": null,
   "metadata": {},
   "outputs": [],
   "source": [
    "%load_ext autoreload\n",
    "%autoreload 2"
   ]
  },
  {
   "cell_type": "code",
   "execution_count": null,
   "metadata": {},
   "outputs": [],
   "source": [
    "import numpy as np\n",
    "import pylab as plt"
   ]
  },
  {
   "cell_type": "markdown",
   "metadata": {},
   "source": [
    "## Generate random data and add to catalog"
   ]
  },
  {
   "cell_type": "code",
   "execution_count": null,
   "metadata": {},
   "outputs": [],
   "source": [
    "# For reproducibility\n",
    "np.random.seed(1)"
   ]
  },
  {
   "cell_type": "code",
   "execution_count": null,
   "metadata": {},
   "outputs": [],
   "source": [
    "from support import gen_cluster\n",
    "input1, input2 = gen_cluster(ra_min=0, ra_max=30, dec_min=0, dec_max=30)"
   ]
  },
  {
   "cell_type": "code",
   "execution_count": null,
   "metadata": {},
   "outputs": [],
   "source": [
    "from clevar import ClCatalog\n",
    "c1 = ClCatalog('Cat1', ra=input1['RA'], dec=input1['DEC'], z=input1['Z'], mass=input1['MASS'],\n",
    "            mass_err=input1['MASS_ERR'], z_err=input1['Z_ERR'])\n",
    "c2 = ClCatalog('Cat2', ra=input2['RA'], dec=input2['DEC'], z=input2['Z'], mass=input2['MASS'],\n",
    "            mass_err=input2['MASS_ERR'], z_err=input2['Z_ERR'])\n",
    "# Format for nice display\n",
    "for c in ('ra', 'dec', 'z', 'z_err'):\n",
    "    c1[c].info.format = '.2f'\n",
    "    c2[c].info.format = '.2f'\n",
    "for c in ('mass', 'mass_err'):\n",
    "    c1[c].info.format = '.2e'\n",
    "    c2[c].info.format = '.2e'"
   ]
  },
  {
   "cell_type": "markdown",
   "metadata": {},
   "source": [
    "## Match catalogs"
   ]
  },
  {
   "cell_type": "code",
   "execution_count": null,
   "metadata": {},
   "outputs": [],
   "source": [
    "from clevar.match import ProximityMatch\n",
    "from clevar.cosmology import AstroPyCosmology\n",
    "\n",
    "match_config = {\n",
    "    'type': 'cross', # options are cross, cat1, cat2\n",
    "    'which_radius': 'max', # Case of radius to be used, can be: cat1, cat2, min, max\n",
    "    'preference': 'angular_proximity', # options are more_massive, angular_proximity or redshift_proximity\n",
    "    'catalog1': {'delta_z':.2,\n",
    "                'match_radius': '1 mpc'\n",
    "                },\n",
    "    'catalog2': {'delta_z':.2,\n",
    "                'match_radius': '10 arcsec'\n",
    "                }\n",
    "}\n",
    "\n",
    "cosmo = AstroPyCosmology()\n",
    "mt = ProximityMatch()\n",
    "mt.match_from_config(c1, c2, match_config, cosmo=cosmo)"
   ]
  },
  {
   "cell_type": "markdown",
   "metadata": {},
   "source": [
    "## Recovery rate\n",
    "Compute recovery rates, in the main functions they are computed in mass and redshift bins.\n",
    "Here a more advanced use where different quantities can be used.\n",
    "There are several ways they can be displayed:\n",
    "- Single panel with multiple lines\n",
    "- Multiple panels\n",
    "- 2D color map\n",
    "\n",
    "To use this, import the `ClCatalogFuncs` package from `recovery`. It contains the functions:\n",
    "- `plot`\n",
    "- `plot_panel`\n",
    "- `plot2D`\n",
    "\n",
    "There functions have the names of the columns as arguments, so you can use different columns available in the catalogs."
   ]
  },
  {
   "cell_type": "code",
   "execution_count": null,
   "metadata": {},
   "outputs": [],
   "source": [
    "from clevar.match_metrics.recovery import ClCatalogFuncs as r_cf"
   ]
  },
  {
   "cell_type": "code",
   "execution_count": null,
   "metadata": {},
   "outputs": [],
   "source": [
    "zbins = np.linspace(0, 2, 11)\n",
    "mbins = np.logspace(13, 14, 5)"
   ]
  },
  {
   "cell_type": "markdown",
   "metadata": {},
   "source": [
    "### Binned plot\n",
    "The recovery rates are shown as a function of `col1` in `col2` bins.\n",
    "They can be displayed as a continuous line or with steps:"
   ]
  },
  {
   "cell_type": "code",
   "execution_count": null,
   "metadata": {},
   "outputs": [],
   "source": [
    "info = r_cf.plot(c1, col1='z', col2='mass', bins1=zbins, bins2=mbins,\n",
    "        matching_type='cross', legend_format=lambda x: f'10^{{{np.log10(x)}}}')"
   ]
  },
  {
   "cell_type": "markdown",
   "metadata": {},
   "source": [
    "They can also be transposed to be shown as a function of mass in redshift bins."
   ]
  },
  {
   "cell_type": "code",
   "execution_count": null,
   "metadata": {},
   "outputs": [],
   "source": [
    "info = r_cf.plot_panel(c1, col1='z', col2='mass', bins1=zbins, bins2=mbins,\n",
    "        matching_type='cross', label_format=lambda x: f'10^{{{np.log10(x)}}}')"
   ]
  },
  {
   "cell_type": "code",
   "execution_count": null,
   "metadata": {},
   "outputs": [],
   "source": [
    "info = r_cf.plot2D(c1, col1='z', col2='mass', bins1=zbins, bins2=mbins,\n",
    "        matching_type='cross', scale2='log')"
   ]
  },
  {
   "cell_type": "markdown",
   "metadata": {},
   "source": [
    "### Sky plots\n",
    "It is possible to plot the recovery rate by positions in the sky. It is done based on healpix pixelizations:"
   ]
  },
  {
   "cell_type": "code",
   "execution_count": null,
   "metadata": {},
   "outputs": [],
   "source": [
    "info = r_cf.skyplot(c1, matching_type='cross', nside=16, ra_lim=[-10, 50], dec_lim=[-5, 35])"
   ]
  },
  {
   "cell_type": "markdown",
   "metadata": {},
   "source": [
    "## Distances of matching\n",
    "The main functions in `distances` can already be binned along other quantities of the catalog and do not require a more advanced use.\n",
    "\n",
    "Nonetheless it also has a `ClCatalogFuncs` package and can be used with the same formalism:"
   ]
  },
  {
   "cell_type": "code",
   "execution_count": null,
   "metadata": {},
   "outputs": [],
   "source": [
    "from clevar.match_metrics.distances import ClCatalogFuncs as d_cf"
   ]
  },
  {
   "cell_type": "code",
   "execution_count": null,
   "metadata": {},
   "outputs": [],
   "source": [
    "info = d_cf.central_position(c1, c2, 'cross', radial_bins=20, radial_bin_units='degrees',\n",
    "                           col2='z', bins2=zbins[::4])"
   ]
  },
  {
   "cell_type": "code",
   "execution_count": null,
   "metadata": {},
   "outputs": [],
   "source": [
    "info = d_cf.redshift(c1, c2, 'cross', redshift_bins=20,\n",
    "                   col2='z', bins2=zbins[::4], normalize='cat1')"
   ]
  },
  {
   "cell_type": "markdown",
   "metadata": {},
   "source": [
    "## Scaling Relations\n",
    "Here you will be able to evaluate the scaling relations of any two quantities of the matched catalogs.\n",
    "Import the `ClCatalogFuncs` package from `scaling`, the functions of this package are:\n",
    "- `plot`: Scaling relation of a quantity\n",
    "- `plot_color`: Scaling relation of a quantity with the colors based on a 2nd quantity\n",
    "- `plot_density`: Scaling relation of a quantity with the colors based on density of points\n",
    "- `plot_panel`: Scaling relation of a quantity divided in panels based on a 2nd quantity\n",
    "- `plot_color_panel`: Scaling relation of a quantity with the colors based on a 2nd quantity in panels based on a 3rd quantity \n",
    "- `plot_density_panel`: Scaling relation of a quantity with the colors based on density of points in panels based on a 2rd quantity\n",
    "- `plot_metrics`: Metrics of quantity scaling relation.\n",
    "- `plot_density_metrics`: Scaling relation of a quantity with the colors based on density of points with scatter and bias panels\n",
    "- `plot_dist`: Distribution of a quantity, binned by other component in panels, and an optional secondary component in lines.\n",
    "- `plot_dist_self`: Distribution of a quantity, binned by the same quantity in panels, with option for a second quantity in lines. Is is useful to compare with plot_dist results.\n",
    "\n",
    "take the name of the quantity to be binned:"
   ]
  },
  {
   "cell_type": "code",
   "execution_count": null,
   "metadata": {},
   "outputs": [],
   "source": [
    "from clevar.match_metrics.scaling import ClCatalogFuncs as s_cf"
   ]
  },
  {
   "cell_type": "code",
   "execution_count": null,
   "metadata": {},
   "outputs": [],
   "source": [
    "info = s_cf.plot(c1, c2, 'cross', col='mass', xscale='log', yscale='log')"
   ]
  },
  {
   "cell_type": "code",
   "execution_count": null,
   "metadata": {},
   "outputs": [],
   "source": [
    "info = s_cf.plot(c1, c2, 'cross', col='mass', xscale='log', yscale='log',\n",
    "                 col_color='z', add_err=False)"
   ]
  },
  {
   "cell_type": "code",
   "execution_count": null,
   "metadata": {},
   "outputs": [],
   "source": [
    "info = s_cf.plot_density(\n",
    "    c1, c2, 'cross', col='mass',\n",
    "    xscale='log', yscale='log', add_err=False,\n",
    "    add_fit=True, fit_bins1=5, fit_log=True)"
   ]
  },
  {
   "cell_type": "code",
   "execution_count": null,
   "metadata": {},
   "outputs": [],
   "source": [
    "info = s_cf.plot_panel(\n",
    "    c1, c2, 'cross', col='mass', xscale='log', yscale='log',\n",
    "    col_panel='z', bins_panel=zbins[::2])"
   ]
  },
  {
   "cell_type": "code",
   "execution_count": null,
   "metadata": {},
   "outputs": [],
   "source": [
    "info = s_cf.plot_panel(\n",
    "    c1, c2, 'cross', col='mass', xscale='log', yscale='log',\n",
    "    col_panel='z', bins_panel=zbins[::2],\n",
    "    col_color='z')"
   ]
  },
  {
   "cell_type": "code",
   "execution_count": null,
   "metadata": {},
   "outputs": [],
   "source": [
    "info = s_cf.plot_density_panel(\n",
    "    c1, c2, 'cross', col='mass', xscale='log', yscale='log',\n",
    "    col_panel='z', bins_panel=zbins[::2])"
   ]
  },
  {
   "cell_type": "code",
   "execution_count": null,
   "metadata": {},
   "outputs": [],
   "source": [
    "info = s_cf.plot_metrics(c1, c2, 'cross', col='z', mode='diff_z', label1='z1')"
   ]
  },
  {
   "cell_type": "code",
   "execution_count": null,
   "metadata": {},
   "outputs": [],
   "source": [
    "info = s_cf.plot_density_metrics(c1, c2, 'cross', col='z', metrics_mode='diff_z')"
   ]
  },
  {
   "cell_type": "code",
   "execution_count": null,
   "metadata": {},
   "outputs": [],
   "source": [
    "info = s_cf.plot_density_metrics(\n",
    "    c1, c2, 'cross', col='mass', metrics_mode='log', \n",
    "    scale1='log', scale2='log')"
   ]
  },
  {
   "cell_type": "code",
   "execution_count": null,
   "metadata": {},
   "outputs": [],
   "source": [
    "info = s_cf.plot_density_dist(\n",
    "    c1, c2, 'cross', col='mass', metrics_mode='log', \n",
    "    scale1='log', scale2='log', add_err=False)"
   ]
  },
  {
   "cell_type": "code",
   "execution_count": null,
   "metadata": {},
   "outputs": [],
   "source": [
    "zbins2 = np.linspace(0, 1.2, 7)[1:]\n",
    "rbins2 = [1, 5.5, 25, 50, c2['mass'].max()]\n",
    "bins1 = 10**np.histogram(np.log10(c1['mass']), 20)[1]\n",
    "info = s_cf.plot_dist(\n",
    "    c1, c2, 'cross', 'mass', \n",
    "    bins1=21, bins2=[10**13.0, 10**13.2, 10**13.5, 1e14, 1e15],\n",
    "    col_aux='z', bins_aux=4, shape='line',\n",
    "    log_vals=True, fig_kwargs={'figsize':(15, 6)})"
   ]
  }
 ],
 "metadata": {
  "kernelspec": {
   "display_name": "",
   "language": "python",
   "name": ""
  },
  "language_info": {
   "codemirror_mode": {
    "name": "ipython",
    "version": 3
   },
   "file_extension": ".py",
   "mimetype": "text/x-python",
   "name": "python",
   "nbconvert_exporter": "python",
   "pygments_lexer": "ipython3",
   "version": "3.9.2"
  }
 },
 "nbformat": 4,
 "nbformat_minor": 4
}
