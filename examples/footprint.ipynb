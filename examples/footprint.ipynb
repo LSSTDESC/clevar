{
 "cells": [
  {
   "cell_type": "markdown",
   "metadata": {},
   "source": [
    "# Footprint functionality\n",
    "Here we show how to use the footprint functionality. It is not used directly in the matching, but can be applied on the recovery rates computation"
   ]
  },
  {
   "cell_type": "code",
   "execution_count": null,
   "metadata": {},
   "outputs": [],
   "source": [
    "%load_ext autoreload\n",
    "%autoreload 2"
   ]
  },
  {
   "cell_type": "code",
   "execution_count": null,
   "metadata": {},
   "outputs": [],
   "source": [
    "import numpy as np\n",
    "import pylab as plt\n",
    "import healpy as hp"
   ]
  },
  {
   "cell_type": "markdown",
   "metadata": {},
   "source": [
    "## Generate random data and add to catalog"
   ]
  },
  {
   "cell_type": "code",
   "execution_count": null,
   "metadata": {},
   "outputs": [],
   "source": [
    "from support import gen_cluster\n",
    "input1, input2 = gen_cluster(ra_max=30, dec_max=30)"
   ]
  },
  {
   "cell_type": "code",
   "execution_count": null,
   "metadata": {},
   "outputs": [],
   "source": [
    "from clevar import ClCatalog\n",
    "c1 = ClCatalog('Cat1', ra=input1['RA'], dec=input1['DEC'], z=input1['Z'], mass=input1['MASS'],\n",
    "            mass_err=input1['MASS_ERR'], z_err=input1['Z_ERR'], radius=input1['RADIUS_ARCMIN'],\n",
    "            radius_unit='arcmin')\n",
    "c2 = ClCatalog('Cat2', ra=input2['RA'], dec=input2['DEC'], z=input2['Z'], mass=input2['MASS'],\n",
    "            mass_err=input2['MASS_ERR'], z_err=input2['Z_ERR'], radius=input2['RADIUS_ARCMIN'],\n",
    "            radius_unit='arcmin')"
   ]
  },
  {
   "cell_type": "markdown",
   "metadata": {},
   "source": [
    "## Add an external footprint\n",
    "Here we will get heapy pixels based on the positions of the clusters"
   ]
  },
  {
   "cell_type": "code",
   "execution_count": null,
   "metadata": {},
   "outputs": [],
   "source": [
    "nside = 64\n",
    "pixels1 = hp.ang2pix(nside, c1['ra'], c1['dec'], lonlat=True)\n",
    "pixels2 = hp.ang2pix(nside, c2['ra'], c2['dec'], lonlat=True)"
   ]
  },
  {
   "cell_type": "markdown",
   "metadata": {},
   "source": [
    "Check to see if selected pixels are correct"
   ]
  },
  {
   "cell_type": "code",
   "execution_count": null,
   "metadata": {
    "scrolled": true
   },
   "outputs": [],
   "source": [
    "from matplotlib import cm\n",
    "import copy\n",
    "cmap = copy.copy(cm.jet)\n",
    "cmap.set_under('.1')\n",
    "gcol = lambda cmap, level: '#{:02x}{:02x}{:02x}{:02x}'.format(*cmap(level,bytes=True))\n",
    "\n",
    "# Map with pixels of each catalog\n",
    "map_ = np.zeros(hp.nside2npix(nside))\n",
    "map_[pixels1] += 1\n",
    "map_[pixels2] += 2\n",
    "map_[map_==0] = np.nan\n",
    "\n",
    "f = plt.figure(figsize=(10, 10))\n",
    "hp.cartview(map_, hold=True, latra=[-10, 35], lonra=[-10, 40], cmap=cmap, cbar=False)\n",
    "ax = f.axes[0]\n",
    "ax.set_xticklabels(-ax.get_xticks())\n",
    "ax.axis('on')\n",
    "ax.scatter(-c1['ra'], c1['dec'], s=5, label='Cat 1 clusters')\n",
    "ax.scatter(-c2['ra'], c2['dec'], s=5, label='Cat 2 clusters')\n",
    "\n",
    "ax.plot(0, 0, zorder=0, color=gcol(cmap, 0.0), label='Footptint - Cat1 only')\n",
    "ax.plot(0, 0, zorder=0, color=gcol(cmap, 0.5), label='Footptint - Cat2 only')\n",
    "ax.plot(0, 0, zorder=0, color=gcol(cmap, 1.0), label='Footptint - BOTH')\n",
    "ax.legend(loc=3)"
   ]
  },
  {
   "cell_type": "markdown",
   "metadata": {},
   "source": [
    "Add them to the `Footprint` object. It also has an option of detection fraction and $z_{max}$ information."
   ]
  },
  {
   "cell_type": "code",
   "execution_count": null,
   "metadata": {},
   "outputs": [],
   "source": [
    "from clevar.footprint import Footprint\n",
    "ftpt1 = Footprint(nside=nside, pixels=list(set(pixels1)))\n",
    "ftpt2 = Footprint(nside=nside, pixels=list(set(pixels2)))"
   ]
  },
  {
   "cell_type": "markdown",
   "metadata": {},
   "source": [
    "## Use ClEvaR functions to create a footprint\n",
    "Import `create_footprint` functions to create a footprint based on a cluster catalog.\n",
    "It can create a footprint based on cluster positions with a given `NSIDE`, or compute the best `NSIDE` based on a cluster density per pixel. It also can fill holes in the footprint."
   ]
  },
  {
   "cell_type": "code",
   "execution_count": null,
   "metadata": {},
   "outputs": [],
   "source": [
    "from clevar.footprint import create_artificial_footprint"
   ]
  },
  {
   "cell_type": "markdown",
   "metadata": {},
   "source": [
    "Fixed `NSIDE`:"
   ]
  },
  {
   "cell_type": "code",
   "execution_count": null,
   "metadata": {},
   "outputs": [],
   "source": [
    "ftpt1 = create_artificial_footprint(c1['ra'], c1['dec'], nside=64)"
   ]
  },
  {
   "cell_type": "markdown",
   "metadata": {},
   "source": [
    "`NSIDE` from density:"
   ]
  },
  {
   "cell_type": "code",
   "execution_count": null,
   "metadata": {},
   "outputs": [],
   "source": [
    "ftpt1 = create_artificial_footprint(c1['ra'], c1['dec'], nside=None, min_density=4)"
   ]
  },
  {
   "cell_type": "markdown",
   "metadata": {},
   "source": [
    "fill holes"
   ]
  },
  {
   "cell_type": "code",
   "execution_count": null,
   "metadata": {},
   "outputs": [],
   "source": [
    "ftpt1 = create_artificial_footprint(c1['ra'], c1['dec'], nside=64, neighbor_fill=5)"
   ]
  },
  {
   "cell_type": "markdown",
   "metadata": {},
   "source": [
    "## Footprint masks\n",
    "Add masks to clusters regarding the footprint. The `ClCatalog` object has has 3 functions related to the footprint:\n",
    "- `add_ftpt_masks`: info for cluster in footprint\n",
    "- `add_ftpt_coverfrac`: computes cover fraction\n",
    "- `add_ftpt_coverfrac_nfw2D`: computes cover fraction weighted by a project NFW profile"
   ]
  },
  {
   "cell_type": "code",
   "execution_count": null,
   "metadata": {},
   "outputs": [],
   "source": [
    "%%time\n",
    "c1.add_ftpt_masks(ftpt1, ftpt2)\n",
    "c2.add_ftpt_masks(ftpt2, ftpt1)"
   ]
  },
  {
   "cell_type": "code",
   "execution_count": null,
   "metadata": {},
   "outputs": [],
   "source": [
    "display(c1[:4])\n",
    "display(c2[:4])"
   ]
  },
  {
   "cell_type": "markdown",
   "metadata": {},
   "source": [
    "Add coverfraction values based on the footprint. It needs a cosmology object."
   ]
  },
  {
   "cell_type": "code",
   "execution_count": null,
   "metadata": {},
   "outputs": [],
   "source": [
    "from clevar.cosmology import AstroPyCosmology\n",
    "cosmo = AstroPyCosmology()"
   ]
  },
  {
   "cell_type": "code",
   "execution_count": null,
   "metadata": {},
   "outputs": [],
   "source": [
    "%%time\n",
    "c1.add_ftpt_coverfrac_nfw2D(ftpt2, 1, 'mpc', cosmo=cosmo)\n",
    "c2.add_ftpt_coverfrac_nfw2D(ftpt1, 1, 'mpc', cosmo=cosmo)"
   ]
  },
  {
   "cell_type": "code",
   "execution_count": null,
   "metadata": {},
   "outputs": [],
   "source": [
    "display(c1[:4])\n",
    "display(c2[:4])"
   ]
  },
  {
   "cell_type": "markdown",
   "metadata": {},
   "source": [
    "## Saving and loading footprint quantities\n",
    "`ClEvaR` has internal functions to save and load these quantities into the catalog so you don't have to compute them again:"
   ]
  },
  {
   "cell_type": "code",
   "execution_count": null,
   "metadata": {},
   "outputs": [],
   "source": [
    "c1.save_footprint_quantities('cat1_ft_quantities.fits', overwrite=True)\n",
    "c1.load_footprint_quantities('cat1_ft_quantities.fits')"
   ]
  },
  {
   "cell_type": "markdown",
   "metadata": {},
   "source": [
    "# Match catalogs"
   ]
  },
  {
   "cell_type": "code",
   "execution_count": null,
   "metadata": {},
   "outputs": [],
   "source": [
    "from clevar.match import ProximityMatch"
   ]
  },
  {
   "cell_type": "code",
   "execution_count": null,
   "metadata": {},
   "outputs": [],
   "source": [
    "match_config = {\n",
    "    'type': 'cross', # options are cross, cat1, cat2\n",
    "    'which_radius': 'max', # Case of radius to be used, can be: cat1, cat2, min, max\n",
    "    'preference': 'angular_proximity', # options are more_massive, angular_proximity or redshift_proximity\n",
    "    'catalog1': {'delta_z':.2,\n",
    "                'match_radius': '1 mpc'},\n",
    "    'catalog2': {'delta_z':.2,\n",
    "                'match_radius': '10 arcsec'}\n",
    "}"
   ]
  },
  {
   "cell_type": "code",
   "execution_count": null,
   "metadata": {},
   "outputs": [],
   "source": [
    "%%time\n",
    "mt = ProximityMatch()\n",
    "mt.match_from_config(c1, c2, match_config, cosmo=cosmo)"
   ]
  },
  {
   "cell_type": "markdown",
   "metadata": {},
   "source": [
    "# Recovery rate\n",
    "Use pass the parameters `mask` (masks all clusters) or `mask_unmatched` (masks only unmatched clusters) to consider only specific clusters on the recovery rate."
   ]
  },
  {
   "cell_type": "code",
   "execution_count": null,
   "metadata": {},
   "outputs": [],
   "source": [
    "from clevar.match_metrics import recovery"
   ]
  },
  {
   "cell_type": "code",
   "execution_count": null,
   "metadata": {},
   "outputs": [],
   "source": [
    "zbins = np.linspace(0, 2, 11)\n",
    "mbins = np.logspace(13, 14, 5)"
   ]
  },
  {
   "cell_type": "code",
   "execution_count": null,
   "metadata": {},
   "outputs": [],
   "source": [
    "f, axes = plt.subplots(1, 3, figsize=(15, 5))\n",
    "recovery.plot(c1, 'cross', zbins, mbins, ax=axes[0], add_legend=False)\n",
    "recovery.plot(c1, 'cross', zbins, mbins, ax=axes[1], add_legend=False,\n",
    "              mask=c1.data['cf_nfw_1_mpc']<1)\n",
    "recovery.plot(c1, 'cross', zbins, mbins, ax=axes[2],\n",
    "              mask_unmatched=c1.data['cf_nfw_1_mpc']<1)\n",
    "for ax in axes:\n",
    "    ax.set_ylim(-.01, 1.05)\n",
    "axes[0].text(1, 1.1, 'no mask')\n",
    "axes[1].text(1, 1.1, 'mask all')\n",
    "axes[2].text(1, 1.1, 'mask unmatched')\n",
    "plt.show()"
   ]
  },
  {
   "cell_type": "markdown",
   "metadata": {},
   "source": [
    "You can check the exact numbers used on the 2D plots"
   ]
  },
  {
   "cell_type": "code",
   "execution_count": null,
   "metadata": {},
   "outputs": [],
   "source": [
    "f, axes = plt.subplots(1, 3, figsize=(20, 5))\n",
    "\n",
    "recovery.plot2D(c1, 'cross', zbins, mbins, ax=axes[0],\n",
    "                add_num=True, num_kwargs={'fontsize':12\n",
    "                                         })\n",
    "recovery.plot2D(c1, 'cross', zbins, mbins, ax=axes[1],\n",
    "                add_num=True, num_kwargs={'fontsize':12},\n",
    "               mask=c1.data['cf_nfw_1_mpc']<1)\n",
    "recovery.plot2D(c1, 'cross', zbins, mbins, ax=axes[2],\n",
    "                add_num=True, num_kwargs={'fontsize':12},\n",
    "               mask_unmatched=c1.data['cf_nfw_1_mpc']<1)\n",
    "axes[0].text(1, mbins[-1]*1.1,'no mask')\n",
    "axes[1].text(1, mbins[-1]*1.1,'mask all')\n",
    "axes[2].text(1, mbins[-1]*1.1,'mask unmatched')\n",
    "    \n",
    "plt.show()"
   ]
  }
 ],
 "metadata": {
  "kernelspec": {
   "display_name": "conda-clmmenv",
   "language": "python",
   "name": "conda-clmmenv"
  },
  "language_info": {
   "codemirror_mode": {
    "name": "ipython",
    "version": 3
   },
   "file_extension": ".py",
   "mimetype": "text/x-python",
   "name": "python",
   "nbconvert_exporter": "python",
   "pygments_lexer": "ipython3",
   "version": "3.9.2"
  }
 },
 "nbformat": 4,
 "nbformat_minor": 4
}
