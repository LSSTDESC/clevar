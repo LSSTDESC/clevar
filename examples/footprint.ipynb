{
 "cells": [
  {
   "cell_type": "markdown",
   "metadata": {},
   "source": [
    "# Footprint functionality\n",
    "Here we show how to use the footprint functionality. It is not used directly in the matching, but can be applied on the recovery rates computation"
   ]
  },
  {
   "cell_type": "markdown",
   "metadata": {
    "toc": true
   },
   "source": [
    "<h1>Table of Contents<span class=\"tocSkip\"></span></h1>\n",
    "<div class=\"toc\"><ul class=\"toc-item\"><li><span><a href=\"#Generate-random-data-and-add-to-catalog\" data-toc-modified-id=\"Generate-random-data-and-add-to-catalog-1\"><span class=\"toc-item-num\">1&nbsp;&nbsp;</span>Generate random data and add to catalog</a></span></li><li><span><a href=\"#Add-an-external-footprint\" data-toc-modified-id=\"Add-an-external-footprint-2\"><span class=\"toc-item-num\">2&nbsp;&nbsp;</span>Add an external footprint</a></span><ul class=\"toc-item\"><li><span><a href=\"#Plotting-the-footprint\" data-toc-modified-id=\"Plotting-the-footprint-2.1\"><span class=\"toc-item-num\">2.1&nbsp;&nbsp;</span>Plotting the footprint</a></span></li></ul></li><li><span><a href=\"#Use-ClEvaR-functions-to-create-a-footprint\" data-toc-modified-id=\"Use-ClEvaR-functions-to-create-a-footprint-3\"><span class=\"toc-item-num\">3&nbsp;&nbsp;</span>Use ClEvaR functions to create a footprint</a></span></li><li><span><a href=\"#Footprint-masks\" data-toc-modified-id=\"Footprint-masks-4\"><span class=\"toc-item-num\">4&nbsp;&nbsp;</span>Footprint masks</a></span></li><li><span><a href=\"#Saving-and-loading-footprint-quantities\" data-toc-modified-id=\"Saving-and-loading-footprint-quantities-5\"><span class=\"toc-item-num\">5&nbsp;&nbsp;</span>Saving and loading footprint quantities</a></span></li><li><span><a href=\"#Match-catalogs\" data-toc-modified-id=\"Match-catalogs-6\"><span class=\"toc-item-num\">6&nbsp;&nbsp;</span>Match catalogs</a></span></li><li><span><a href=\"#Recovery-rate\" data-toc-modified-id=\"Recovery-rate-7\"><span class=\"toc-item-num\">7&nbsp;&nbsp;</span>Recovery rate</a></span></li></ul></div>"
   ]
  },
  {
   "cell_type": "code",
   "execution_count": null,
   "metadata": {},
   "outputs": [],
   "source": [
    "%load_ext autoreload\n",
    "%autoreload 2"
   ]
  },
  {
   "cell_type": "code",
   "execution_count": null,
   "metadata": {},
   "outputs": [],
   "source": [
    "import numpy as np\n",
    "import pylab as plt\n",
    "import healpy as hp"
   ]
  },
  {
   "cell_type": "markdown",
   "metadata": {},
   "source": [
    "## Generate random data and add to catalog"
   ]
  },
  {
   "cell_type": "code",
   "execution_count": null,
   "metadata": {},
   "outputs": [],
   "source": [
    "# For reproducibility\n",
    "np.random.seed(1)"
   ]
  },
  {
   "cell_type": "code",
   "execution_count": null,
   "metadata": {},
   "outputs": [],
   "source": [
    "from support import gen_cluster\n",
    "input1, input2 = gen_cluster(ra_min=0, ra_max=30, dec_min=9, dec_max=30)"
   ]
  },
  {
   "cell_type": "code",
   "execution_count": null,
   "metadata": {},
   "outputs": [],
   "source": [
    "from clevar import ClCatalog\n",
    "c1 = ClCatalog('Cat1', ra=input1['RA'], dec=input1['DEC'], z=input1['Z'], mass=input1['MASS'],\n",
    "            mass_err=input1['MASS_ERR'], z_err=input1['Z_ERR'], radius=input1['RADIUS_ARCMIN'],\n",
    "            radius_unit='arcmin')\n",
    "c2 = ClCatalog('Cat2', ra=input2['RA'], dec=input2['DEC'], z=input2['Z'], mass=input2['MASS'],\n",
    "            mass_err=input2['MASS_ERR'], z_err=input2['Z_ERR'], radius=input2['RADIUS_ARCMIN'],\n",
    "            radius_unit='arcmin')\n",
    "# Format for nice display\n",
    "for c in ('ra', 'dec', 'z', 'z_err', 'radius'):\n",
    "    c1[c].info.format = '.2f'\n",
    "    c2[c].info.format = '.2f'\n",
    "for c in ('mass', 'mass_err'):\n",
    "    c1[c].info.format = '.2e'\n",
    "    c2[c].info.format = '.2e'"
   ]
  },
  {
   "cell_type": "markdown",
   "metadata": {},
   "source": [
    "## Add an external footprint\n",
    "Here we will get heapy pixels based on the positions of the clusters"
   ]
  },
  {
   "cell_type": "code",
   "execution_count": null,
   "metadata": {},
   "outputs": [],
   "source": [
    "nside = 32\n",
    "pixels1 = hp.ang2pix(nside, c1['ra'], c1['dec'], lonlat=True)\n",
    "pixels2 = hp.ang2pix(nside, c2['ra'], c2['dec'], lonlat=True)"
   ]
  },
  {
   "cell_type": "markdown",
   "metadata": {},
   "source": [
    "Check to see if selected pixels are correct"
   ]
  },
  {
   "cell_type": "code",
   "execution_count": null,
   "metadata": {
    "scrolled": true
   },
   "outputs": [],
   "source": [
    "from matplotlib import cm\n",
    "import copy\n",
    "cmap = copy.copy(cm.jet)\n",
    "cmap.set_under('.1')\n",
    "gcol = lambda cmap, level: '#{:02x}{:02x}{:02x}{:02x}'.format(*cmap(level,bytes=True))\n",
    "\n",
    "# Map with pixels of each catalog\n",
    "map_ = np.zeros(hp.nside2npix(nside))\n",
    "map_[pixels1] += 1\n",
    "map_[pixels2] += 2\n",
    "map_[map_==0] = np.nan\n",
    "\n",
    "f = plt.figure(figsize=(10, 10))\n",
    "hp.cartview(map_, hold=True, latra=[5, 35], lonra=[-5, 40], cmap=cmap, cbar=False, flip='geo')\n",
    "ax = f.axes[0]\n",
    "ax.axis('on')\n",
    "ax.scatter(c1['ra'], c1['dec'], s=5, label='Cat 1 clusters')\n",
    "ax.scatter(c2['ra'], c2['dec'], s=5, label='Cat 2 clusters')\n",
    "\n",
    "ax.plot(0, 0, zorder=0, color=gcol(cmap, 0.0), label='Footptint - Cat1 only')\n",
    "ax.plot(0, 0, zorder=0, color=gcol(cmap, 0.5), label='Footptint - Cat2 only')\n",
    "ax.plot(0, 0, zorder=0, color=gcol(cmap, 1.0), label='Footptint - BOTH')\n",
    "ax.legend(loc=3)"
   ]
  },
  {
   "cell_type": "markdown",
   "metadata": {},
   "source": [
    "Add them to the `Footprint` object. It also has an option of detection fraction and $z_{max}$ information. If not provided, a default value is set:"
   ]
  },
  {
   "cell_type": "code",
   "execution_count": null,
   "metadata": {},
   "outputs": [],
   "source": [
    "from clevar.footprint import Footprint\n",
    "# Random values for detfrac and zmax for ftpt1\n",
    "detfrac_rand, z_rand = 0.9+.1*np.random.rand(len(set(pixels1))), 0.5+.5*np.random.rand(len(set(pixels1)))\n",
    "ftpt1 = Footprint(nside=nside, pixels=list(set(pixels1)),\n",
    "                  detfrac=detfrac_rand, zmax=z_rand)\n",
    "ftpt2 = Footprint(nside=nside, pixels=list(set(pixels2)))"
   ]
  },
  {
   "cell_type": "code",
   "execution_count": null,
   "metadata": {},
   "outputs": [],
   "source": [
    "f, axes = plt.subplots(1, 2)\n",
    "\n",
    "bins = np.linspace(0.85, 1.05, 41)\n",
    "axes[0].hist(ftpt1['detfrac'], bins=bins, label='ftpt1')\n",
    "axes[0].hist(ftpt2['detfrac'], bins=bins, histtype='step', label='ftpt2')\n",
    "axes[0].legend()\n",
    "axes[0].set_xlabel('detfrac')\n",
    "axes[0].set_yscale('log')\n",
    "\n",
    "bins = np.append(np.linspace(0.5, 1.0, 11), [99, 100])\n",
    "axes[1].hist(ftpt1['zmax'], bins=bins)\n",
    "axes[1].hist(ftpt2['zmax'], bins=bins, histtype='step')\n",
    "axes[1].set_xlabel('zmax')\n",
    "axes[1].set_xscale('log')\n",
    "axes[1].set_yscale('log')"
   ]
  },
  {
   "cell_type": "markdown",
   "metadata": {},
   "source": [
    "### Plotting the footprint\n",
    "The footprints have an inbuilt function to plot their values"
   ]
  },
  {
   "cell_type": "code",
   "execution_count": null,
   "metadata": {},
   "outputs": [],
   "source": [
    "f = ftpt1.plot('detfrac', bad_val=np.nan, auto_lim=True)\n",
    "f = ftpt1.plot('zmax', bad_val=np.nan, auto_lim=True)"
   ]
  },
  {
   "cell_type": "markdown",
   "metadata": {},
   "source": [
    "Clusters can also be added to the plot with their actual angular size:"
   ]
  },
  {
   "cell_type": "code",
   "execution_count": null,
   "metadata": {},
   "outputs": [],
   "source": [
    "f = ftpt1.plot('detfrac', bad_val=np.nan,\n",
    "               ra_lim=[3, 8], dec_lim=[10, 15],\n",
    "               cluster=c1)"
   ]
  },
  {
   "cell_type": "markdown",
   "metadata": {},
   "source": [
    "## Use ClEvaR functions to create a footprint\n",
    "Import `create_footprint` functions to create a footprint based on a cluster catalog.\n",
    "It can create a footprint based on cluster positions with a given `NSIDE`, or compute the best `NSIDE` based on a cluster density per pixel. It also can fill holes in the footprint."
   ]
  },
  {
   "cell_type": "code",
   "execution_count": null,
   "metadata": {},
   "outputs": [],
   "source": [
    "from clevar.footprint import create_artificial_footprint"
   ]
  },
  {
   "cell_type": "markdown",
   "metadata": {},
   "source": [
    "Fixed `NSIDE`:"
   ]
  },
  {
   "cell_type": "code",
   "execution_count": null,
   "metadata": {},
   "outputs": [],
   "source": [
    "ftpt1 = create_artificial_footprint(c1['ra'], c1['dec'], nside=64)"
   ]
  },
  {
   "cell_type": "markdown",
   "metadata": {},
   "source": [
    "`NSIDE` from density:"
   ]
  },
  {
   "cell_type": "code",
   "execution_count": null,
   "metadata": {},
   "outputs": [],
   "source": [
    "ftpt1 = create_artificial_footprint(c1['ra'], c1['dec'], nside=None, min_density=4)"
   ]
  },
  {
   "cell_type": "markdown",
   "metadata": {},
   "source": [
    "fill holes"
   ]
  },
  {
   "cell_type": "code",
   "execution_count": null,
   "metadata": {},
   "outputs": [],
   "source": [
    "ftpt1 = create_artificial_footprint(c1['ra'], c1['dec'], nside=64, neighbor_fill=5)"
   ]
  },
  {
   "cell_type": "code",
   "execution_count": null,
   "metadata": {},
   "outputs": [],
   "source": [
    "f = ftpt1.plot('detfrac', np.nan,  latra=[5, 35], lonra=[-5, 40])"
   ]
  },
  {
   "cell_type": "code",
   "execution_count": null,
   "metadata": {},
   "outputs": [],
   "source": [
    "ra, dec = hp.pix2ang(128, np.arange(hp.nside2npix(128)), lonlat=True)\n",
    "ra.min(), ra.max(), dec.min(), dec.max()"
   ]
  },
  {
   "cell_type": "markdown",
   "metadata": {},
   "source": [
    "## Footprint masks\n",
    "Add masks to clusters regarding the footprint. The `ClCatalog` object has has 3 functions related to the footprint:\n",
    "- `add_ftpt_masks`: info for cluster in footprint\n",
    "- `add_ftpt_coverfrac`: computes cover fraction\n",
    "- `add_ftpt_coverfrac_nfw2D`: computes cover fraction weighted by a project NFW profile"
   ]
  },
  {
   "cell_type": "code",
   "execution_count": null,
   "metadata": {},
   "outputs": [],
   "source": [
    "%%time\n",
    "c1.add_ftpt_masks(ftpt1, ftpt2)\n",
    "c2.add_ftpt_masks(ftpt2, ftpt1)"
   ]
  },
  {
   "cell_type": "code",
   "execution_count": null,
   "metadata": {},
   "outputs": [],
   "source": [
    "display(c1[:4])\n",
    "display(c2[:4])"
   ]
  },
  {
   "cell_type": "markdown",
   "metadata": {},
   "source": [
    "Add coverfraction values based on the footprint. It needs a cosmology object."
   ]
  },
  {
   "cell_type": "code",
   "execution_count": null,
   "metadata": {},
   "outputs": [],
   "source": [
    "from clevar.cosmology import AstroPyCosmology\n",
    "cosmo = AstroPyCosmology()"
   ]
  },
  {
   "cell_type": "code",
   "execution_count": null,
   "metadata": {},
   "outputs": [],
   "source": [
    "%%time\n",
    "c1.add_ftpt_coverfrac(ftpt2, 1, 'mpc', cosmo=cosmo, window='flat')\n",
    "c1.add_ftpt_coverfrac(ftpt2, 1, 'mpc', cosmo=cosmo, window='nfw2D')\n",
    "c2.add_ftpt_coverfrac(ftpt1, 1, 'mpc', cosmo=cosmo, window='nfw2D')"
   ]
  },
  {
   "cell_type": "code",
   "execution_count": null,
   "metadata": {},
   "outputs": [],
   "source": [
    "display(c1[:4])\n",
    "display(c2[:4])"
   ]
  },
  {
   "cell_type": "markdown",
   "metadata": {},
   "source": [
    "## Saving and loading footprint quantities\n",
    "`ClEvaR` has internal functions to save and load these quantities into the catalog so you don't have to compute them again:"
   ]
  },
  {
   "cell_type": "code",
   "execution_count": null,
   "metadata": {},
   "outputs": [],
   "source": [
    "c1.save_footprint_quantities('cat1_ft_quantities.fits', overwrite=True)\n",
    "c1.load_footprint_quantities('cat1_ft_quantities.fits')"
   ]
  },
  {
   "cell_type": "markdown",
   "metadata": {},
   "source": [
    "## Match catalogs"
   ]
  },
  {
   "cell_type": "code",
   "execution_count": null,
   "metadata": {},
   "outputs": [],
   "source": [
    "from clevar.match import ProximityMatch"
   ]
  },
  {
   "cell_type": "code",
   "execution_count": null,
   "metadata": {},
   "outputs": [],
   "source": [
    "match_config = {\n",
    "    'type': 'cross', # options are cross, cat1, cat2\n",
    "    'which_radius': 'max', # Case of radius to be used, can be: cat1, cat2, min, max\n",
    "    'preference': 'angular_proximity', # options are more_massive, angular_proximity or redshift_proximity\n",
    "    'catalog1': {'delta_z':.2,\n",
    "                'match_radius': '1 mpc'},\n",
    "    'catalog2': {'delta_z':.2,\n",
    "                'match_radius': '10 arcsec'}\n",
    "}"
   ]
  },
  {
   "cell_type": "code",
   "execution_count": null,
   "metadata": {},
   "outputs": [],
   "source": [
    "%%time\n",
    "mt = ProximityMatch()\n",
    "mt.match_from_config(c1, c2, match_config, cosmo=cosmo)"
   ]
  },
  {
   "cell_type": "markdown",
   "metadata": {},
   "source": [
    "## Recovery rate\n",
    "Use pass the parameters `mask` (masks all clusters) or `mask_unmatched` (masks only unmatched clusters) to consider only specific clusters on the recovery rate."
   ]
  },
  {
   "cell_type": "code",
   "execution_count": null,
   "metadata": {},
   "outputs": [],
   "source": [
    "from clevar.match_metrics import recovery"
   ]
  },
  {
   "cell_type": "code",
   "execution_count": null,
   "metadata": {},
   "outputs": [],
   "source": [
    "zbins = np.linspace(0, 2, 11)\n",
    "mbins = np.logspace(13, 14, 5)"
   ]
  },
  {
   "cell_type": "code",
   "execution_count": null,
   "metadata": {},
   "outputs": [],
   "source": [
    "f, axes = plt.subplots(1, 3, figsize=(15, 5))\n",
    "recovery.plot(c1, 'cross', zbins, mbins, ax=axes[0], add_legend=False)\n",
    "recovery.plot(c1, 'cross', zbins, mbins, ax=axes[1], add_legend=False,\n",
    "              mask=c1.data['cf_nfw_1_mpc']<1)\n",
    "recovery.plot(c1, 'cross', zbins, mbins, ax=axes[2],\n",
    "              mask_unmatched=c1.data['cf_nfw_1_mpc']<1)\n",
    "for ax in axes:\n",
    "    ax.set_ylim(-.01, 1.05)\n",
    "axes[0].text(1, 1.1, 'no mask')\n",
    "axes[1].text(1, 1.1, 'mask all')\n",
    "axes[2].text(1, 1.1, 'mask unmatched')\n",
    "plt.show()"
   ]
  },
  {
   "cell_type": "markdown",
   "metadata": {},
   "source": [
    "You can check the exact numbers used on the 2D plots"
   ]
  },
  {
   "cell_type": "code",
   "execution_count": null,
   "metadata": {},
   "outputs": [],
   "source": [
    "f, axes = plt.subplots(1, 3, figsize=(20, 5))\n",
    "\n",
    "recovery.plot2D(c1, 'cross', zbins, mbins, ax=axes[0],\n",
    "                add_num=True, num_kwargs={'fontsize':12\n",
    "                                         })\n",
    "recovery.plot2D(c1, 'cross', zbins, mbins, ax=axes[1],\n",
    "                add_num=True, num_kwargs={'fontsize':12},\n",
    "               mask=c1.data['cf_nfw_1_mpc']<1)\n",
    "recovery.plot2D(c1, 'cross', zbins, mbins, ax=axes[2],\n",
    "                add_num=True, num_kwargs={'fontsize':12},\n",
    "               mask_unmatched=c1.data['cf_nfw_1_mpc']<1)\n",
    "axes[0].text(1, mbins[-1]*1.1,'no mask')\n",
    "axes[1].text(1, mbins[-1]*1.1,'mask all')\n",
    "axes[2].text(1, mbins[-1]*1.1,'mask unmatched')\n",
    "    \n",
    "plt.show()"
   ]
  }
 ],
 "metadata": {
  "kernelspec": {
   "display_name": "",
   "language": "python",
   "name": ""
  },
  "language_info": {
   "codemirror_mode": {
    "name": "ipython",
    "version": 3
   },
   "file_extension": ".py",
   "mimetype": "text/x-python",
   "name": "python",
   "nbconvert_exporter": "python",
   "pygments_lexer": "ipython3",
   "version": "3.9.2"
  },
  "toc": {
   "base_numbering": 1,
   "nav_menu": {},
   "number_sections": true,
   "sideBar": true,
   "skip_h1_title": true,
   "title_cell": "Table of Contents",
   "title_sidebar": "Contents",
   "toc_cell": true,
   "toc_position": {},
   "toc_section_display": true,
   "toc_window_display": false
  }
 },
 "nbformat": 4,
 "nbformat_minor": 4
}
