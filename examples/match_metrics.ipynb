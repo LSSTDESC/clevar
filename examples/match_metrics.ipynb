{
 "cells": [
  {
   "cell_type": "markdown",
   "metadata": {},
   "source": [
    "# Metrics of matching (simple)\n",
    "Example of the functions to plot match_metrics of matching."
   ]
  },
  {
   "cell_type": "code",
   "execution_count": null,
   "metadata": {},
   "outputs": [],
   "source": [
    "%load_ext autoreload\n",
    "%autoreload 2"
   ]
  },
  {
   "cell_type": "code",
   "execution_count": null,
   "metadata": {},
   "outputs": [],
   "source": [
    "import numpy as np\n",
    "import pylab as plt"
   ]
  },
  {
   "cell_type": "markdown",
   "metadata": {},
   "source": [
    "## Generate random data and add to catalog"
   ]
  },
  {
   "cell_type": "code",
   "execution_count": null,
   "metadata": {},
   "outputs": [],
   "source": [
    "# For reproducibility\n",
    "np.random.seed(1)"
   ]
  },
  {
   "cell_type": "code",
   "execution_count": null,
   "metadata": {},
   "outputs": [],
   "source": [
    "from support import gen_cluster\n",
    "input1, input2 = gen_cluster()"
   ]
  },
  {
   "cell_type": "code",
   "execution_count": null,
   "metadata": {},
   "outputs": [],
   "source": [
    "from clevar import ClCatalog\n",
    "c1 = ClCatalog('Cat1', ra=input1['RA'], dec=input1['DEC'], z=input1['Z'], mass=input1['MASS'],\n",
    "            mass_err=input1['MASS_ERR'], z_err=input1['Z_ERR'])\n",
    "c2 = ClCatalog('Cat2', ra=input2['RA'], dec=input2['DEC'], z=input2['Z'], mass=input2['MASS'],\n",
    "            mass_err=input2['MASS_ERR'], z_err=input2['Z_ERR'])\n",
    "# Format for nice display\n",
    "for c in ('ra', 'dec', 'z', 'z_err'):\n",
    "    c1[c].info.format = '.2f'\n",
    "    c2[c].info.format = '.2f'\n",
    "for c in ('mass', 'mass_err'):\n",
    "    c1[c].info.format = '.2e'\n",
    "    c2[c].info.format = '.2e'"
   ]
  },
  {
   "cell_type": "markdown",
   "metadata": {},
   "source": [
    "## Match catalogs"
   ]
  },
  {
   "cell_type": "code",
   "execution_count": null,
   "metadata": {},
   "outputs": [],
   "source": [
    "from clevar.match import ProximityMatch\n",
    "from clevar.cosmology import AstroPyCosmology\n",
    "\n",
    "match_config = {\n",
    "    'type': 'cross', # options are cross, cat1, cat2\n",
    "    'which_radius': 'max', # Case of radius to be used, can be: cat1, cat2, min, max\n",
    "    'preference': 'angular_proximity', # options are more_massive, angular_proximity or redshift_proximity\n",
    "    'catalog1': {'delta_z':.2,\n",
    "                'match_radius': '1 mpc'\n",
    "                },\n",
    "    'catalog2': {'delta_z':.2,\n",
    "                'match_radius': '10 arcsec'\n",
    "                }\n",
    "}\n",
    "\n",
    "cosmo = AstroPyCosmology()\n",
    "mt = ProximityMatch()\n",
    "mt.match_from_config(c1, c2, match_config, cosmo=cosmo)"
   ]
  },
  {
   "cell_type": "markdown",
   "metadata": {},
   "source": [
    "## Recovery rate\n",
    "Compute recovery rates, they are computed in mass and redshift bins. There are several ways they can be displayed:\n",
    "- Single panel with multiple lines\n",
    "- Multiple panels\n",
    "- 2D color map"
   ]
  },
  {
   "cell_type": "code",
   "execution_count": null,
   "metadata": {},
   "outputs": [],
   "source": [
    "from clevar.match_metrics import recovery"
   ]
  },
  {
   "cell_type": "code",
   "execution_count": null,
   "metadata": {},
   "outputs": [],
   "source": [
    "zbins = np.linspace(0, 2, 6)\n",
    "mbins = np.logspace(13, 14, 5)"
   ]
  },
  {
   "cell_type": "markdown",
   "metadata": {},
   "source": [
    "### Simple plot\n",
    "The recovery rates are shown as a function of redshift in mass bins.\n",
    "They can be displayed as a continuous line or with steps:"
   ]
  },
  {
   "cell_type": "code",
   "execution_count": null,
   "metadata": {},
   "outputs": [],
   "source": [
    "ax = recovery.plot(c1, 'cross', zbins, mbins)\n",
    "plt.show()\n",
    "ax = recovery.plot(c1, 'cross', zbins, mbins, shape='line')\n",
    "plt.show()"
   ]
  },
  {
   "cell_type": "markdown",
   "metadata": {},
   "source": [
    "They can also be transposed to be shown as a function of mass in redshift bins."
   ]
  },
  {
   "cell_type": "code",
   "execution_count": null,
   "metadata": {},
   "outputs": [],
   "source": [
    "ax = recovery.plot(c1, 'cross', zbins, mbins,\n",
    "              shape='line', transpose=True)"
   ]
  },
  {
   "cell_type": "markdown",
   "metadata": {
    "scrolled": true
   },
   "source": [
    "### Panels plots\n",
    "You can also have a panel for each bin:"
   ]
  },
  {
   "cell_type": "code",
   "execution_count": null,
   "metadata": {},
   "outputs": [],
   "source": [
    "f, axes = recovery.plot_panel(c1, 'cross', zbins, mbins)\n",
    "f, axes = recovery.plot_panel(c1, 'cross', zbins, mbins, transpose=True)"
   ]
  },
  {
   "cell_type": "markdown",
   "metadata": {},
   "source": [
    "### 2D plots"
   ]
  },
  {
   "cell_type": "code",
   "execution_count": null,
   "metadata": {},
   "outputs": [],
   "source": [
    "ax = recovery.plot2D(c1, 'cross', zbins, mbins)\n",
    "plt.show()\n",
    "ax = recovery.plot2D(c1, 'cross', zbins, mbins,\n",
    "                add_num=True, num_kwargs={'fontsize':15})"
   ]
  },
  {
   "cell_type": "markdown",
   "metadata": {},
   "source": [
    "## Distances of matching\n",
    "Here we evaluate the distance between the cluster centers and their redshifts. These distances can be shown for all matched clusters, or in bins:"
   ]
  },
  {
   "cell_type": "code",
   "execution_count": null,
   "metadata": {},
   "outputs": [],
   "source": [
    "from clevar.match_metrics import distances"
   ]
  },
  {
   "cell_type": "code",
   "execution_count": null,
   "metadata": {},
   "outputs": [],
   "source": [
    "ax = distances.central_position(c1, c2, 'cross', radial_bins=20, radial_bin_units='degrees')"
   ]
  },
  {
   "cell_type": "code",
   "execution_count": null,
   "metadata": {},
   "outputs": [],
   "source": [
    "ax = distances.central_position(c1, c2, 'cross', radial_bins=20, radial_bin_units='degrees',\n",
    "                                quantity_bins='mass', bins=mbins, log_quantity=True)"
   ]
  },
  {
   "cell_type": "code",
   "execution_count": null,
   "metadata": {},
   "outputs": [],
   "source": [
    "ax = distances.central_position(c1, c2, 'cross', radial_bins=20, radial_bin_units='degrees',\n",
    "                                quantity_bins='z', bins=zbins[::2], log_quantity=False)"
   ]
  },
  {
   "cell_type": "code",
   "execution_count": null,
   "metadata": {},
   "outputs": [],
   "source": [
    "ax = distances.redshift(c1, c2, 'cross', redshift_bins=20, normalize='cat1')"
   ]
  },
  {
   "cell_type": "code",
   "execution_count": null,
   "metadata": {},
   "outputs": [],
   "source": [
    "ax = distances.redshift(c1, c2, 'cross', redshift_bins=20, normalize='cat1',\n",
    "                        quantity_bins='mass', bins=mbins, log_quantity=True)"
   ]
  },
  {
   "cell_type": "code",
   "execution_count": null,
   "metadata": {},
   "outputs": [],
   "source": [
    "ax = distances.redshift(c1, c2, 'cross', redshift_bins=20, normalize='cat1',\n",
    "                        quantity_bins='z', bins=zbins[::2], log_quantity=False)"
   ]
  },
  {
   "cell_type": "markdown",
   "metadata": {},
   "source": [
    "## Scaling Relations"
   ]
  },
  {
   "cell_type": "code",
   "execution_count": null,
   "metadata": {},
   "outputs": [],
   "source": [
    "from clevar.match_metrics import scaling"
   ]
  },
  {
   "cell_type": "markdown",
   "metadata": {},
   "source": [
    "### Redshift plots"
   ]
  },
  {
   "cell_type": "markdown",
   "metadata": {},
   "source": [
    "#### Simple plot"
   ]
  },
  {
   "cell_type": "code",
   "execution_count": null,
   "metadata": {},
   "outputs": [],
   "source": [
    "ax = scaling.redshift(c1, c2, 'cross')"
   ]
  },
  {
   "cell_type": "markdown",
   "metadata": {},
   "source": [
    "#### Color points by $\\log(M)$ value"
   ]
  },
  {
   "cell_type": "code",
   "execution_count": null,
   "metadata": {},
   "outputs": [],
   "source": [
    "ax, cb = scaling.redshift_masscolor(c1, c2, 'cross', add_err=True)"
   ]
  },
  {
   "cell_type": "markdown",
   "metadata": {},
   "source": [
    "#### Color points by density at plot"
   ]
  },
  {
   "cell_type": "code",
   "execution_count": null,
   "metadata": {},
   "outputs": [],
   "source": [
    "ax, cb = scaling.redshift_density(c1, c2, 'cross', add_err=True)"
   ]
  },
  {
   "cell_type": "code",
   "execution_count": null,
   "metadata": {},
   "outputs": [],
   "source": [
    "ax, cb = scaling.redshift_density(c1, c2, 'cross', ax_rotation=45)"
   ]
  },
  {
   "cell_type": "markdown",
   "metadata": {},
   "source": [
    "#### Evaluate metrics of the distribution"
   ]
  },
  {
   "cell_type": "code",
   "execution_count": null,
   "metadata": {},
   "outputs": [],
   "source": [
    "fig, axes = scaling.redshift_metrics(c1, c2, 'cross')"
   ]
  },
  {
   "cell_type": "code",
   "execution_count": null,
   "metadata": {},
   "outputs": [],
   "source": [
    "fig, axes = scaling.redshift_density_metrics(c1, c2, 'cross', ax_rotation=45)"
   ]
  },
  {
   "cell_type": "markdown",
   "metadata": {},
   "source": [
    "#### Split data into mass bins"
   ]
  },
  {
   "cell_type": "code",
   "execution_count": null,
   "metadata": {},
   "outputs": [],
   "source": [
    "fig, axes = scaling.redshift_masspanel(c1, c2, 'cross', add_err=True)"
   ]
  },
  {
   "cell_type": "markdown",
   "metadata": {},
   "source": [
    "#### Split data into mass bins and color by density"
   ]
  },
  {
   "cell_type": "code",
   "execution_count": null,
   "metadata": {},
   "outputs": [],
   "source": [
    "fig, axes = scaling.redshift_density_masspanel(c1, c2, 'cross', add_err=True)"
   ]
  },
  {
   "cell_type": "markdown",
   "metadata": {},
   "source": [
    "#### Evaluate the distribution\n",
    "See how the distribution of mass happens in each bin for one of the catalogs"
   ]
  },
  {
   "cell_type": "code",
   "execution_count": null,
   "metadata": {},
   "outputs": [],
   "source": [
    "%%time\n",
    "fig, axes = scaling.redshift_dist_self(c2, redshift_bins_dist=21,\n",
    "                              mass_bins=[10**13.0, 10**13.2, 10**13.5, 1e15],\n",
    "                              redshift_bins=4, shape='line',\n",
    "                              fig_kwargs={'figsize':(15, 6)})"
   ]
  },
  {
   "cell_type": "markdown",
   "metadata": {},
   "source": [
    "Compare with the distribution on the other catalog"
   ]
  },
  {
   "cell_type": "code",
   "execution_count": null,
   "metadata": {},
   "outputs": [],
   "source": [
    "%%time\n",
    "fig, axes = scaling.redshift_dist(c1, c2, 'cross', redshift_bins_dist=21,\n",
    "                              mass_bins=[10**13.0, 10**13.2, 10**13.5, 1e15],\n",
    "                              redshift_bins=4, shape='line',\n",
    "                              fig_kwargs={'figsize':(15, 6)})"
   ]
  },
  {
   "cell_type": "markdown",
   "metadata": {},
   "source": [
    "### Mass plots"
   ]
  },
  {
   "cell_type": "markdown",
   "metadata": {},
   "source": [
    "#### Simple plot"
   ]
  },
  {
   "cell_type": "code",
   "execution_count": null,
   "metadata": {},
   "outputs": [],
   "source": [
    "ax = scaling.mass(c1, c2, 'cross', add_err=True, add_fit=True, fit_bins1=30)"
   ]
  },
  {
   "cell_type": "markdown",
   "metadata": {},
   "source": [
    "#### Color points by redshift value"
   ]
  },
  {
   "cell_type": "code",
   "execution_count": null,
   "metadata": {},
   "outputs": [],
   "source": [
    "ax, cb = scaling.mass_zcolor(c1, c2, 'cross', add_err=True)"
   ]
  },
  {
   "cell_type": "markdown",
   "metadata": {},
   "source": [
    "#### Color points by density at plot"
   ]
  },
  {
   "cell_type": "code",
   "execution_count": null,
   "metadata": {},
   "outputs": [],
   "source": [
    "ax, cb = scaling.mass_density(c1, c2, 'cross', add_err=True)"
   ]
  },
  {
   "cell_type": "markdown",
   "metadata": {},
   "source": [
    "#### Split data into redshift bins"
   ]
  },
  {
   "cell_type": "code",
   "execution_count": null,
   "metadata": {},
   "outputs": [],
   "source": [
    "fig, axes = scaling.mass_zpanel(c1, c2, 'cross', add_err=True)"
   ]
  },
  {
   "cell_type": "markdown",
   "metadata": {},
   "source": [
    "#### Split data into redshift bins and color by density"
   ]
  },
  {
   "cell_type": "code",
   "execution_count": null,
   "metadata": {},
   "outputs": [],
   "source": [
    "fig, axes = scaling.mass_density_zpanel(c1, c2, 'cross', add_err=True)"
   ]
  },
  {
   "cell_type": "markdown",
   "metadata": {},
   "source": [
    "#### Evaluate metrics of the distribution"
   ]
  },
  {
   "cell_type": "code",
   "execution_count": null,
   "metadata": {},
   "outputs": [],
   "source": [
    "fig, axes = scaling.mass_metrics(c1, c2, 'cross')"
   ]
  },
  {
   "cell_type": "code",
   "execution_count": null,
   "metadata": {},
   "outputs": [],
   "source": [
    "fig, axes = scaling.mass_density_metrics(c1, c2, 'cross', ax_rotation=45)"
   ]
  },
  {
   "cell_type": "markdown",
   "metadata": {},
   "source": [
    "#### Evaluate the distribution\n",
    "See how the distribution of mass happens in each bin for one of the catalogs"
   ]
  },
  {
   "cell_type": "code",
   "execution_count": null,
   "metadata": {},
   "outputs": [],
   "source": [
    "%%time\n",
    "fig, axes = scaling.mass_dist_self(c2, mass_bins_dist=21,\n",
    "                              mass_bins=[10**13.0, 10**13.2, 10**13.5, 1e14, 1e15],\n",
    "                              redshift_bins=4, shape='line',\n",
    "                              fig_kwargs={'figsize':(15, 6)})"
   ]
  },
  {
   "cell_type": "markdown",
   "metadata": {},
   "source": [
    "Compare with the distribution on the other catalog"
   ]
  },
  {
   "cell_type": "code",
   "execution_count": null,
   "metadata": {},
   "outputs": [],
   "source": [
    "%%time\n",
    "fig, axes = scaling.mass_dist(c1, c2, 'cross', mass_bins_dist=21,\n",
    "                              mass_bins=[10**13.0, 10**13.2, 10**13.5, 1e14, 1e15],\n",
    "                              redshift_bins=4, shape='line',\n",
    "                              fig_kwargs={'figsize':(15, 6)})"
   ]
  }
 ],
 "metadata": {
  "kernelspec": {
   "display_name": "",
   "language": "python",
   "name": ""
  },
  "language_info": {
   "codemirror_mode": {
    "name": "ipython",
    "version": 3
   },
   "file_extension": ".py",
   "mimetype": "text/x-python",
   "name": "python",
   "nbconvert_exporter": "python",
   "pygments_lexer": "ipython3",
   "version": "3.9.2"
  }
 },
 "nbformat": 4,
 "nbformat_minor": 4
}
