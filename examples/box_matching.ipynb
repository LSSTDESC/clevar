{
 "cells": [
  {
   "cell_type": "markdown",
   "metadata": {},
   "source": [
    "# Matching catalogs based on square boxes (simple)\n",
    "Matching two catalogs based on boxes based on a configuration dictionary"
   ]
  },
  {
   "cell_type": "code",
   "execution_count": null,
   "metadata": {},
   "outputs": [],
   "source": [
    "%load_ext autoreload\n",
    "%autoreload 2"
   ]
  },
  {
   "cell_type": "markdown",
   "metadata": {},
   "source": [
    "## ClCatalogs\n",
    "Given some input data"
   ]
  },
  {
   "cell_type": "code",
   "execution_count": null,
   "metadata": {},
   "outputs": [],
   "source": [
    "import numpy as np\n",
    "from astropy.table import Table\n",
    "\n",
    "input1 = Table(\n",
    "    {\n",
    "        \"ID\": [f\"CL{i}\" for i in range(5)],\n",
    "        \"RA\": [0.0, 0.0001, 0.00011, 25, 20],\n",
    "        \"DEC\": [0.0, 0.0, 0.0, 0.0, 0.0],\n",
    "        \"Z\": [0.2, 0.3, 0.25, 0.4, 0.35],\n",
    "        \"MASS\": [10**13.5, 10**13.5, 10**13.3, 10**13.8, 10**14],\n",
    "    }\n",
    ")\n",
    "input2 = Table(\n",
    "    {\n",
    "        \"ID\": [\"CL0\", \"CL1\", \"CL2\", \"CL3\"],\n",
    "        \"RA\": [0.0, 0.0001, 0.00011, 25],\n",
    "        \"DEC\": [0.0, 0, 0, 0],\n",
    "        \"Z\": [0.3, 0.2, 0.25, 0.4],\n",
    "        \"MASS\": [10**13.3, 10**13.4, 10**13.5, 10**13.8],\n",
    "    }\n",
    ")\n",
    "for col in (\"RA\", \"DEC\"):\n",
    "    input1[f\"{col}_MAX\"] = input1[col] + 0.01\n",
    "    input1[f\"{col}_MIN\"] = input1[col] - 0.01\n",
    "    input2[f\"{col}_MAX\"] = input2[col] + 0.01\n",
    "    input2[f\"{col}_MIN\"] = input2[col] - 0.01\n",
    "display(input1)\n",
    "display(input2)"
   ]
  },
  {
   "cell_type": "markdown",
   "metadata": {},
   "source": [
    "Create two `ClCatalog` objects, they have the same properties of `astropy` tables with additional functionality. You can tag the main properties of the catalog, or have columns with those names (see `catalogs.ipynb` for detailts). For the box matching, the main tags/columns to be included are:\n",
    "- `id` - if not included, one will be assigned\n",
    "- `ra_min`, `ra_max` (in degrees) - necessary\n",
    "- `dec_min`, `dec_max` (in degrees) - necessary\n",
    "- `z` - necessary if used as matching criteria"
   ]
  },
  {
   "cell_type": "code",
   "execution_count": null,
   "metadata": {},
   "outputs": [],
   "source": [
    "from clevar.catalog import ClCatalog\n",
    "\n",
    "tags = {\"id\": \"ID\", \"ra\": \"RA\", \"dec\": \"DEC\", \"z\": \"Z\", \"mass\": \"MASS\"}\n",
    "c1 = ClCatalog(\"Cat1\", data=input1, tags=tags)\n",
    "c2 = ClCatalog(\"Cat2\", data=input2, tags=tags)\n",
    "\n",
    "# Format for nice display\n",
    "for c in (\"ra\", \"dec\", \"z\", \"ra_min\", \"dec_min\", \"ra_max\", \"dec_max\"):\n",
    "    c1[c].info.format = \".2f\"\n",
    "    c2[c].info.format = \".2f\"\n",
    "for c in (\"mass\",):\n",
    "    c1[c].info.format = \".2e\"\n",
    "    c2[c].info.format = \".2e\"\n",
    "display(c1)\n",
    "display(c2)"
   ]
  },
  {
   "cell_type": "markdown",
   "metadata": {},
   "source": [
    "The `ClCatalog` object can also be read directly from a file,\n",
    "for details, see <a href='catalogs.ipynb'>catalogs.ipynb</a>."
   ]
  },
  {
   "cell_type": "markdown",
   "metadata": {},
   "source": [
    "## Matching\n",
    "Import the `BoxMatch` and create a object for matching"
   ]
  },
  {
   "cell_type": "code",
   "execution_count": null,
   "metadata": {},
   "outputs": [],
   "source": [
    "from clevar.match import BoxMatch\n",
    "\n",
    "mt = BoxMatch()"
   ]
  },
  {
   "cell_type": "markdown",
   "metadata": {},
   "source": [
    "Prepare the configuration. The main values are:\n",
    "\n",
    "- `type`: Type of matching to be considered. Can be a simple match of ClCatalog1->ClCatalog2 (`cat1`), ClCatalog2->ClCatalog1 (`cat2`) or cross matching.\n",
    "- `metric`: Metric to be used for matching. Can be: `GIoU` (generalized Intersection over Union); `IoA*` (Intersection over Area, with area choice in [`min`, `max`, `self`, `other`]);\n",
    "- `metric_cut`: Minimum value of metric for match.\n",
    "- `rel_area`: Minimum relative size of area for match.\n",
    "- `preference`: In cases where there are multiple matched, how the best candidate will be chosen. Options are: `'more_massive'`, `'angular_proximity'`, `'redshift_proximity'`, `'shared_member_fraction'`, `'GIoU'` (generalized Intersection over Union), `'IoA*'` (Intersection over Area, with area choice in `min`, `max`, `self`, `other`).\n",
    "\n",
    "- `verbose`: Print result for individual matches (default=`True`).\n",
    "\n",
    "We also need to provide some specific configuration for each catalog with:\n",
    "\n",
    "- `delta_z`: Defines redshift window for matching. The possible values are:\n",
    "  - `'cat'`: uses redshift properties of the catalog\n",
    "  - `'spline.filename'`: interpolates data in `'filename'` assuming (z, zmin, zmax) format\n",
    "  - `float`: uses `delta_z*(1+z)`\n",
    "  - `None`: does not use z"
   ]
  },
  {
   "cell_type": "code",
   "execution_count": null,
   "metadata": {},
   "outputs": [],
   "source": [
    "match_config = {\n",
    "    \"type\": \"cross\",  # options are cross, cat1, cat2\n",
    "    \"preference\": \"GIoU\",\n",
    "    \"catalog1\": {\"delta_z\": None},\n",
    "    \"catalog2\": {\"delta_z\": None},\n",
    "}"
   ]
  },
  {
   "cell_type": "markdown",
   "metadata": {},
   "source": [
    "Once the configuration is prepared, the whole process can be done with one call:"
   ]
  },
  {
   "cell_type": "code",
   "execution_count": null,
   "metadata": {},
   "outputs": [],
   "source": [
    "%%time\n",
    "mt.match_from_config(c1, c2, match_config)"
   ]
  },
  {
   "cell_type": "markdown",
   "metadata": {},
   "source": [
    "This will fill the matching columns in the catalogs:\n",
    "- `mt_multi_self`: Multiple matches found\n",
    "- `mt_multi_other`: Multiple matches found by the other catalog\n",
    "- `mt_self`: Best candidate found\n",
    "- `mt_other`: Best candidate found by the other catalog\n",
    "- `mt_cross`: Best candidate found in both directions\n",
    "\n",
    "If `preference` in (`GIoU`, `IoA*`), it also add the value of `mt_self_preference` and `mt_other_preference`."
   ]
  },
  {
   "cell_type": "code",
   "execution_count": null,
   "metadata": {},
   "outputs": [],
   "source": [
    "display(c1)\n",
    "display(c2)"
   ]
  },
  {
   "cell_type": "markdown",
   "metadata": {},
   "source": [
    "The steps of matching are stored in the catalogs and can be checked:"
   ]
  },
  {
   "cell_type": "code",
   "execution_count": null,
   "metadata": {},
   "outputs": [],
   "source": [
    "c1.show_mt_hist()"
   ]
  },
  {
   "cell_type": "markdown",
   "metadata": {},
   "source": [
    "## Save and Load\n",
    "The results of the matching can easily be saved and load using `ClEvaR` tools:"
   ]
  },
  {
   "cell_type": "code",
   "execution_count": null,
   "metadata": {},
   "outputs": [],
   "source": [
    "mt.save_matches(c1, c2, out_dir=\"temp\", overwrite=True)"
   ]
  },
  {
   "cell_type": "code",
   "execution_count": null,
   "metadata": {},
   "outputs": [],
   "source": [
    "mt.load_matches(c1, c2, out_dir=\"temp\")\n",
    "display(c1)\n",
    "display(c2)"
   ]
  },
  {
   "cell_type": "markdown",
   "metadata": {},
   "source": [
    "## Getting Matched Pairs\n",
    "\n",
    "There is functionality inbuilt in `clevar` to plot some results of the matching, such as:\n",
    "- Recovery rates\n",
    "- Distances (anguar and redshift) of cluster centers\n",
    "- Scaling relations (mass, redshift, ...)\n",
    "for those cases, check the <a href='match_metrics.ipynb'>match_metrics.ipynb</a> and <a href='match_metrics_advanced.ipynb'>match_metrics_advanced.ipynb</a> notebooks.\n",
    "\n",
    "If those do not provide your needs, you can get directly the matched pairs of clusters: "
   ]
  },
  {
   "cell_type": "code",
   "execution_count": null,
   "metadata": {},
   "outputs": [],
   "source": [
    "from clevar.match import get_matched_pairs\n",
    "\n",
    "mt1, mt2 = get_matched_pairs(c1, c2, \"cross\")"
   ]
  },
  {
   "cell_type": "markdown",
   "metadata": {},
   "source": [
    "These will be catalogs with the corresponding matched pairs:"
   ]
  },
  {
   "cell_type": "code",
   "execution_count": null,
   "metadata": {},
   "outputs": [],
   "source": [
    "import pylab as plt\n",
    "\n",
    "plt.scatter(mt1[\"mass\"], mt2[\"mass\"])"
   ]
  },
  {
   "cell_type": "markdown",
   "metadata": {},
   "source": [
    "## Outputing matched catalogs\n",
    "\n",
    "To save the current catalogs, you can use the `write` inbuilt function:"
   ]
  },
  {
   "cell_type": "code",
   "execution_count": null,
   "metadata": {},
   "outputs": [],
   "source": [
    "c1.write(\"c1_temp.fits\", overwrite=True)"
   ]
  },
  {
   "cell_type": "markdown",
   "metadata": {},
   "source": [
    "This will allow you to save the catalog with its current labels and matching information.\n",
    "\n",
    "### Outputing matching information to original catalogs\n",
    "\n",
    "If your input data came from initial files,\n",
    "`clevar` also provides functions create output files \n",
    "that combine all the information on them with the matching results.\n",
    "\n",
    "To add the matching information to an input catalog, use:\n",
    "\n",
    "```\n",
    "from clevar.match import output_catalog_with_matching\n",
    "output_catalog_with_matching('input_catalog.fits', 'output_catalog.fits', c1)\n",
    "```\n",
    "\n",
    "- note: `input_catalog.fits` must have the same number of rows that `c1`.\n",
    "\n",
    "\n",
    "To create a matched catalog containig all columns of both input catalogs, use:\n",
    "\n",
    "```\n",
    "from clevar.match import output_matched_catalog\n",
    "output_matched_catalog('input_catalog1.fits', 'input_catalog2.fits',\n",
    "    'output_catalog.fits', c1, c2, matching_type='cross')\n",
    "```\n",
    "\n",
    "where `matching_type` must be `cross`, `cat1` or `cat2`.\n",
    "\n",
    "- note: `input_catalog1.fits` must have the same number of rows that `c1` (and the same for `c2`)."
   ]
  }
 ],
 "metadata": {
  "kernelspec": {
   "display_name": "Python 3 (ipykernel)",
   "language": "python",
   "name": "python3"
  },
  "language_info": {
   "codemirror_mode": {
    "name": "ipython",
    "version": 3
   },
   "file_extension": ".py",
   "mimetype": "text/x-python",
   "name": "python",
   "nbconvert_exporter": "python",
   "pygments_lexer": "ipython3",
   "version": "3.10.8"
  },
  "toc": {
   "base_numbering": 1,
   "nav_menu": {},
   "number_sections": true,
   "sideBar": true,
   "skip_h1_title": true,
   "title_cell": "Table of Contents",
   "title_sidebar": "Contents",
   "toc_cell": true,
   "toc_position": {},
   "toc_section_display": true,
   "toc_window_display": false
  }
 },
 "nbformat": 4,
 "nbformat_minor": 4
}
