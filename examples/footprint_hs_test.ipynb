{
 "cells": [
  {
   "cell_type": "markdown",
   "metadata": {},
   "source": [
    "# Footprint functionality\n",
    "Here we show how to use the footprint functionality. It is not used directly in the matching, but can be applied on the recovery rates computation"
   ]
  },
  {
   "cell_type": "code",
   "execution_count": null,
   "metadata": {},
   "outputs": [],
   "source": [
    "%load_ext autoreload\n",
    "%autoreload 2"
   ]
  },
  {
   "cell_type": "code",
   "execution_count": null,
   "metadata": {},
   "outputs": [],
   "source": [
    "import numpy as np\n",
    "import pylab as plt\n",
    "import healpy as hp"
   ]
  },
  {
   "cell_type": "markdown",
   "metadata": {},
   "source": [
    "## Random data example\n",
    "\n",
    "For display purposes, we will generate some quick random data to be used with the footprints."
   ]
  },
  {
   "cell_type": "code",
   "execution_count": null,
   "metadata": {},
   "outputs": [],
   "source": [
    "# For reproducibility\n",
    "np.random.seed(1)"
   ]
  },
  {
   "cell_type": "code",
   "execution_count": null,
   "metadata": {},
   "outputs": [],
   "source": [
    "from support import gen_cluster\n",
    "input1, input2 = gen_cluster(ra_min=0, ra_max=30, dec_min=9, dec_max=30)"
   ]
  },
  {
   "cell_type": "code",
   "execution_count": null,
   "metadata": {},
   "outputs": [],
   "source": [
    "from clevar import ClCatalog\n",
    "tags = dict(ra='RA', dec='DEC', z='Z', mass='MASS',\n",
    "            mass_err='MASS_ERR', z_err='Z_ERR',\n",
    "            radius='RADIUS_ARCMIN')\n",
    "\n",
    "c1 = ClCatalog('Cat1', data=input1, tags=tags, radius_unit='arcmin')\n",
    "c2 = ClCatalog('Cat2', data=input2, tags=tags, radius_unit='arcmin')\n",
    "\n",
    "# Format for nice display\n",
    "for c in ('ra', 'dec', 'z', 'z_err', 'radius'):\n",
    "    c1[c].info.format = '.2f'\n",
    "    c2[c].info.format = '.2f'\n",
    "for c in ('mass', 'mass_err'):\n",
    "    c1[c].info.format = '.2e'\n",
    "    c2[c].info.format = '.2e'"
   ]
  },
  {
   "cell_type": "markdown",
   "metadata": {},
   "source": [
    "### Check position in healpix\n",
    "Check what are the pixels that contain the clusters"
   ]
  },
  {
   "cell_type": "code",
   "execution_count": null,
   "metadata": {},
   "outputs": [],
   "source": [
    "nside = 32\n",
    "pixels1 = hp.ang2pix(nside, c1['ra'], c1['dec'], lonlat=True)\n",
    "pixels2 = hp.ang2pix(nside, c2['ra'], c2['dec'], lonlat=True)"
   ]
  },
  {
   "cell_type": "markdown",
   "metadata": {},
   "source": [
    "Plot to confirm selected pixels are correct"
   ]
  },
  {
   "cell_type": "code",
   "execution_count": null,
   "metadata": {
    "scrolled": true
   },
   "outputs": [],
   "source": [
    "from matplotlib import cm\n",
    "import copy\n",
    "cmap = copy.copy(cm.jet)\n",
    "cmap.set_under('.1')\n",
    "gcol = lambda cmap, level: '#{:02x}{:02x}{:02x}{:02x}'.format(*cmap(level,bytes=True))\n",
    "\n",
    "# Map with pixels of each catalog\n",
    "map_ = np.zeros(hp.nside2npix(nside))\n",
    "map_[pixels1] += 1\n",
    "map_[pixels2] += 2\n",
    "map_[map_==0] = np.nan\n",
    "\n",
    "f = plt.figure(figsize=(10, 10))\n",
    "hp.cartview(map_, hold=True, latra=[5, 35], lonra=[-5, 40], cmap=cmap, cbar=False, flip='geo')\n",
    "ax = f.axes[0]\n",
    "ax.axis('on')\n",
    "ax.scatter(c1['ra'], c1['dec'], s=5, label='Cat 1 clusters')\n",
    "ax.scatter(c2['ra'], c2['dec'], s=5, label='Cat 2 clusters')\n",
    "\n",
    "ax.plot(0, 0, zorder=0, color=gcol(cmap, 0.0), label='Footptint - Cat1 only')\n",
    "ax.plot(0, 0, zorder=0, color=gcol(cmap, 0.5), label='Footptint - Cat2 only')\n",
    "ax.plot(0, 0, zorder=0, color=gcol(cmap, 1.0), label='Footptint - BOTH')\n",
    "ax.legend(loc=3)"
   ]
  },
  {
   "cell_type": "markdown",
   "metadata": {},
   "source": [
    "## The Footprint object"
   ]
  },
  {
   "cell_type": "markdown",
   "metadata": {},
   "source": [
    "ClEvaR uses the `Footprint` object to handle operations related to spatial masking. It has the following internal attributes:\n",
    "- `data`: Table with main footprint data (ex: pixel, detfrac, zmax)\n",
    "- `tags`: Dictionary that tells which are the default columns to be used\n",
    "- `size`: Number of pixels in the catalog\n",
    "- `pixel_dict`: Dictionary of indicies given the object pixel"
   ]
  },
  {
   "cell_type": "code",
   "execution_count": null,
   "metadata": {},
   "outputs": [],
   "source": [
    "from clevar.footprint import Footprint"
   ]
  },
  {
   "cell_type": "code",
   "execution_count": null,
   "metadata": {},
   "outputs": [],
   "source": [
    "from clevar.footprint.footprint_hs import Footprint2"
   ]
  },
  {
   "cell_type": "markdown",
   "metadata": {},
   "source": [
    "## Adding external data to footprint\n",
    "The input data for the footprint is the following:\n",
    "\n",
    "- `nside` (int): Heapix NSIDE\n",
    "- `nest` (bool): If ordering is nested (default=False)\n",
    "- `pixel` (array): Pixels inside the footprint\n",
    "- `detfrac_vals` (array, None): Detection fraction, if None is set to 1\n",
    "- `zmax_vals` (array, None): Zmax, if None is set to 99\n",
    "\n",
    "Just like the `ClCatalog` object, data in `Footorint` can be added from columns, a dictionary or a table.\n",
    "First, let's create some input data:"
   ]
  },
  {
   "cell_type": "code",
   "execution_count": null,
   "metadata": {},
   "outputs": [],
   "source": [
    "# Random values for detfrac and zmax for ftpt1\n",
    "set_pixels1 = list(set(pixels1))\n",
    "set_pixels2 = list(set(pixels2))\n",
    "detfrac_rand = 0.9+.1*np.random.rand(len(set_pixels1))\n",
    "z_rand = 0.5+.5*np.random.rand(len(set_pixels1))"
   ]
  },
  {
   "cell_type": "markdown",
   "metadata": {},
   "source": [
    "### From columns<a id='from_cols'/>\n",
    "To create a footprint fom columns, you have to pass the name as the initial argument and the data columns for the table as keyword arguments:"
   ]
  },
  {
   "cell_type": "code",
   "execution_count": null,
   "metadata": {},
   "outputs": [],
   "source": [
    "ftpt1 = Footprint(nside=nside, pixel=set_pixels1, detfrac=detfrac_rand, zmax=z_rand)\n",
    "ftpt1[:5]"
   ]
  },
  {
   "cell_type": "code",
   "execution_count": null,
   "metadata": {},
   "outputs": [],
   "source": [
    "ftpt2 = Footprint2(nside=nside, pixel=set_pixels1, detfrac=detfrac_rand, zmax=z_rand)\n",
    "ftpt2.data[hp.ring2nest(32, set_pixels1)][:2]"
   ]
  },
  {
   "cell_type": "code",
   "execution_count": null,
   "metadata": {},
   "outputs": [],
   "source": [
    "from clevar.cosmology import AstroPyCosmology\n",
    "cosmo = AstroPyCosmology()"
   ]
  },
  {
   "cell_type": "code",
   "execution_count": null,
   "metadata": {},
   "outputs": [],
   "source": [
    "%%time\n",
    "c1.add_ftpt_coverfrac(ftpt2, 1, 'mpc', cosmo=cosmo, window='nfw2D')"
   ]
  },
  {
   "cell_type": "code",
   "execution_count": null,
   "metadata": {},
   "outputs": [],
   "source": [
    "import sys"
   ]
  },
  {
   "cell_type": "code",
   "execution_count": null,
   "metadata": {},
   "outputs": [],
   "source": [
    "print('Size of Original HEALPix map [KB] ', sys.getsizeof(ftpt1.data)/1024.)\n",
    "print('Size of Original HEALPix map [KB] ', sys.getsizeof(ftpt2[:])/1024.)"
   ]
  },
  {
   "cell_type": "code",
   "execution_count": null,
   "metadata": {
    "scrolled": true
   },
   "outputs": [],
   "source": [
    "ftpt1.data"
   ]
  },
  {
   "cell_type": "code",
   "execution_count": null,
   "metadata": {},
   "outputs": [],
   "source": [
    "ftpt2[:]"
   ]
  },
  {
   "cell_type": "code",
   "execution_count": null,
   "metadata": {},
   "outputs": [],
   "source": [
    "c"
   ]
  },
  {
   "cell_type": "code",
   "execution_count": null,
   "metadata": {},
   "outputs": [],
   "source": [
    "import healsparse as hs"
   ]
  },
  {
   "cell_type": "code",
   "execution_count": null,
   "metadata": {},
   "outputs": [],
   "source": [
    "dat = Footprint(nside=nside, pixel=set_pixels1, detfrac=detfrac_rand, zmax=z_rand)"
   ]
  },
  {
   "cell_type": "code",
   "execution_count": null,
   "metadata": {},
   "outputs": [],
   "source": [
    "dtype = [('detfrac','f8'),('zmax','f8')]\n",
    "hsp_map = hs.HealSparseMap.make_empty(\n",
    "    nside, nside,\n",
    "    dtype=dtype, primary='detfrac')\n",
    "hsp_map.update_values_pix(\n",
    "    np.array(set_pixels1),\n",
    "    np.array([*zip(*[detfrac_rand, z_rand])], dtype=dtype),\n",
    "    nest=True)\n",
    "hsp_map.write('hsp_map.fits')"
   ]
  },
  {
   "cell_type": "code",
   "execution_count": null,
   "metadata": {},
   "outputs": [],
   "source": [
    "#dtype = [('detfrac','f8'),('zmax','f8')]\n",
    "hp_aux = np.full(hp.nside2npix(nside), hp.UNSEEN)\n",
    "hp_aux[set_pixels1] = detfrac_rand\n",
    "hs.HealSparseMap(nside_coverage=nside, healpix_map=hp_aux).write('hsp_map2.fits')"
   ]
  },
  {
   "cell_type": "code",
   "execution_count": null,
   "metadata": {},
   "outputs": [],
   "source": [
    "detfrac_rand.size, np.array(set_pixels1).size"
   ]
  },
  {
   "cell_type": "code",
   "execution_count": null,
   "metadata": {},
   "outputs": [],
   "source": [
    "ftpt_hs = Footprint.read_healsparse(\n",
    "    'hsp_map.fits',\n",
    "    full=False, tags={'pixel':'pixel'},\n",
    ")"
   ]
  },
  {
   "cell_type": "code",
   "execution_count": null,
   "metadata": {},
   "outputs": [],
   "source": [
    "ftpt_hs = Footprint.read_healsparse(\n",
    "    'hsp_map2.fits',\n",
    "    #full=False, tags={'pixel':'pixel'},\n",
    ")"
   ]
  },
  {
   "cell_type": "code",
   "execution_count": null,
   "metadata": {},
   "outputs": [],
   "source": [
    "ftpt_hs"
   ]
  },
  {
   "cell_type": "code",
   "execution_count": null,
   "metadata": {},
   "outputs": [],
   "source": [
    "print(ftpt_hs.__repr__())"
   ]
  },
  {
   "cell_type": "markdown",
   "metadata": {},
   "source": [
    "### From data table\n",
    "You can also create a `ClCatalog` passing directly a full data table:"
   ]
  },
  {
   "cell_type": "code",
   "execution_count": null,
   "metadata": {},
   "outputs": [],
   "source": [
    "from astropy.table import Table\n",
    "ap_table = Table([set_pixels1, detfrac_rand], names=['hpix', 'df'])\n",
    "ftpt1 = Footprint(nside=32, data=ap_table, tags={'pixel': 'hpix', 'detfrac':'df'})\n",
    "ftpt1[:3]"
   ]
  },
  {
   "cell_type": "markdown",
   "metadata": {},
   "source": [
    "The data table can also be a dictionary or a `numpy` array with names:"
   ]
  },
  {
   "cell_type": "code",
   "execution_count": null,
   "metadata": {},
   "outputs": [],
   "source": [
    "# default colnames\n",
    "print('default colnames:')\n",
    "ftpt1 = Footprint(nside=32, data={'pixel': set_pixels1, 'detfrac': detfrac_rand})\n",
    "display(ftpt1[:3])\n",
    "\n",
    "\n",
    "print('different colnames:')\n",
    "# different colnames\n",
    "ftpt1 = Footprint(nside=32, data={'hpix': set_pixels1, 'df': detfrac_rand},\n",
    "                  tags={'pixel': 'hpix', 'detfrac':'df'})\n",
    "display(ftpt1[:3])"
   ]
  },
  {
   "cell_type": "code",
   "execution_count": null,
   "metadata": {},
   "outputs": [],
   "source": [
    "# default colnames\n",
    "print('default colnames:')\n",
    "np_table = np.array(list(zip(set_pixels1, detfrac_rand)),\n",
    "                    dtype=[('pixel', 'f4'), ('detfrac', 'f4')])\n",
    "ftpt1 = Footprint(nside=32, data=np_table)\n",
    "display(ftpt1[:3])\n",
    "\n",
    "\n",
    "print('different colnames:')\n",
    "# different colnames\n",
    "np_table = np.array(list(zip(set_pixels1, detfrac_rand)),\n",
    "                    dtype=[('hpix', 'f4'), ('df', 'f4')])\n",
    "ftpt1 = Footprint(nside=32, data=np_table,\n",
    "                  tags={'pixel': 'hpix', 'detfrac':'df'})\n",
    "display(ftpt1[:3])"
   ]
  },
  {
   "cell_type": "markdown",
   "metadata": {},
   "source": [
    "### Read the footprint from fits file\n",
    "To read the footprint, the arguments are:\n",
    "\n",
    "- `filename` (str): Name of `.fits` catalog\n",
    "- `nside` (int): Heapix NSIDE\n",
    "- `tags` (dict): Dictionary with the tags and column names. It must contain\n",
    "  - `pixel` (str): Name of pixels column inside the footprint\n",
    "  - `detfrac` (str): Name of detection fraction column, if None is set to 1\n",
    "  - `zmax` (str): Name of Zmax column, if None is set to 99\n",
    "- `nest` (bool): If ordering is nested (default=False)\n",
    "- `full` (bool): read all columns of file"
   ]
  },
  {
   "cell_type": "markdown",
   "metadata": {},
   "source": [
    "Let's first create a file with the footprint info:"
   ]
  },
  {
   "cell_type": "code",
   "execution_count": null,
   "metadata": {},
   "outputs": [],
   "source": [
    "Footprint(nside=nside, pixel=set_pixels1, detfrac=detfrac_rand, zmax=z_rand).write('ftpt_temp.fits')"
   ]
  },
  {
   "cell_type": "markdown",
   "metadata": {},
   "source": [
    "and then read it:"
   ]
  },
  {
   "cell_type": "code",
   "execution_count": null,
   "metadata": {},
   "outputs": [],
   "source": [
    "Footprint.read('ftpt_temp.fits', nside=nside,\n",
    "               tags={'pixel': 'pixel',\n",
    "                     'detfrac': 'detfrac',\n",
    "                     'zmax': 'zmax'})[:3]"
   ]
  },
  {
   "cell_type": "code",
   "execution_count": null,
   "metadata": {},
   "outputs": [],
   "source": [
    "Footprint.read('ftpt_temp.fits', nside=nside,\n",
    "               tags={'pixel': 'pixel'})[:3]"
   ]
  },
  {
   "cell_type": "code",
   "execution_count": null,
   "metadata": {},
   "outputs": [],
   "source": [
    "Footprint.read('ftpt_temp.fits', nside=nside,\n",
    "               tags={'pixel': 'pixel'}, full=True)[:3]"
   ]
  },
  {
   "cell_type": "markdown",
   "metadata": {},
   "source": [
    "### Plotting the footprint\n",
    "The footprints have an inbuilt function to plot their values"
   ]
  },
  {
   "cell_type": "code",
   "execution_count": null,
   "metadata": {},
   "outputs": [],
   "source": [
    "f = ftpt1.plot('detfrac', bad_val=np.nan, auto_lim=True)\n",
    "f = ftpt1.plot('zmax', bad_val=np.nan, auto_lim=True)"
   ]
  },
  {
   "cell_type": "markdown",
   "metadata": {},
   "source": [
    "Clusters can also be added to the plot with their actual angular size:"
   ]
  },
  {
   "cell_type": "code",
   "execution_count": null,
   "metadata": {},
   "outputs": [],
   "source": [
    "# increase cluster radius for display\n",
    "c1['radius'] *= 10\n",
    "f = ftpt1.plot('detfrac', bad_val=np.nan,\n",
    "               ra_lim=[3, 8], dec_lim=[10, 15],\n",
    "               cluster=c1)\n",
    "# return original value\n",
    "c1['radius'] /= 10"
   ]
  },
  {
   "cell_type": "markdown",
   "metadata": {},
   "source": [
    "## Use ClEvaR functions to create a footprint\n",
    "Import `create_footprint` functions to create a footprint based on a cluster catalog.\n",
    "It can create a footprint based on cluster positions with a given `NSIDE`, or compute the best `NSIDE` based on a cluster density per pixel. It also can fill holes in the footprint."
   ]
  },
  {
   "cell_type": "code",
   "execution_count": null,
   "metadata": {},
   "outputs": [],
   "source": [
    "from clevar.footprint import create_artificial_footprint"
   ]
  },
  {
   "cell_type": "markdown",
   "metadata": {},
   "source": [
    "Fixed `NSIDE`:"
   ]
  },
  {
   "cell_type": "code",
   "execution_count": null,
   "metadata": {},
   "outputs": [],
   "source": [
    "ftpt1 = create_artificial_footprint(c1['ra'], c1['dec'], nside=64)"
   ]
  },
  {
   "cell_type": "markdown",
   "metadata": {},
   "source": [
    "`NSIDE` from density:"
   ]
  },
  {
   "cell_type": "code",
   "execution_count": null,
   "metadata": {},
   "outputs": [],
   "source": [
    "ftpt1 = create_artificial_footprint(c1['ra'], c1['dec'], nside=None, min_density=4)"
   ]
  },
  {
   "cell_type": "markdown",
   "metadata": {},
   "source": [
    "- there is also an option to fill holes in this artificial footprint"
   ]
  },
  {
   "cell_type": "code",
   "execution_count": null,
   "metadata": {},
   "outputs": [],
   "source": [
    "ftpt1 = create_artificial_footprint(c1['ra'], c1['dec'], nside=64, neighbor_fill=5)"
   ]
  },
  {
   "cell_type": "code",
   "execution_count": null,
   "metadata": {},
   "outputs": [],
   "source": [
    "ftpt1['detfrac'] = np.random.rand(ftpt1.size)\n",
    "f = ftpt1.plot('detfrac', np.nan,  latra=[5, 35], lonra=[-5, 40])"
   ]
  },
  {
   "cell_type": "markdown",
   "metadata": {},
   "source": [
    "## Footprint masks\n",
    "Add masks to clusters regarding the footprint. The `ClCatalog` object has has 3 functions related to the footprint:\n",
    "- `add_ftpt_masks`: info for cluster in footprint\n",
    "- `add_ftpt_coverfrac`: computes cover fraction\n",
    "- `add_ftpt_coverfrac_nfw2D`: computes cover fraction weighted by a project NFW profile"
   ]
  },
  {
   "cell_type": "code",
   "execution_count": null,
   "metadata": {},
   "outputs": [],
   "source": [
    "ftpt1 = Footprint(nside=nside, pixel=set_pixels1, detfrac=detfrac_rand, zmax=z_rand)\n",
    "ftpt2 = Footprint(nside=nside, pixel=set_pixels2)\n",
    "ftpt2['detfrac'][::2] = .5 # add effects to this footprint"
   ]
  },
  {
   "cell_type": "code",
   "execution_count": null,
   "metadata": {},
   "outputs": [],
   "source": [
    "%%time\n",
    "c1.add_ftpt_masks(ftpt1, ftpt2)\n",
    "c2.add_ftpt_masks(ftpt2, ftpt1)"
   ]
  },
  {
   "cell_type": "code",
   "execution_count": null,
   "metadata": {},
   "outputs": [],
   "source": [
    "display(c1[:4])\n",
    "display(c2[:4])"
   ]
  },
  {
   "cell_type": "markdown",
   "metadata": {},
   "source": [
    "Add coverfraction values based on the footprint. It needs a cosmology object."
   ]
  },
  {
   "cell_type": "code",
   "execution_count": null,
   "metadata": {},
   "outputs": [],
   "source": [
    "from clevar.cosmology import AstroPyCosmology\n",
    "cosmo = AstroPyCosmology()"
   ]
  },
  {
   "cell_type": "code",
   "execution_count": null,
   "metadata": {},
   "outputs": [],
   "source": [
    "%%time\n",
    "c1.add_ftpt_coverfrac(ftpt2, 1, 'mpc', cosmo=cosmo, window='flat')\n",
    "c1.add_ftpt_coverfrac(ftpt2, 1, 'mpc', cosmo=cosmo, window='nfw2D')\n",
    "c2.add_ftpt_coverfrac(ftpt1, 1, 'mpc', cosmo=cosmo, window='nfw2D')"
   ]
  },
  {
   "cell_type": "code",
   "execution_count": null,
   "metadata": {},
   "outputs": [],
   "source": [
    "display(c1[:4])\n",
    "display(c2[:4])"
   ]
  },
  {
   "cell_type": "markdown",
   "metadata": {},
   "source": [
    "## Saving and loading footprint quantities\n",
    "`ClEvaR` has internal functions to save and load these quantities into the catalog so you don't have to compute them again:"
   ]
  },
  {
   "cell_type": "code",
   "execution_count": null,
   "metadata": {},
   "outputs": [],
   "source": [
    "c1.save_footprint_quantities('cat1_ft_quantities.fits', overwrite=True)\n",
    "c1.load_footprint_quantities('cat1_ft_quantities.fits')"
   ]
  },
  {
   "cell_type": "markdown",
   "metadata": {},
   "source": [
    "## Application of footprint flags on recovery rate\n",
    "\n",
    "The recovery rate of clusters should take into account the footprint of the catalogs. Regions without overlaps should not be taken into consideration. Here we show how this can be done with `ClEvaR`."
   ]
  },
  {
   "cell_type": "markdown",
   "metadata": {},
   "source": [
    "### Match catalogs\n",
    "Let's match the catalogs to compute the recovery rate"
   ]
  },
  {
   "cell_type": "code",
   "execution_count": null,
   "metadata": {},
   "outputs": [],
   "source": [
    "from clevar.match import ProximityMatch"
   ]
  },
  {
   "cell_type": "code",
   "execution_count": null,
   "metadata": {},
   "outputs": [],
   "source": [
    "match_config = {\n",
    "    'type': 'cross', # options are cross, cat1, cat2\n",
    "    'which_radius': 'max', # Case of radius to be used, can be: cat1, cat2, min, max\n",
    "    'preference': 'angular_proximity', # options are more_massive, angular_proximity or redshift_proximity\n",
    "    'catalog1': {'delta_z':.2,\n",
    "                'match_radius': '1 mpc'},\n",
    "    'catalog2': {'delta_z':.2,\n",
    "                'match_radius': '10 arcsec'}\n",
    "}"
   ]
  },
  {
   "cell_type": "code",
   "execution_count": null,
   "metadata": {},
   "outputs": [],
   "source": [
    "%%time\n",
    "mt = ProximityMatch()\n",
    "mt.match_from_config(c1, c2, match_config, cosmo=cosmo)"
   ]
  },
  {
   "cell_type": "markdown",
   "metadata": {},
   "source": [
    "### Recovery rate\n",
    "\n",
    "Use pass the parameters `mask` (masks all clusters) or `mask_unmatched` (masks only unmatched clusters) to consider only specific clusters on the recovery rate.\n",
    "This way, you can exclude clusters outside the common regions from the consideration."
   ]
  },
  {
   "cell_type": "code",
   "execution_count": null,
   "metadata": {},
   "outputs": [],
   "source": [
    "from clevar.match_metrics import recovery"
   ]
  },
  {
   "cell_type": "code",
   "execution_count": null,
   "metadata": {},
   "outputs": [],
   "source": [
    "zbins = np.linspace(0, 2, 11)\n",
    "mbins = np.logspace(13, 14, 5)"
   ]
  },
  {
   "cell_type": "markdown",
   "metadata": {},
   "source": [
    "Mask based on footprint overlap"
   ]
  },
  {
   "cell_type": "code",
   "execution_count": null,
   "metadata": {},
   "outputs": [],
   "source": [
    "f, axes = plt.subplots(1, 3, figsize=(15, 5))\n",
    "recovery.plot(c1, 'cross', zbins, mbins, ax=axes[0], add_legend=False, shape='line')\n",
    "recovery.plot(c1, 'cross', zbins, mbins, ax=axes[1], add_legend=False,\n",
    "              mask=c1['ft_other'], shape='line')\n",
    "recovery.plot(c1, 'cross', zbins, mbins, ax=axes[2],\n",
    "              mask_unmatched=~c1['ft_other'], shape='line')\n",
    "for ax in axes:\n",
    "    ax.set_ylim(-.01, 1.05)\n",
    "axes[0].text(1, 1.1, 'no mask')\n",
    "axes[1].text(1, 1.1, 'mask all')\n",
    "axes[2].text(1, 1.1, 'mask unmatched')\n",
    "plt.show()"
   ]
  },
  {
   "cell_type": "markdown",
   "metadata": {},
   "source": [
    "Mask based on coverfraction"
   ]
  },
  {
   "cell_type": "code",
   "execution_count": null,
   "metadata": {},
   "outputs": [],
   "source": [
    "f, axes = plt.subplots(1, 3, figsize=(15, 5))\n",
    "recovery.plot(c1, 'cross', zbins, mbins, ax=axes[0], add_legend=False, shape='line')\n",
    "recovery.plot(c1, 'cross', zbins, mbins, ax=axes[1], add_legend=False,\n",
    "              mask=c1['cf_nfw_1_mpc']>.8, shape='line')\n",
    "recovery.plot(c1, 'cross', zbins, mbins, ax=axes[2],\n",
    "              mask_unmatched=c1['cf_nfw_1_mpc']<.8, shape='line')\n",
    "for ax in axes:\n",
    "    ax.set_ylim(-.01, 1.05)\n",
    "axes[0].text(1, 1.1, 'no mask')\n",
    "axes[1].text(1, 1.1, 'mask all')\n",
    "axes[2].text(1, 1.1, 'mask unmatched')\n",
    "plt.show()"
   ]
  },
  {
   "cell_type": "markdown",
   "metadata": {},
   "source": [
    "You can check the exact numbers used on the 2D plots"
   ]
  },
  {
   "cell_type": "code",
   "execution_count": null,
   "metadata": {},
   "outputs": [],
   "source": [
    "f, axes = plt.subplots(1, 3, figsize=(20, 5))\n",
    "\n",
    "recovery.plot2D(c1, 'cross', zbins, mbins, ax=axes[0],\n",
    "                add_num=True, num_kwargs={'fontsize':12\n",
    "                                         })\n",
    "recovery.plot2D(c1, 'cross', zbins, mbins, ax=axes[1],\n",
    "                add_num=True, num_kwargs={'fontsize':12},\n",
    "               mask=c1['cf_nfw_1_mpc']>.8)\n",
    "recovery.plot2D(c1, 'cross', zbins, mbins, ax=axes[2],\n",
    "                add_num=True, num_kwargs={'fontsize':12},\n",
    "               mask_unmatched=c1['cf_nfw_1_mpc']<.8)\n",
    "axes[0].text(1, mbins[-1]*1.1,'no mask')\n",
    "axes[1].text(1, mbins[-1]*1.1,'mask all')\n",
    "axes[2].text(1, mbins[-1]*1.1,'mask unmatched')\n",
    "    \n",
    "plt.show()"
   ]
  }
 ],
 "metadata": {
  "kernelspec": {
   "display_name": "Python 3 (ipykernel)",
   "language": "python",
   "name": "python3"
  },
  "language_info": {
   "codemirror_mode": {
    "name": "ipython",
    "version": 3
   },
   "file_extension": ".py",
   "mimetype": "text/x-python",
   "name": "python",
   "nbconvert_exporter": "python",
   "pygments_lexer": "ipython3",
   "version": "3.10.8"
  },
  "toc": {
   "base_numbering": 1,
   "nav_menu": {},
   "number_sections": true,
   "sideBar": true,
   "skip_h1_title": true,
   "title_cell": "Table of Contents",
   "title_sidebar": "Contents",
   "toc_cell": true,
   "toc_position": {},
   "toc_section_display": true,
   "toc_window_display": false
  }
 },
 "nbformat": 4,
 "nbformat_minor": 4
}
