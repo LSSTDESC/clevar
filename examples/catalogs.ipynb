{
 "cells": [
  {
   "cell_type": "markdown",
   "metadata": {},
   "source": [
    "# Catalog Objects\n",
    "There are two objects for catalogs, `ClCatalogs` for clusters and `MemCatalogs` for cluster members. Both of them have the same properties of `astropy` tables with additional functionality."
   ]
  },
  {
   "cell_type": "code",
   "execution_count": null,
   "metadata": {},
   "outputs": [],
   "source": [
    "%load_ext autoreload\n",
    "%autoreload 2"
   ]
  },
  {
   "cell_type": "markdown",
   "metadata": {},
   "source": [
    "## Common properties of `ClCatalog` and `MemCatalog`\n",
    "Both catalog objects have the following attributes:\n",
    "- `name`: ClCatalog name\n",
    "- `data`: Table with main catalog data (ex: id, ra, dec, z) and matching data (mt_self, mt_other, mt_cross, mt_multi_self, mt_multi_other)\n",
    "- `mt_input`: Table containing the necessary inputs for the match (added by Match objects)\n",
    "- `size`: Number of objects in the catalog\n",
    "- `id_dict`: Dictionary of indicies given the object id\n",
    "- `labels`: Labels of data columns for plots"
   ]
  },
  {
   "cell_type": "markdown",
   "metadata": {},
   "source": [
    "### Creating a catalog\n",
    "To create a catalog, you have to pass the name as the initial argument and the data for the table as keyword arguments:"
   ]
  },
  {
   "cell_type": "code",
   "execution_count": null,
   "metadata": {},
   "outputs": [],
   "source": [
    "from clevar import ClCatalog, MemCatalog\n",
    "cat = ClCatalog('cluster', id=['c1', 'c2'], mass=[1e13, 1e14])\n",
    "mem = MemCatalog('members', id=['m1', 'm2', 'm3'], id_cluster=['c1', 'c2', 'c1'])\n",
    "# Format for nice display\n",
    "cat['mass'].info.format = '.2e'"
   ]
  },
  {
   "cell_type": "markdown",
   "metadata": {},
   "source": [
    "`ClCatalog` will always have the matching columns added, while `MemCatalog` will add them when necessary:"
   ]
  },
  {
   "cell_type": "code",
   "execution_count": null,
   "metadata": {},
   "outputs": [],
   "source": [
    "display(cat)\n",
    "display(mem)"
   ]
  },
  {
   "cell_type": "markdown",
   "metadata": {},
   "source": [
    "#### Create a catalog from `fits` files\n",
    "The catalogs objects can also be read directly from file, by passing the fits file as the first argument, the catalog name as the second, and the names of the columns in the fits files as keyword arguments:"
   ]
  },
  {
   "cell_type": "code",
   "execution_count": null,
   "metadata": {},
   "outputs": [],
   "source": [
    "cat = ClCatalog.read('../demo/cat1.fits', 'cluster',\n",
    "                     id='ID', mass='MASS')\n",
    "mem = MemCatalog.read('../demo/cat1_mem.fits', 'member',\n",
    "                     id='ID', id_cluster='ID_CLUSTER')"
   ]
  },
  {
   "cell_type": "markdown",
   "metadata": {},
   "source": [
    "### Catalog data\n",
    "All catalogs have an `id` column if not included in the input, one will be created:"
   ]
  },
  {
   "cell_type": "code",
   "execution_count": null,
   "metadata": {},
   "outputs": [],
   "source": [
    "cat = ClCatalog('cluster', mass=[1e13, 1e14])\n",
    "cat"
   ]
  },
  {
   "cell_type": "markdown",
   "metadata": {},
   "source": [
    "Almost all keyword arguments will become columns of the catalog (see exeptions in [Properties of `ClCatalog`](#clcat) and [Properties of `MemCatalog`](#memcat)):"
   ]
  },
  {
   "cell_type": "code",
   "execution_count": null,
   "metadata": {},
   "outputs": [],
   "source": [
    "cat = ClCatalog('test name', test_column=[1, 2], other=[True, False], third=[None, []])\n",
    "cat"
   ]
  },
  {
   "cell_type": "markdown",
   "metadata": {},
   "source": [
    "The catalogs have a `label` attibute that is used for plots. If it is not provided as argument, a default value is assigned:"
   ]
  },
  {
   "cell_type": "code",
   "execution_count": null,
   "metadata": {},
   "outputs": [],
   "source": [
    "cat = ClCatalog('cluster', id=['c1', 'c2'], mass=[1e13, 1e14])\n",
    "cat.labels"
   ]
  },
  {
   "cell_type": "code",
   "execution_count": null,
   "metadata": {},
   "outputs": [],
   "source": [
    "cat = ClCatalog('cluster', id=['c1', 'c2'], mass=[1e13, 1e14],\n",
    "                labels={'id':'cluster ID', 'mass':'cluster M_200'})\n",
    "cat.labels"
   ]
  },
  {
   "cell_type": "markdown",
   "metadata": {},
   "source": [
    "To de main data table of the catalog can be accessed with `[]` operations in the same way as `astropy` tables. The output is a new `Catalog` object, exept when only 1 row or column is required:"
   ]
  },
  {
   "cell_type": "code",
   "execution_count": null,
   "metadata": {},
   "outputs": [],
   "source": [
    "cat = ClCatalog('cluster', id=['c1', 'c2'], mass=[1e13, 1e14])"
   ]
  },
  {
   "cell_type": "code",
   "execution_count": null,
   "metadata": {},
   "outputs": [],
   "source": [
    "print(type(cat['id']))\n",
    "display(cat['id'])"
   ]
  },
  {
   "cell_type": "code",
   "execution_count": null,
   "metadata": {},
   "outputs": [],
   "source": [
    "print(type(cat['id']))\n",
    "display(cat['id'])"
   ]
  },
  {
   "cell_type": "code",
   "execution_count": null,
   "metadata": {},
   "outputs": [],
   "source": [
    "print(type(cat['id', 'mass']))\n",
    "display(cat['id', 'mass'])"
   ]
  },
  {
   "cell_type": "code",
   "execution_count": null,
   "metadata": {},
   "outputs": [],
   "source": [
    "print(type(cat[[1, 0]]))\n",
    "display(cat[[1, 0]])"
   ]
  },
  {
   "cell_type": "code",
   "execution_count": null,
   "metadata": {},
   "outputs": [],
   "source": [
    "print(type(cat[:1]))\n",
    "display(cat[:1])"
   ]
  },
  {
   "cell_type": "code",
   "execution_count": null,
   "metadata": {},
   "outputs": [],
   "source": [
    "print(type(cat[0]))\n",
    "display(cat[0])"
   ]
  },
  {
   "cell_type": "markdown",
   "metadata": {},
   "source": [
    "### Inbuilt function of catalogs\n",
    "The catalog objects has some inbuilt functionality to facilitate the matching. `ids2inds` returns the indicies of objects given an id list. Other functions are related to footprint computations, see <a href='footprint.ipynb'>footprint.ipynb</a> for information on those."
   ]
  },
  {
   "cell_type": "code",
   "execution_count": null,
   "metadata": {},
   "outputs": [],
   "source": [
    "cat = ClCatalog('cluster', id=['c1', 'c2'], mass=[1e13, 1e14])\n",
    "inds = cat.ids2inds(['c2', 'c1'])\n",
    "display(cat)\n",
    "display(cat[inds])"
   ]
  },
  {
   "cell_type": "markdown",
   "metadata": {},
   "source": [
    "## Properties of `ClCatalog`<a id='clcat'/>\n",
    "\n",
    "As shown above, `ClCatalog` can have any column in its main data table, however there are a few key columns these catalogs must have to be used for matching:\n",
    "\n",
    "- `id` - necessary in membership matching and must correspond to `id_cluster` in the cluster member catalog.\n",
    "- `ra` (in degrees) - necessary for proxity matching.\n",
    "- `dec` (in degrees) - necessary for proxity matching.\n",
    "- `z` - necessary for proxity matching if used as matching criteria (or for angular to physical convertion).\n",
    "- `mass` (or mass proxy) - necessary for proxity matching if `shared_member_fraction` used as preference criteria for unique matches (default use in membership matching).\n",
    "- `radius` - necessary for proxity matching if used as a criteria of matching (also requires `radius_unit` to be passed)\n",
    "\n",
    "`radius_unit` can be in angular units (`radians`, `degrees`, `arcmin`, `arcsec`) or physical units (`Mpc`, `kpc`, `pc`) or can enven be given by mass overdensity units (`m200b`, `m500c`) and are case insensitive. In the proximity matching the radius is converted to angular distances (degrees):"
   ]
  },
  {
   "cell_type": "code",
   "execution_count": null,
   "metadata": {},
   "outputs": [],
   "source": [
    "from clevar.match import ProximityMatch\n",
    "from clevar.cosmology import AstroPyCosmology\n",
    "mt = ProximityMatch()\n",
    "cosmo = AstroPyCosmology()"
   ]
  },
  {
   "cell_type": "code",
   "execution_count": null,
   "metadata": {},
   "outputs": [],
   "source": [
    "cat = ClCatalog('Cat', radius=[0.01, 0.02], radius_unit='radians')\n",
    "mt.prep_cat_for_match(cat, delta_z=None, match_radius='cat')\n",
    "cat.mt_input['ang']"
   ]
  },
  {
   "cell_type": "code",
   "execution_count": null,
   "metadata": {},
   "outputs": [],
   "source": [
    "cat = ClCatalog('Cat', radius=[0.01, 0.02], radius_unit='degrees')\n",
    "mt.prep_cat_for_match(cat, delta_z=None, match_radius='cat')\n",
    "cat.mt_input['ang']"
   ]
  },
  {
   "cell_type": "code",
   "execution_count": null,
   "metadata": {},
   "outputs": [],
   "source": [
    "cat = ClCatalog('Cat', radius=[1, 1.5], z=[.4, .5], radius_unit='mpc')\n",
    "mt.prep_cat_for_match(cat, delta_z=None, match_radius='cat', cosmo=cosmo)\n",
    "cat.mt_input['ang']"
   ]
  },
  {
   "cell_type": "code",
   "execution_count": null,
   "metadata": {},
   "outputs": [],
   "source": [
    "cat = ClCatalog('Cat', radius=[1e13, 1e14], z=[.4, .5], radius_unit='m200c')\n",
    "mt.prep_cat_for_match(cat, delta_z=None, match_radius='cat', cosmo=cosmo)\n",
    "cat.mt_input['ang']"
   ]
  },
  {
   "cell_type": "markdown",
   "metadata": {},
   "source": [
    "## Properties of `MemCatalog`<a id='memcat'/>\n",
    "\n",
    "As shown above, `MemCatalog` can have any column in its main data table, however there are a few key columns these catalogs must have to be used for matching:\n",
    "\n",
    "- `id` - necessary in membership matching of members.\n",
    "- `id_cluster` - always necessary and must correspond to `id` in the main cluster catalog.\n",
    "- `ra` (in degrees) - necessary for proxity matching of members.\n",
    "- `dec` (in degrees) - necessary for proxity matching of members.\n",
    "- `pmem` - Probability of the galaxy being a member, must be [0, 1]. If not provided, it will assing 1 for all members.\n",
    "\n",
    "The `MemCatalog` object also has a `id_dict_list` atribute when there is repeated member `id`."
   ]
  }
 ],
 "metadata": {
  "kernelspec": {
   "display_name": "conda-clmmenv",
   "language": "python",
   "name": "conda-clmmenv"
  },
  "language_info": {
   "codemirror_mode": {
    "name": "ipython",
    "version": 3
   },
   "file_extension": ".py",
   "mimetype": "text/x-python",
   "name": "python",
   "nbconvert_exporter": "python",
   "pygments_lexer": "ipython3",
   "version": "3.9.2"
  }
 },
 "nbformat": 4,
 "nbformat_minor": 4
}
