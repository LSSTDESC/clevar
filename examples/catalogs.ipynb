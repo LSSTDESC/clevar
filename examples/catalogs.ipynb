{
 "cells": [
  {
   "cell_type": "markdown",
   "metadata": {},
   "source": [
    "# Galaxy Cluster Catalogs\n",
    "The main object for galaxy cluster catalogs is `ClCatalog`, it has same properties of `astropy` tables, with additional functionality."
   ]
  },
  {
   "cell_type": "markdown",
   "metadata": {
    "toc": true
   },
   "source": [
    "<h1>Table of Contents<span class=\"tocSkip\"></span></h1>\n",
    "<div class=\"toc\"><ul class=\"toc-item\"><li><span><a href=\"#ClCatalog-attributes\" data-toc-modified-id=\"ClCatalog-attributes-1\"><span class=\"toc-item-num\">1&nbsp;&nbsp;</span>ClCatalog attributes<a id=\"cat\"></a></a></span></li><li><span><a href=\"#Creating-a-catalog\" data-toc-modified-id=\"Creating-a-catalog-2\"><span class=\"toc-item-num\">2&nbsp;&nbsp;</span>Creating a catalog<a id=\"creating\"></a></a></span><ul class=\"toc-item\"><li><span><a href=\"#From-columns\" data-toc-modified-id=\"From-columns-2.1\"><span class=\"toc-item-num\">2.1&nbsp;&nbsp;</span>From columns<a id=\"from_cols\"></a></a></span></li><li><span><a href=\"#From-data-table\" data-toc-modified-id=\"From-data-table-2.2\"><span class=\"toc-item-num\">2.2&nbsp;&nbsp;</span>From data table</a></span></li><li><span><a href=\"#Create-a-catalog-from-fits-files\" data-toc-modified-id=\"Create-a-catalog-from-fits-files-2.3\"><span class=\"toc-item-num\">2.3&nbsp;&nbsp;</span>Create a catalog from <code>fits</code> files<a id=\"creating_fits\"></a></a></span></li></ul></li><li><span><a href=\"#ClCatalog-necessary-columns\" data-toc-modified-id=\"ClCatalog-necessary-columns-3\"><span class=\"toc-item-num\">3&nbsp;&nbsp;</span>ClCatalog necessary columns</a></span><ul class=\"toc-item\"><li><span><a href=\"#Important-inputs-of-ClCatalog\" data-toc-modified-id=\"Important-inputs-of-ClCatalog-3.1\"><span class=\"toc-item-num\">3.1&nbsp;&nbsp;</span>Important inputs of <code>ClCatalog</code><a id=\"clcat_input\"></a></a></span></li><li><span><a href=\"#Reserved-keyword-arguments\" data-toc-modified-id=\"Reserved-keyword-arguments-3.2\"><span class=\"toc-item-num\">3.2&nbsp;&nbsp;</span>Reserved keyword arguments<a id=\"clcat_input_special\"></a></a></span></li><li><span><a href=\"#Catalog-lables\" data-toc-modified-id=\"Catalog-lables-3.3\"><span class=\"toc-item-num\">3.3&nbsp;&nbsp;</span>Catalog lables</a></span></li><li><span><a href=\"#Catalog-mt_input\" data-toc-modified-id=\"Catalog-mt_input-3.4\"><span class=\"toc-item-num\">3.4&nbsp;&nbsp;</span>Catalog mt_input</a></span></li></ul></li><li><span><a href=\"#Saving-catalogs\" data-toc-modified-id=\"Saving-catalogs-4\"><span class=\"toc-item-num\">4&nbsp;&nbsp;</span>Saving catalogs<a id=\"saving\"></a></a></span></li><li><span><a href=\"#Accessing-catalog-data\" data-toc-modified-id=\"Accessing-catalog-data-5\"><span class=\"toc-item-num\">5&nbsp;&nbsp;</span>Accessing catalog data<a id=\"data\"></a></a></span></li><li><span><a href=\"#Inbuilt-function-of-catalogs\" data-toc-modified-id=\"Inbuilt-function-of-catalogs-6\"><span class=\"toc-item-num\">6&nbsp;&nbsp;</span>Inbuilt function of catalogs<a id=\"funcs\"></a></a></span></li><li><span><a href=\"#Adding-members-to-cluster-catalogs\" data-toc-modified-id=\"Adding-members-to-cluster-catalogs-7\"><span class=\"toc-item-num\">7&nbsp;&nbsp;</span>Adding members to cluster catalogs<a id=\"memcat\"></a></a></span><ul class=\"toc-item\"><li><span><a href=\"#Read-members-from-fits-files\" data-toc-modified-id=\"Read-members-from-fits-files-7.1\"><span class=\"toc-item-num\">7.1&nbsp;&nbsp;</span>Read members from <code>fits</code> files<a id=\"memcat_fits\"></a></a></span></li><li><span><a href=\"#Important-inputs-of-members-catalog\" data-toc-modified-id=\"Important-inputs-of-members-catalog-7.2\"><span class=\"toc-item-num\">7.2&nbsp;&nbsp;</span>Important inputs of members catalog<a id=\"memcat_input\"></a></a></span></li><li><span><a href=\"#Reserved-keyword-arguments\" data-toc-modified-id=\"Reserved-keyword-arguments-7.3\"><span class=\"toc-item-num\">7.3&nbsp;&nbsp;</span>Reserved keyword arguments<a id=\"memcat_input_special\"></a></a></span></li><li><span><a href=\"#Saving-members\" data-toc-modified-id=\"Saving-members-7.4\"><span class=\"toc-item-num\">7.4&nbsp;&nbsp;</span>Saving members<a id=\"memcat_saving\"></a></a></span></li><li><span><a href=\"#Memory-consuption\" data-toc-modified-id=\"Memory-consuption-7.5\"><span class=\"toc-item-num\">7.5&nbsp;&nbsp;</span>Memory consuption<a id=\"memcat_memory\"></a></a></span></li></ul></li></ul></div>"
   ]
  },
  {
   "cell_type": "code",
   "execution_count": null,
   "metadata": {},
   "outputs": [],
   "source": [
    "%load_ext autoreload\n",
    "%autoreload 2\n",
    "from IPython.display import HTML"
   ]
  },
  {
   "cell_type": "markdown",
   "metadata": {},
   "source": [
    "\n",
    "## ClCatalog attributes<a id='cat'/>\n",
    "\n",
    "The `ClCatalog` has the following internal attributes:\n",
    "- `name`: ClCatalog name\n",
    "- `data`: Table with main catalog data (ex: id, ra, dec, z) and matching data (mt_self, mt_other, mt_cross, mt_multi_self, mt_multi_other)\n",
    "- `tags`: Dictionary that tells which are the default columns to be used\n",
    "- `mt_input`: Table containing the necessary inputs for the match (added by Match objects)\n",
    "- `size`: Number of objects in the catalog\n",
    "- `id_dict`: Dictionary of indicies given the object id\n",
    "- `labels`: Labels of data columns for plots\n",
    "- `members`: Members of clusters (optional)\n",
    "- `leftover_members`: Galaxies in the input members not hosted by the cluster catalog (optional)"
   ]
  },
  {
   "cell_type": "markdown",
   "metadata": {},
   "source": [
    "## Creating a catalog<a id='creating'/>\n",
    "The catalog can be created by passing individual columns or a whole data table. Below we show how each case can be used."
   ]
  },
  {
   "cell_type": "code",
   "execution_count": null,
   "metadata": {},
   "outputs": [],
   "source": [
    "from clevar import ClCatalog"
   ]
  },
  {
   "cell_type": "markdown",
   "metadata": {},
   "source": [
    "### From columns<a id='from_cols'/>\n",
    "To create a catalog fom columns, you have to pass the name as the initial argument and the data columns for the table as keyword arguments:"
   ]
  },
  {
   "cell_type": "code",
   "execution_count": null,
   "metadata": {},
   "outputs": [],
   "source": [
    "cat = ClCatalog('cluster', id=['c1', 'c2'], mass=[1e13, 1e14])\n",
    "cat['mass'].info.format = '.2e' # Format for nice display\n",
    "cat"
   ]
  },
  {
   "cell_type": "markdown",
   "metadata": {},
   "source": [
    "You can also pass a `tags` dictionary as input if you want your catalog to have names that are not default for `ClEvaR` use:"
   ]
  },
  {
   "cell_type": "code",
   "execution_count": null,
   "metadata": {},
   "outputs": [],
   "source": [
    "cat = ClCatalog('cluster', ID_CLUSTER=['c1', 'c2'], M200=[1e13, 1e14],\n",
    "                tags={'id':'ID_CLUSTER', 'mass':'M200'})\n",
    "cat['mass'].info.format = '.2e' # Format for nice display\n",
    "cat"
   ]
  },
  {
   "cell_type": "markdown",
   "metadata": {},
   "source": [
    "Almost all keyword arguments will become columns of the catalog (see exeptions in [Important inputs of `ClCatalog`](#clcat_input)):"
   ]
  },
  {
   "cell_type": "code",
   "execution_count": null,
   "metadata": {},
   "outputs": [],
   "source": [
    "cat = ClCatalog('test name', id=['c1', 'c2'], test_column=[1, 2],\n",
    "                other=[True, False], third=[None, []])\n",
    "cat"
   ]
  },
  {
   "cell_type": "markdown",
   "metadata": {},
   "source": [
    "### From data table\n",
    "You can also create a `ClCatalog` passing directly a full data table:"
   ]
  },
  {
   "cell_type": "code",
   "execution_count": null,
   "metadata": {},
   "outputs": [],
   "source": [
    "from astropy.table import Table\n",
    "ap_table = Table([['c1', 'c2'],[1e13, 1e14]], names=['id', 'mass'])\n",
    "cat = ClCatalog('cluster', data=ap_table)\n",
    "cat['mass'].info.format = '.2e' # Format for nice display\n",
    "cat"
   ]
  },
  {
   "cell_type": "markdown",
   "metadata": {},
   "source": [
    "You can also pass a tags dictionary as input if you want your catalog to have names that are not default for `ClEvaR` use:"
   ]
  },
  {
   "cell_type": "code",
   "execution_count": null,
   "metadata": {},
   "outputs": [],
   "source": [
    "from astropy.table import Table\n",
    "ap_table = Table([['c1', 'c2'],[1e13, 1e14]], names=['ID_CLUSTER', 'M200'])\n",
    "cat = ClCatalog('cluster', data=ap_table, tags={'id':'ID_CLUSTER', 'mass':'M200'})\n",
    "cat['mass'].info.format = '.2e' # Format for nice display\n",
    "cat"
   ]
  },
  {
   "cell_type": "markdown",
   "metadata": {},
   "source": [
    "You can also pass a dictionary or a `numpy` array with names:"
   ]
  },
  {
   "cell_type": "code",
   "execution_count": null,
   "metadata": {},
   "outputs": [],
   "source": [
    "cat = ClCatalog('cluster', data={'id':['c1', 'c2'], 'mass':[1e13, 1e14]})\n",
    "cat['mass'].info.format = '.2e' # Format for nice display\n",
    "cat"
   ]
  },
  {
   "cell_type": "code",
   "execution_count": null,
   "metadata": {},
   "outputs": [],
   "source": [
    "import numpy as np\n",
    "np_table = np.array([('c1', 1e13),('c2', 1e14)],\n",
    "                    dtype=[('id', 'U10'), ('mass', 'f4')])\n",
    "cat = ClCatalog('cluster', data=np_table)\n",
    "cat['mass'].info.format = '.2e' # Format for nice display\n",
    "cat"
   ]
  },
  {
   "cell_type": "markdown",
   "metadata": {},
   "source": [
    "### Create a catalog from `fits` files<a id='creating_fits'/>\n",
    "The catalogs objects can also be read directly from file, by passing the fits file as the first argument, the catalog name as the second, and the `tag` argument listing the main columns to be read:"
   ]
  },
  {
   "cell_type": "code",
   "execution_count": null,
   "metadata": {},
   "outputs": [],
   "source": [
    "cat = ClCatalog.read('../demo/cat1.fits', 'my cluster',\n",
    "                     tags={'id':'ID', 'mass':'MASS'})\n",
    "cat['mass'].info.format = '.2e' # Format for nice display\n",
    "cat"
   ]
  },
  {
   "cell_type": "markdown",
   "metadata": {},
   "source": [
    "If you want to read all columns in the `.fits` file, set the argument `full=True`."
   ]
  },
  {
   "cell_type": "code",
   "execution_count": null,
   "metadata": {},
   "outputs": [],
   "source": [
    "cat = ClCatalog.read('../demo/cat1.fits', 'my cluster', full=True,\n",
    "                     tags={'id':'ID', 'mass':'MASS'})\n",
    "cat['mass'].info.format = '.2e' # Format for nice display\n",
    "cat"
   ]
  },
  {
   "cell_type": "markdown",
   "metadata": {},
   "source": [
    "## ClCatalog necessary columns\n",
    "There are a few columns that will aways be present on `ClCatalog` objects, and are added when not provided.\n",
    "For instance, the matching columns (with prefix `mt_`):"
   ]
  },
  {
   "cell_type": "code",
   "execution_count": null,
   "metadata": {},
   "outputs": [],
   "source": [
    "cat = ClCatalog('cluster', id=['c1', 'c2'], mass=[1e13, 1e14])\n",
    "cat['mass'].info.format = '.2e' # Format for nice display\n",
    "cat"
   ]
  },
  {
   "cell_type": "markdown",
   "metadata": {},
   "source": [
    "All catalogs have an `id` column. If it is not included in the input, one will be created:"
   ]
  },
  {
   "cell_type": "code",
   "execution_count": null,
   "metadata": {},
   "outputs": [],
   "source": [
    "cat = ClCatalog('cluster', mass=[1e13, 1e14])\n",
    "cat['mass'].info.format = '.2e' # Format for nice display\n",
    "cat"
   ]
  },
  {
   "cell_type": "markdown",
   "metadata": {},
   "source": [
    "Each cluster must have an unique `id`. Repetitions will have an suffix `_r#` added:"
   ]
  },
  {
   "cell_type": "code",
   "execution_count": null,
   "metadata": {},
   "outputs": [],
   "source": [
    "cat = ClCatalog('cluster', id=['cluster', 'cluster'])\n",
    "cat"
   ]
  },
  {
   "cell_type": "markdown",
   "metadata": {},
   "source": [
    "### Important inputs of `ClCatalog`<a id='clcat_input'/>\n",
    "\n",
    "As shown above, `ClCatalog` can have any column in its main data table.\n",
    "There are a few key columns that must exist (or be tagged) to be used for matching:\n",
    "\n",
    "- `id` - necessary in membership matching (must correspond to `id_cluster` in the cluster member catalog).\n",
    "- `ra` (in degrees) - necessary for proxity matching.\n",
    "- `dec` (in degrees) - necessary for proxity matching.\n",
    "- `z` - necessary for proxity matching if used as matching criteria (or for angular to physical convertion).\n",
    "- `mass` (or mass proxy) - necessary for proxity matching if `shared_member_fraction` used as preference criteria for unique matches (default use in membership matching).\n",
    "- `radius` - necessary for proxity matching if used as a criteria of matching (also requires `radius_unit` to be passed)\n",
    "\n",
    "### Reserved keyword arguments<a id='clcat_input_special'/>\n",
    "\n",
    "There is some keyword arguments that have a fixed meaning and do not become columns in the cluster data table:\n",
    "\n",
    "- `radius_unit`: can be in angular units (`radians`, `degrees`, `arcmin`, `arcsec`) or physical units (`Mpc`, `kpc`, `pc`) or can enven be given by mass overdensity units (`m200b`, `m500c`) and are case insensitive. In the proximity matching the radius is converted to angular distances (degrees).\n",
    "- `data`: Data table to be added to the catalog.\n",
    "- `tags`: Dictionary that tags the important columns in the catalog.\n",
    "- `labels`: Dictionary with labels of data columns to be used in plots.\n",
    "- `members`: Members of clusters, see [cluster members](#memcat) section for details.\n",
    "- `members_warning`: Warn if the members catalog contains galaxies not hosted by the cluster catalog.\n",
    "- `mt_input`: Table containing the necessary inputs for the match. This attribute is usually added during the matching process, but it can be passed in the `ClCatalog` construction."
   ]
  },
  {
   "cell_type": "markdown",
   "metadata": {},
   "source": [
    "### Catalog lables\n",
    "The catalogs have a `label` attribute that is used for plots. If it is not provided as argument, a default value is assigned:"
   ]
  },
  {
   "cell_type": "code",
   "execution_count": null,
   "metadata": {},
   "outputs": [],
   "source": [
    "cat = ClCatalog('cluster', id=['c1', 'c2'], mass=[1e13, 1e14])\n",
    "cat.labels"
   ]
  },
  {
   "cell_type": "code",
   "execution_count": null,
   "metadata": {},
   "outputs": [],
   "source": [
    "cat = ClCatalog('cluster', id=['c1', 'c2'], mass=[1e13, 1e14],\n",
    "                labels={'id':'cluster ID', 'mass':'cluster M_200'})\n",
    "cat.labels"
   ]
  },
  {
   "cell_type": "markdown",
   "metadata": {},
   "source": [
    "### Catalog mt_input\n",
    "Here are some examples of information being added to `mt_input` after the catalog creation. In the proximity matching, it will add an angular distance and min/max redshift when `delta_z` is not `None`:"
   ]
  },
  {
   "cell_type": "code",
   "execution_count": null,
   "metadata": {},
   "outputs": [],
   "source": [
    "from clevar.match import ProximityMatch\n",
    "mt = ProximityMatch()"
   ]
  },
  {
   "cell_type": "code",
   "execution_count": null,
   "metadata": {},
   "outputs": [],
   "source": [
    "cat = ClCatalog('Cat',id=['c1', 'c2'],  radius=[0.01, 0.02], radius_unit='radians')\n",
    "mt.prep_cat_for_match(cat, delta_z=None, match_radius='cat')\n",
    "cat.mt_input['ang']"
   ]
  },
  {
   "cell_type": "markdown",
   "metadata": {},
   "source": [
    "This information is also show directly when displaing the catalog:"
   ]
  },
  {
   "cell_type": "code",
   "execution_count": null,
   "metadata": {},
   "outputs": [],
   "source": [
    "cat = ClCatalog('Cat',id=['c1', 'c2'],  radius=[0.01, 0.02], radius_unit='degrees')\n",
    "mt.prep_cat_for_match(cat, delta_z=None, match_radius='cat')\n",
    "cat"
   ]
  },
  {
   "cell_type": "markdown",
   "metadata": {},
   "source": [
    "Using physical units (requires a cosmology):"
   ]
  },
  {
   "cell_type": "code",
   "execution_count": null,
   "metadata": {},
   "outputs": [],
   "source": [
    "from clevar.cosmology import AstroPyCosmology\n",
    "cosmo = AstroPyCosmology()\n",
    "\n",
    "display(HTML('<h3>Radius in Mpc</h3>'))\n",
    "cat = ClCatalog('Cat',id=['c1', 'c2'],  radius=[1, 1.5], z=[.4, .5], radius_unit='mpc')\n",
    "mt.prep_cat_for_match(cat, delta_z=None, match_radius='cat', cosmo=cosmo)\n",
    "display(cat)\n",
    "\n",
    "display(HTML('<h3>Radius from M200c</h3>'))\n",
    "cat = ClCatalog('Cat', id=['c1', 'c2'], mass=[1e13, 1e14], z=[.4, .5],\n",
    "                tags={'radius':'mass'}, radius_unit='m200c')\n",
    "mt.prep_cat_for_match(cat, delta_z=None, match_radius='cat', cosmo=cosmo)\n",
    "cat['mass'].info.format = '.2e' # Format for nice display\n",
    "display(cat)"
   ]
  },
  {
   "cell_type": "markdown",
   "metadata": {},
   "source": [
    "## Saving catalogs<a id='saving'/>\n",
    "\n",
    "The `ClCatalog` object has a `write` inbuilt function to save them to `.fits` files.\n",
    "This function also take the argument `add_header` that add the name and labels informations to those files.\n",
    "If the file was saved with this argument, it can be read without the requirement of a `name` argument:"
   ]
  },
  {
   "cell_type": "code",
   "execution_count": null,
   "metadata": {},
   "outputs": [],
   "source": [
    "cat = ClCatalog('cluster', ID_CLUSTER=['c1', 'c2'], M200=[1e13, 1e14],\n",
    "                tags={'id':'ID_CLUSTER', 'mass':'M200'},\n",
    "                labels={'id':'cluster ID', 'mass':'cluster M_200'},\n",
    "               )\n",
    "cat.write('cat1_with_info.fits', overwrite=True)"
   ]
  },
  {
   "cell_type": "code",
   "execution_count": null,
   "metadata": {},
   "outputs": [],
   "source": [
    "cat_temp = cat.read_full('cat1_with_info.fits')\n",
    "cat_temp['mass'].info.format = '.2e' # Format for nice display\n",
    "cat_temp"
   ]
  },
  {
   "cell_type": "markdown",
   "metadata": {},
   "source": [
    "## Accessing catalog data<a id='data'/>\n",
    "\n",
    "The main data table of the catalog can be accessed with `[]` operations in the same way as `astropy` tables. The output is a new `ClCatalog` object, exept when only 1 row or column is required, then the row/column is returned:"
   ]
  },
  {
   "cell_type": "code",
   "execution_count": null,
   "metadata": {},
   "outputs": [],
   "source": [
    "cat = ClCatalog('cluster', ID_CLUSTER=['c1', 'c2'], M200=[1e13, 1e14],\n",
    "                tags={'id':'ID_CLUSTER', 'mass':'M200'},\n",
    "                labels={'id':'cluster ID', 'mass':'cluster M_200'},\n",
    "               )\n",
    "cat['mass'].info.format = '.2e' # Format for nice display"
   ]
  },
  {
   "cell_type": "code",
   "execution_count": null,
   "metadata": {},
   "outputs": [],
   "source": [
    "cat['ID_CLUSTER']"
   ]
  },
  {
   "cell_type": "code",
   "execution_count": null,
   "metadata": {},
   "outputs": [],
   "source": [
    "cat['ID_CLUSTER', 'M200']"
   ]
  },
  {
   "cell_type": "code",
   "execution_count": null,
   "metadata": {},
   "outputs": [],
   "source": [
    "cat[[1, 0]]"
   ]
  },
  {
   "cell_type": "code",
   "execution_count": null,
   "metadata": {},
   "outputs": [],
   "source": [
    "cat[[True, False]]"
   ]
  },
  {
   "cell_type": "code",
   "execution_count": null,
   "metadata": {},
   "outputs": [],
   "source": [
    "cat[:1]"
   ]
  },
  {
   "cell_type": "code",
   "execution_count": null,
   "metadata": {},
   "outputs": [],
   "source": [
    "cat[0]"
   ]
  },
  {
   "cell_type": "markdown",
   "metadata": {},
   "source": [
    "An important detail is that when the catalog has tags, passing a string that is tagged will return the tagged column:"
   ]
  },
  {
   "cell_type": "code",
   "execution_count": null,
   "metadata": {},
   "outputs": [],
   "source": [
    "cat['id']"
   ]
  },
  {
   "cell_type": "code",
   "execution_count": null,
   "metadata": {},
   "outputs": [],
   "source": [
    "cat['id_cluster', 'M200']"
   ]
  },
  {
   "cell_type": "markdown",
   "metadata": {},
   "source": [
    "## Inbuilt function of catalogs<a id='funcs'/>\n",
    "The `ClCatalog` object has some inbuilt functionality to facilitate the matching. `ids2inds` returns the indicies of objects given an id list. Other functions are related to footprint computations, see <a href='footprint.ipynb'>footprint.ipynb</a> for information on those."
   ]
  },
  {
   "cell_type": "code",
   "execution_count": null,
   "metadata": {},
   "outputs": [],
   "source": [
    "cat = ClCatalog('cluster', id=['c1', 'c2'], mass=[1e13, 1e14])\n",
    "cat['mass'].info.format = '.2e' # Format for nice display\n",
    "\n",
    "display(HTML('<h3>Catalog</h3>'))\n",
    "display(cat)\n",
    "\n",
    "display(HTML('<h3>Catalog sorted by id list</h3>'))\n",
    "inds = cat.ids2inds(['c2', 'c1'])\n",
    "display(cat[inds])"
   ]
  },
  {
   "cell_type": "markdown",
   "metadata": {},
   "source": [
    "## Adding members to cluster catalogs<a id='memcat'/>\n",
    "\n",
    "The members are used as an internal table like object of `ClCatalog`, accessed by `.members`.\n",
    "This object have the following attributes:\n",
    "- `name`: ClCatalog name\n",
    "- `data`: Table with main catalog data (ex: id, id_cluster, ra, dec, z)\n",
    "- `size`: Number of objects in the catalog\n",
    "- `id_dict`: Dictionary of indicies given the object id\n",
    "- `labels`: Labels of data columns for plots\n",
    "- `id_dict_list`: Dictionary of indicies given the object id, retiruning lists to account members with repeated `id`.\n",
    "\n",
    "The members can be added to the cluster object using the `add_members` function.\n",
    "It has a similar instanciating format of a `ClCatalog` object, where the columns are added by keyword arguments (the key `id_cluster` is always necessary and must correspond to `id` in the main cluster catalog):"
   ]
  },
  {
   "cell_type": "code",
   "execution_count": null,
   "metadata": {},
   "outputs": [],
   "source": [
    "cat = ClCatalog('cluster', id=['c1', 'c2'], mass=[1e13, 1e14])\n",
    "cat['mass'].info.format = '.2e' # Format for nice display\n",
    "cat.add_members(id=['m1', 'm2', 'm3'], id_cluster=['c1', 'c2', 'c1'])\n",
    "display(cat)\n",
    "display(cat.members)"
   ]
  },
  {
   "cell_type": "markdown",
   "metadata": {},
   "source": [
    "The same can be done using `tags`:"
   ]
  },
  {
   "cell_type": "code",
   "execution_count": null,
   "metadata": {},
   "outputs": [],
   "source": [
    "cat = ClCatalog('cluster', id=['c1', 'c2'], mass=[1e13, 1e14])\n",
    "cat['mass'].info.format = '.2e' # Format for nice display\n",
    "cat.add_members(\n",
    "    ID=['m1', 'm2', 'm3'], IDCL=['c1', 'c2', 'c1'],\n",
    "    tags={'id':'ID', 'id_cluster':'IDCL'})\n",
    "display(cat)\n",
    "display(cat.members)"
   ]
  },
  {
   "cell_type": "markdown",
   "metadata": {},
   "source": [
    "### Read members from `fits` files<a id='memcat_fits'/>\n",
    "The catalogs objects can also be read directly from file, by passing the fits file as the first argument, the catalog name as the second, and the names of the columns in the fits files as keyword arguments:"
   ]
  },
  {
   "cell_type": "code",
   "execution_count": null,
   "metadata": {},
   "outputs": [],
   "source": [
    "cat = ClCatalog.read(\n",
    "    '../demo/cat1.fits', 'my cluster',\n",
    "    tags={'id':'ID', 'mass':'MASS'})\n",
    "cat.read_members(\n",
    "    '../demo/cat1_mem.fits',\n",
    "    tags={'id':'ID', 'id_cluster':'ID_CLUSTER'})\n",
    "cat['mass'].info.format = '.2e' # Format for nice display\n",
    "display(cat)\n",
    "display(cat.members)"
   ]
  },
  {
   "cell_type": "markdown",
   "metadata": {},
   "source": [
    "Again, passing `full=True` will read all columns in the file:"
   ]
  },
  {
   "cell_type": "code",
   "execution_count": null,
   "metadata": {},
   "outputs": [],
   "source": [
    "cat = ClCatalog.read(\n",
    "    '../demo/cat1.fits', 'my cluster',\n",
    "    tags={'id':'ID', 'mass':'MASS'}, full=True)\n",
    "cat.read_members(\n",
    "    '../demo/cat1_mem.fits',\n",
    "    tags={'id':'ID', 'id_cluster':'ID_CLUSTER'}, full=True)\n",
    "cat['mass'].info.format = '.2e' # Format for nice display\n",
    "display(cat)\n",
    "display(cat.members)"
   ]
  },
  {
   "cell_type": "markdown",
   "metadata": {},
   "source": [
    "### Important inputs of members catalog<a id='memcat_input'/>\n",
    "\n",
    "There are a few key columns these catalogs must have to be used for matching:\n",
    "\n",
    "- `id` - necessary in membership matching of members.\n",
    "- `id_cluster` - always necessary and must correspond to `id` in the main cluster catalog.\n",
    "- `ra` (in degrees) - necessary for proxity matching of members.\n",
    "- `dec` (in degrees) - necessary for proxity matching of members.\n",
    "- `pmem` - Probability of the galaxy being a member, must be [0, 1]. If not provided, it will assing 1 for all members.\n",
    "\n",
    "### Reserved keyword arguments<a id='memcat_input_special'/>\n",
    "\n",
    "There are three keyword arguments with specific uses:\n",
    "\n",
    "- `data`: Data table to be added to the catalog.\n",
    "- `tags`: Dictionary that tags the important columns in the catalog.\n",
    "- `labels`: Dictionary with labels of data columns to be used in plots.\n",
    "- `members_consistency`: Require that all input members belong to this cluster catalog.\n",
    "- `members_warning`: Raise warning if members are do not belong to this cluster catalog, and save them in leftover_members attribute.\n",
    "- `members_catalog`: Members catalog if avaliable, mostly for internal use.\n",
    "\n",
    "When `members_consistency=True`, only galaxies hosted by the cluster catalog is kept. If `members_warning=True`, a warning is raised and the clusters not hosted are stored in `leftover_members`:"
   ]
  },
  {
   "cell_type": "code",
   "execution_count": null,
   "metadata": {},
   "outputs": [],
   "source": [
    "cat = ClCatalog('cluster', id=['c1'], mass=[1e13])\n",
    "cat['mass'].info.format = '.2e' # Format for nice display\n",
    "cat.add_members(id=['m1', 'm2', 'm3'], id_cluster=['c1', 'c2', 'c1'])\n",
    "display(cat)\n",
    "display(cat.members)\n",
    "display(cat.leftover_members)"
   ]
  },
  {
   "cell_type": "markdown",
   "metadata": {},
   "source": [
    "### Saving members<a id='memcat_saving'/>\n",
    "\n",
    "The `member` object has a `write` inbuilt function to save them to `.fits` files.\n",
    "This function also take the argument `add_header` that add the name and labels informations to those files.\n",
    "If the file was saved with this argument, it can be read without the requirement of a `name` argument:"
   ]
  },
  {
   "cell_type": "code",
   "execution_count": null,
   "metadata": {},
   "outputs": [],
   "source": [
    "cat.members.write('mem1_with_info.fits', overwrite=True)"
   ]
  },
  {
   "cell_type": "markdown",
   "metadata": {},
   "source": [
    "### Memory consuption<a id='memcat_memory'/>\n",
    "\n",
    "IMPORTANT! The member catalogs are usually hundreds of times larger than the cluster catalogs. Therefore it is advised not to add it unless you are using it for a specific goal (ex: membership matching). This catalog also can lead to memory overload and makes the other functions slower.\n",
    "\n",
    "There are two options to handle this, you can either pass a member free version of the catalog or remove the members altogether. To use the member free version of the catalog, use the `raw` function:"
   ]
  },
  {
   "cell_type": "code",
   "execution_count": null,
   "metadata": {},
   "outputs": [],
   "source": [
    "cat_raw = cat.raw()\n",
    "print(\"Original:\")\n",
    "display(cat.members)\n",
    "print(\"Raw:\")\n",
    "display(cat.raw().members)"
   ]
  },
  {
   "cell_type": "markdown",
   "metadata": {},
   "source": [
    "To remove the members from the cluster catalog, use the `remove_members` function:"
   ]
  },
  {
   "cell_type": "code",
   "execution_count": null,
   "metadata": {},
   "outputs": [],
   "source": [
    "cat.remove_members()\n",
    "print(cat.members, cat.leftover_members)"
   ]
  }
 ],
 "metadata": {
  "kernelspec": {
   "display_name": "",
   "language": "python",
   "name": ""
  },
  "language_info": {
   "codemirror_mode": {
    "name": "ipython",
    "version": 3
   },
   "file_extension": ".py",
   "mimetype": "text/x-python",
   "name": "python",
   "nbconvert_exporter": "python",
   "pygments_lexer": "ipython3",
   "version": "3.9.2"
  },
  "toc": {
   "base_numbering": 1,
   "nav_menu": {},
   "number_sections": true,
   "sideBar": true,
   "skip_h1_title": true,
   "title_cell": "Table of Contents",
   "title_sidebar": "Contents",
   "toc_cell": true,
   "toc_position": {},
   "toc_section_display": true,
   "toc_window_display": true
  }
 },
 "nbformat": 4,
 "nbformat_minor": 4
}
