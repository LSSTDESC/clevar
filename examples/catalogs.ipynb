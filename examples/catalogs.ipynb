{
 "cells": [
  {
   "cell_type": "markdown",
   "metadata": {},
   "source": [
    "# Galaxy Cluster Catalogs\n",
    "The main object for galaxy cluster catalogs is `ClCatalog`, it has same properties of `astropy` tables, with additional functionality.\n",
    "\n",
    "* [ClCatalog](#cat)\n",
    "* [Creating a catalog](#creating)\n",
    "  * [Create a catalog from fits files](#creating_fits)\n",
    "  * [Important inputs of ClCatalog](#clcat_input)\n",
    "  * [Reserved keyword arguments](#clcat_input_special)\n",
    "* [Saving catalogs](#saving)\n",
    "* [Accessing catalog data](#data)\n",
    "* [Inbuilt function of catalogs](#funcs)\n",
    "* [Adding members to cluster catalogs](#memcat)\n",
    "  * [Read members from fits files](#memcat_fits)\n",
    "  * [Important inputs of members catalog](#memcat_input)\n",
    "  * [Reserved keyword arguments](#memcat_input_special)\n",
    "  * [Saving members](#memcat_saving)"
   ]
  },
  {
   "cell_type": "code",
   "execution_count": null,
   "metadata": {},
   "outputs": [],
   "source": [
    "%load_ext autoreload\n",
    "%autoreload 2"
   ]
  },
  {
   "cell_type": "markdown",
   "metadata": {},
   "source": [
    "\n",
    "## ClCatalog<a id='cat'/>\n",
    "\n",
    "The `ClCatalog` has the following internal attributes:\n",
    "- `name`: ClCatalog name\n",
    "- `data`: Table with main catalog data (ex: id, ra, dec, z) and matching data (mt_self, mt_other, mt_cross, mt_multi_self, mt_multi_other)\n",
    "- `mt_input`: Table containing the necessary inputs for the match (added by Match objects)\n",
    "- `size`: Number of objects in the catalog\n",
    "- `id_dict`: Dictionary of indicies given the object id\n",
    "- `labels`: Labels of data columns for plots\n",
    "- `members`: Members of clusters (optional)\n",
    "- `leftover_members`: Galaxies in the input members not hosted by the cluster catalog (optional)"
   ]
  },
  {
   "cell_type": "markdown",
   "metadata": {},
   "source": [
    "## Creating a catalog<a id='creating'/>\n",
    "To create a catalog, you have to pass the name as the initial argument and the data columns for the table as keyword arguments:"
   ]
  },
  {
   "cell_type": "code",
   "execution_count": null,
   "metadata": {},
   "outputs": [],
   "source": [
    "from clevar import ClCatalog\n",
    "cat = ClCatalog('cluster', id=['c1', 'c2'], mass=[1e13, 1e14])\n",
    "cat['mass'].info.format = '.2e' # Format for nice display"
   ]
  },
  {
   "cell_type": "markdown",
   "metadata": {},
   "source": [
    "`ClCatalog` will always have the matching columns (with prefix `mt_`) added:"
   ]
  },
  {
   "cell_type": "code",
   "execution_count": null,
   "metadata": {},
   "outputs": [],
   "source": [
    "display(cat)"
   ]
  },
  {
   "cell_type": "markdown",
   "metadata": {},
   "source": [
    "All catalogs have an `id` column. If it is not included in the input, one will be created:"
   ]
  },
  {
   "cell_type": "code",
   "execution_count": null,
   "metadata": {},
   "outputs": [],
   "source": [
    "cat = ClCatalog('cluster', mass=[1e13, 1e14])\n",
    "cat['mass'].info.format = '.2e' # Format for nice display\n",
    "cat"
   ]
  },
  {
   "cell_type": "markdown",
   "metadata": {},
   "source": [
    "Almost all keyword arguments will become columns of the catalog (see exeptions in [Important inputs of `ClCatalog`](#clcat_input)):"
   ]
  },
  {
   "cell_type": "code",
   "execution_count": null,
   "metadata": {},
   "outputs": [],
   "source": [
    "cat = ClCatalog('test name', test_column=[1, 2],\n",
    "                other=[True, False], third=[None, []])\n",
    "cat"
   ]
  },
  {
   "cell_type": "markdown",
   "metadata": {},
   "source": [
    "The catalogs have a `label` attibute that is used for plots. If it is not provided as argument, a default value is assigned:"
   ]
  },
  {
   "cell_type": "code",
   "execution_count": null,
   "metadata": {},
   "outputs": [],
   "source": [
    "cat = ClCatalog('cluster', id=['c1', 'c2'], mass=[1e13, 1e14])\n",
    "cat.labels"
   ]
  },
  {
   "cell_type": "code",
   "execution_count": null,
   "metadata": {},
   "outputs": [],
   "source": [
    "cat = ClCatalog('cluster', id=['c1', 'c2'], mass=[1e13, 1e14],\n",
    "                labels={'id':'cluster ID', 'mass':'cluster M_200'})\n",
    "cat.labels"
   ]
  },
  {
   "cell_type": "markdown",
   "metadata": {},
   "source": [
    "### Create a catalog from `fits` files<a id='creating_fits'/>\n",
    "The catalogs objects can also be read directly from file, by passing the fits file as the first argument, the catalog name as the second, and the names of the columns in the fits files as keyword arguments:"
   ]
  },
  {
   "cell_type": "code",
   "execution_count": null,
   "metadata": {},
   "outputs": [],
   "source": [
    "cat = ClCatalog.read('../demo/cat1.fits', 'my cluster',\n",
    "                     id='ID', mass='MASS')"
   ]
  },
  {
   "cell_type": "markdown",
   "metadata": {},
   "source": [
    "### Important inputs of `ClCatalog`<a id='clcat_input'/>\n",
    "\n",
    "As shown above, `ClCatalog` can have any column in its main data table. However there are a few key columns these catalogs must have to be used for matching:\n",
    "\n",
    "- `id` - necessary in membership matching (must correspond to `id_cluster` in the cluster member catalog).\n",
    "- `ra` (in degrees) - necessary for proxity matching.\n",
    "- `dec` (in degrees) - necessary for proxity matching.\n",
    "- `z` - necessary for proxity matching if used as matching criteria (or for angular to physical convertion).\n",
    "- `mass` (or mass proxy) - necessary for proxity matching if `shared_member_fraction` used as preference criteria for unique matches (default use in membership matching).\n",
    "- `radius` - necessary for proxity matching if used as a criteria of matching (also requires `radius_unit` to be passed)\n",
    "\n",
    "### Reserved keyword arguments<a id='clcat_input_special'/>\n",
    "\n",
    "There is some keyword arguments that have a fixed meaning and do not become columns in the cluster data table:\n",
    "\n",
    "- `radius_unit`: can be in angular units (`radians`, `degrees`, `arcmin`, `arcsec`) or physical units (`Mpc`, `kpc`, `pc`) or can enven be given by mass overdensity units (`m200b`, `m500c`) and are case insensitive. In the proximity matching the radius is converted to angular distances (degrees).\n",
    "- `labels`: Dictionary with labels of data columns to be used in plots.\n",
    "- `members`: Members of clusters, see [cluster members](#memcat) section for details.\n",
    "- `members_warning`: Warn if the members catalog contains galaxies not hosted by the cluster catalog.\n",
    "- `mt_input`: Table containing the necessary inputs for the match. This attribute is usually added during the matching process, but it can be passed in the `ClCatalog` construction.\n",
    "\n",
    "Here are some examples of information being added to `mt_input` after the catalog creation:"
   ]
  },
  {
   "cell_type": "code",
   "execution_count": null,
   "metadata": {},
   "outputs": [],
   "source": [
    "from clevar.match import ProximityMatch\n",
    "from clevar.cosmology import AstroPyCosmology\n",
    "mt = ProximityMatch()\n",
    "cosmo = AstroPyCosmology()"
   ]
  },
  {
   "cell_type": "code",
   "execution_count": null,
   "metadata": {},
   "outputs": [],
   "source": [
    "cat = ClCatalog('Cat', radius=[0.01, 0.02], radius_unit='radians')\n",
    "mt.prep_cat_for_match(cat, delta_z=None, match_radius='cat')\n",
    "cat.mt_input['ang']"
   ]
  },
  {
   "cell_type": "code",
   "execution_count": null,
   "metadata": {},
   "outputs": [],
   "source": [
    "cat = ClCatalog('Cat', radius=[0.01, 0.02], radius_unit='degrees')\n",
    "mt.prep_cat_for_match(cat, delta_z=None, match_radius='cat')\n",
    "cat.mt_input['ang']"
   ]
  },
  {
   "cell_type": "code",
   "execution_count": null,
   "metadata": {},
   "outputs": [],
   "source": [
    "cat = ClCatalog('Cat', radius=[1, 1.5], z=[.4, .5], radius_unit='mpc')\n",
    "mt.prep_cat_for_match(cat, delta_z=None, match_radius='cat', cosmo=cosmo)\n",
    "cat.mt_input['ang']"
   ]
  },
  {
   "cell_type": "code",
   "execution_count": null,
   "metadata": {},
   "outputs": [],
   "source": [
    "cat = ClCatalog('Cat', radius=[1e13, 1e14], z=[.4, .5], radius_unit='m200c')\n",
    "mt.prep_cat_for_match(cat, delta_z=None, match_radius='cat', cosmo=cosmo)\n",
    "cat.mt_input['ang']"
   ]
  },
  {
   "cell_type": "markdown",
   "metadata": {},
   "source": [
    "## Saving catalogs<a id='saving'/>\n",
    "\n",
    "The `ClCatalog` object has a `write` inbuilt function to save them to `.fits` files.\n",
    "This function also take the argument `add_header` that add the name and labels informations to those files.\n",
    "If the file was saved with this argument, it can be read without the requirement of a `name` argument:"
   ]
  },
  {
   "cell_type": "code",
   "execution_count": null,
   "metadata": {},
   "outputs": [],
   "source": [
    "cat = ClCatalog('cluster', id=['c1', 'c2'], mass=[1e13, 1e14],\n",
    "                labels={'id':'cluster ID', 'mass':'cluster M_200'})\n",
    "cat.write('cat1_with_info.fits', overwrite=True)"
   ]
  },
  {
   "cell_type": "code",
   "execution_count": null,
   "metadata": {},
   "outputs": [],
   "source": [
    "cat_temp = cat.read_full('cat1_with_info.fits')\n",
    "cat_temp['mass'].info.format = '.2e' # Format for nice display\n",
    "cat_temp"
   ]
  },
  {
   "cell_type": "markdown",
   "metadata": {},
   "source": [
    "## Accessing catalog data<a id='data'/>\n",
    "\n",
    "The main data table of the catalog can be accessed with `[]` operations in the same way as `astropy` tables. The output is a new `ClCatalog` object, exept when only 1 row or column is required:"
   ]
  },
  {
   "cell_type": "code",
   "execution_count": null,
   "metadata": {},
   "outputs": [],
   "source": [
    "cat['id']"
   ]
  },
  {
   "cell_type": "code",
   "execution_count": null,
   "metadata": {},
   "outputs": [],
   "source": [
    "cat['id']"
   ]
  },
  {
   "cell_type": "code",
   "execution_count": null,
   "metadata": {},
   "outputs": [],
   "source": [
    "cat['id', 'mass']"
   ]
  },
  {
   "cell_type": "code",
   "execution_count": null,
   "metadata": {},
   "outputs": [],
   "source": [
    "cat[[1, 0]]"
   ]
  },
  {
   "cell_type": "code",
   "execution_count": null,
   "metadata": {},
   "outputs": [],
   "source": [
    "cat[:1]"
   ]
  },
  {
   "cell_type": "code",
   "execution_count": null,
   "metadata": {},
   "outputs": [],
   "source": [
    "cat[0]"
   ]
  },
  {
   "cell_type": "markdown",
   "metadata": {},
   "source": [
    "## Inbuilt function of catalogs<a id='funcs'/>\n",
    "The `ClCatalog` object has some inbuilt functionality to facilitate the matching. `ids2inds` returns the indicies of objects given an id list. Other functions are related to footprint computations, see <a href='footprint.ipynb'>footprint.ipynb</a> for information on those."
   ]
  },
  {
   "cell_type": "code",
   "execution_count": null,
   "metadata": {},
   "outputs": [],
   "source": [
    "cat = ClCatalog('cluster', id=['c1', 'c2'], mass=[1e13, 1e14])\n",
    "cat['mass'].info.format = '.2e' # Format for nice display\n",
    "inds = cat.ids2inds(['c2', 'c1'])\n",
    "display(cat)\n",
    "display(cat[inds])"
   ]
  },
  {
   "cell_type": "markdown",
   "metadata": {},
   "source": [
    "## Adding members to cluster catalogs<a id='memcat'/>\n",
    "\n",
    "The members are used as an internal table like object of `ClCatalog`, accessed by `.members`.\n",
    "This object have the following attributes:\n",
    "- `name`: ClCatalog name\n",
    "- `data`: Table with main catalog data (ex: id, id_cluster, ra, dec, z)\n",
    "- `size`: Number of objects in the catalog\n",
    "- `id_dict`: Dictionary of indicies given the object id\n",
    "- `labels`: Labels of data columns for plots\n",
    "- `id_dict_list`: Dictionary of indicies given the object id, retiruning lists to account members with repeated `id`.\n",
    "\n",
    "The members can be added to the cluster object using the `add_members` function.\n",
    "It has a similar instanciating format of a `ClCatalog` object, where the columns are added by keyword arguments (the key `id_cluster` is always necessary and must correspond to `id` in the main cluster catalog):"
   ]
  },
  {
   "cell_type": "code",
   "execution_count": null,
   "metadata": {},
   "outputs": [],
   "source": [
    "cat = ClCatalog('cluster', id=['c1', 'c2'], mass=[1e13, 1e14])\n",
    "cat['mass'].info.format = '.2e' # Format for nice display\n",
    "cat.add_members(id=['m1', 'm2', 'm3'], id_cluster=['c1', 'c2', 'c1'])\n",
    "display(cat)\n",
    "display(cat.members)"
   ]
  },
  {
   "cell_type": "markdown",
   "metadata": {},
   "source": [
    "### Read members from `fits` files<a id='memcat_fits'/>\n",
    "The catalogs objects can also be read directly from file, by passing the fits file as the first argument, the catalog name as the second, and the names of the columns in the fits files as keyword arguments:"
   ]
  },
  {
   "cell_type": "code",
   "execution_count": null,
   "metadata": {},
   "outputs": [],
   "source": [
    "cat = ClCatalog.read('../demo/cat1.fits', 'my cluster',\n",
    "                     id='ID', mass='MASS')\n",
    "cat.read_members('../demo/cat1_mem.fits',\n",
    "                 id='ID', id_cluster='ID_CLUSTER')\n",
    "cat['mass'].info.format = '.2e' # Format for nice display\n",
    "display(cat)\n",
    "display(cat.members)"
   ]
  },
  {
   "cell_type": "markdown",
   "metadata": {},
   "source": [
    "### Important inputs of members catalog<a id='memcat_input'/>\n",
    "\n",
    "There are a few key columns these catalogs must have to be used for matching:\n",
    "\n",
    "- `id` - necessary in membership matching of members.\n",
    "- `id_cluster` - always necessary and must correspond to `id` in the main cluster catalog.\n",
    "- `ra` (in degrees) - necessary for proxity matching of members.\n",
    "- `dec` (in degrees) - necessary for proxity matching of members.\n",
    "- `pmem` - Probability of the galaxy being a member, must be [0, 1]. If not provided, it will assing 1 for all members.\n",
    "\n",
    "### Reserved keyword arguments<a id='memcat_input_special'/>\n",
    "\n",
    "There are three keyword arguments with specific uses:\n",
    "\n",
    "- `members_consistency`: Require that all input members belong to this cluster catalog.\n",
    "- `members_warning`: Raise warning if members are do not belong to this cluster catalog, and save them in leftover_members attribute.\n",
    "- `members_catalog`: Members catalog if avaliable, mostly for internal use.\n",
    "\n",
    "When `members_consistency=True`, only galaxies hosted by the cluster catalog is kept. If `members_warning=True`, a warning is raised and the clusters not hosted are stored in `leftover_members`:"
   ]
  },
  {
   "cell_type": "code",
   "execution_count": null,
   "metadata": {},
   "outputs": [],
   "source": [
    "cat = ClCatalog('cluster', id=['c1'], mass=[1e13])\n",
    "cat['mass'].info.format = '.2e' # Format for nice display\n",
    "cat.add_members(id=['m1', 'm2', 'm3'], id_cluster=['c1', 'c2', 'c1'])\n",
    "display(cat)\n",
    "display(cat.members)\n",
    "display(cat.leftover_members)"
   ]
  },
  {
   "cell_type": "markdown",
   "metadata": {},
   "source": [
    "### Saving members<a id='memcat_saving'/>\n",
    "\n",
    "The `member` object has a `write` inbuilt function to save them to `.fits` files.\n",
    "This function also take the argument `add_header` that add the name and labels informations to those files.\n",
    "If the file was saved with this argument, it can be read without the requirement of a `name` argument:"
   ]
  },
  {
   "cell_type": "code",
   "execution_count": null,
   "metadata": {},
   "outputs": [],
   "source": [
    "cat.members.write('mem1_with_info.fits', overwrite=True)"
   ]
  },
  {
   "cell_type": "markdown",
   "metadata": {},
   "source": [
    "### Memory consuption<a id='memcat_memory'/>\n",
    "\n",
    "IMPORTANT! The member catalogs are usually hundreds of times larger than the cluster catalogs. Therefore it is advised not to add it unless you are using it for a specific goal (ex: membership matching). This catalog also can lead to memory overload and makes the other functions slower.\n",
    "\n",
    "To remove the members from the cluster catalog, use the `remove_members` function:"
   ]
  },
  {
   "cell_type": "code",
   "execution_count": null,
   "metadata": {},
   "outputs": [],
   "source": [
    "cat.remove_members()\n",
    "print(cat.members, cat.leftover_members)"
   ]
  }
 ],
 "metadata": {
  "kernelspec": {
   "display_name": "",
   "language": "python",
   "name": ""
  },
  "language_info": {
   "codemirror_mode": {
    "name": "ipython",
    "version": 3
   },
   "file_extension": ".py",
   "mimetype": "text/x-python",
   "name": "python",
   "nbconvert_exporter": "python",
   "pygments_lexer": "ipython3",
   "version": "3.9.2"
  }
 },
 "nbformat": 4,
 "nbformat_minor": 4
}
