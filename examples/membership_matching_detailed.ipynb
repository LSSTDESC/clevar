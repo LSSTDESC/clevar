{
 "cells": [
  {
   "cell_type": "markdown",
   "metadata": {},
   "source": [
    "# Matching catalogs based on membership (detailed)\n",
    "Here we show the specific steps of matching two catalogs based on proximity"
   ]
  },
  {
   "cell_type": "code",
   "execution_count": null,
   "metadata": {},
   "outputs": [],
   "source": [
    "%load_ext autoreload\n",
    "%autoreload 2"
   ]
  },
  {
   "cell_type": "markdown",
   "metadata": {},
   "source": [
    "## ClCatalogs\n",
    "Given some input data"
   ]
  },
  {
   "cell_type": "code",
   "execution_count": null,
   "metadata": {},
   "outputs": [],
   "source": [
    "import numpy as np\n",
    "from astropy.table import Table\n",
    "input1 = Table({'ID': ['CL0a', 'CL1a', 'CL2a', 'CL3a', 'CL4a']})\n",
    "input1['MASS'] = 1e14*np.arange(1, 6)*10\n",
    "input2 = Table({'ID': ['CL0b', 'CL1b', 'CL2b', 'CL3b']})\n",
    "input2['MASS'] = 1e14*np.arange(1, 5)*10\n",
    "display(input1)\n",
    "display(input2)\n",
    "input1_mem = Table(\n",
    "    {'ID':[\n",
    "        'MEM0', 'MEM1', 'MEM2', 'MEM3', 'MEM4',\n",
    "        'MEM5', 'MEM6', 'MEM7', 'MEM8', 'MEM9',\n",
    "        'MEM10', 'MEM11', 'MEM12', 'MEM13', 'MEM14'],\n",
    "     'ID_CLUSTER': [\n",
    "         'CL0a', 'CL0a', 'CL0a', 'CL0a', 'CL0a',\n",
    "         'CL1a', 'CL1a', 'CL1a', 'CL1a', 'CL2a',\n",
    "         'CL2a', 'CL2a', 'CL3a', 'CL3a', 'CL4a'],\n",
    "    })\n",
    "input2_mem = Table(\n",
    "    {'ID':[\n",
    "        'MEM0', 'MEM1', 'MEM2', 'MEM3', 'MEM4',\n",
    "        'MEM5', 'MEM6', 'MEM7', 'MEM8', 'MEM9',\n",
    "        'MEM10', 'MEM11', 'MEM12', 'MEM13'],\n",
    "     'ID_CLUSTER': [\n",
    "         'CL3b', 'CL0b', 'CL0b', 'CL0b', 'CL0b',\n",
    "         'CL1b', 'CL1b', 'CL1b', 'CL1b', 'CL2b',\n",
    "         'CL2b', 'CL2b', 'CL3b', 'CL3b'],\n",
    "    })\n",
    "input1_mem['RA'] = np.arange(len(input1_mem))*10.0\n",
    "input2_mem['RA'] = np.arange(len(input2_mem))*10.0\n",
    "input1_mem['DEC'] = 0.0\n",
    "input2_mem['DEC'] = 0.0\n",
    "input1_mem['Z'] = 0.1\n",
    "input2_mem['Z'] = 0.1\n",
    "input1_mem['PMEM'] = 1.0\n",
    "input2_mem['PMEM'] = 1.0\n",
    "display(input1_mem)\n",
    "display(input2_mem)"
   ]
  },
  {
   "cell_type": "markdown",
   "metadata": {},
   "source": [
    "Create two `ClCatalog` objects. For membership matching it is necessary to have at least `id_cluster` in the member catalogs that corresponds to `id` in the cluster catalogs.\n",
    "If the matching of the members is done by anngular distance, `ra` and `dec` of the members also must be included.\n",
    "It is also possible to add the probability of each member belong to the host cluster with a `pmem` argument:"
   ]
  },
  {
   "cell_type": "code",
   "execution_count": null,
   "metadata": {},
   "outputs": [],
   "source": [
    "from clevar.catalog import ClCatalog, MemCatalog\n",
    "c1 = ClCatalog('Cat1', id=input1['ID'], mass=input1['MASS'])\n",
    "c2 = ClCatalog('Cat2', id=input2['ID'], mass=input2['MASS'])\n",
    "\n",
    "m1 = MemCatalog('Mem1', id=input1_mem['ID'], id_cluster=input1_mem['ID_CLUSTER'],\n",
    "                ra=input1_mem['RA'], dec=input1_mem['DEC'], pmem=input1_mem['PMEM'])\n",
    "m2 = MemCatalog('Mem2', id=input2_mem['ID'], id_cluster=input2_mem['ID_CLUSTER'],\n",
    "                ra=input2_mem['RA'], dec=input2_mem['DEC'], pmem=input2_mem['PMEM'])\n",
    "\n",
    "# Format for nice display\n",
    "for c in ('mass',):\n",
    "    c1[c].info.format = '.2e'\n",
    "    c2[c].info.format = '.2e'\n",
    "\n",
    "display(c1)\n",
    "display(c2)\n",
    "display(m1)\n",
    "display(m2)"
   ]
  },
  {
   "cell_type": "markdown",
   "metadata": {},
   "source": [
    "## Matching\n",
    "Import the `MembershipMatch` and create a object for matching"
   ]
  },
  {
   "cell_type": "code",
   "execution_count": null,
   "metadata": {},
   "outputs": [],
   "source": [
    "from clevar.match import MembershipMatch\n",
    "mt = MembershipMatch()"
   ]
  },
  {
   "cell_type": "markdown",
   "metadata": {},
   "source": [
    "### Prepare the matching object\n",
    "Before matching the clusters it is necessary to match the members catalogs and then filling the clusters with information about of the shared members.\n",
    "\n",
    "The matching of members can be done by `id` if both member catalogs share the same `id`s or by angular proximity.\n",
    "\n",
    "\n",
    "\n",
    "\n",
    "\n",
    "\n",
    "The first step is to prepare each catalog with the matching configuration:\n",
    "\n",
    "- `delta_z`: Defines redshift window for matching. The possible values are:\n",
    "  - `'cat'`: uses redshift properties of the catalog\n",
    "  - `'spline.filename'`: interpolates data in `'filename'` assuming (z, zmin, zmax) format\n",
    "  - `float`: uses `delta_z*(1+z)`\n",
    "  - `None`: does not use z\n",
    "- `match_radius`: Radius of the catalog to be used in the matching. If `'cat'` uses the radius in the catalog, else must be in format `'value unit'`. (ex: `'1 arcsec'`, `'1 Mpc'`)\n",
    "\n",
    "In this case, because one of the configuraion radius has physical units, we also need a cosmology (`cosmo`) object to convert it to angular size (this is done internally)."
   ]
  },
  {
   "cell_type": "markdown",
   "metadata": {},
   "source": [
    "To match the members by `id`, just run the function:"
   ]
  },
  {
   "cell_type": "code",
   "execution_count": null,
   "metadata": {},
   "outputs": [],
   "source": [
    "%%time\n",
    "mt.match_members(m1, m2, method='id')"
   ]
  },
  {
   "cell_type": "markdown",
   "metadata": {},
   "source": [
    "To match the members by angular proximity you also have to provide:\n",
    "  - `radius`(`str`, `None`). Radius for matching, with format `'value unit'` (ex: `1 arcsec`, `1 Mpc`).\n",
    "  - `cosmo`(`clevar.Cosmology`, `None`). Cosmology object for when radius has physical units.\n",
    "Then call the same function with these arguments"
   ]
  },
  {
   "cell_type": "code",
   "execution_count": null,
   "metadata": {},
   "outputs": [],
   "source": [
    "from clevar.cosmology import AstroPyCosmology\n",
    "mt.match_members(m1, m2, method='angular_distance',\n",
    "                 radius='0.1 kpc', cosmo=AstroPyCosmology())"
   ]
  },
  {
   "cell_type": "markdown",
   "metadata": {},
   "source": [
    "This function adds a `matched_mems` attribute to your matching object (`mt.matched_mems` in this case) that contains the indices of the matched members.\n",
    "This attribute can be saved and loaded so you don't have to redo this step.\n",
    "Just use the functions:"
   ]
  },
  {
   "cell_type": "code",
   "execution_count": null,
   "metadata": {},
   "outputs": [],
   "source": [
    "mt.save_matched_members(filename='mem_mt.txt', overwrite=False)\n",
    "mt.load_matched_members(filename='mem_mt.txt')"
   ]
  },
  {
   "cell_type": "markdown",
   "metadata": {},
   "source": [
    "Now we fill the catalogs with the information regarding the matched members. In this step, each cluster catalog will have a `ClData` table in its `mt_input` attibute with the number of members in each cluster (`nmem`) and a dictionary containing the number of shaded objects with the clusters of the other catalog (`shared_mems`).\n",
    "\n",
    "If `pmem` is provided to the members, these quantities are computed as:\n",
    "\\begin{equation*}\n",
    "nmem=\\sum_{cluster\\;members} Pmem_i\n",
    "\\end{equation*}\n",
    "\\begin{equation*}\n",
    "shared\\_mems=\\sum_{shared\\;members} Pmem_i\n",
    "\\end{equation*}"
   ]
  },
  {
   "cell_type": "code",
   "execution_count": null,
   "metadata": {},
   "outputs": [],
   "source": [
    "mt.fill_shared_members(c1, c2, m1, m2)"
   ]
  },
  {
   "cell_type": "code",
   "execution_count": null,
   "metadata": {},
   "outputs": [],
   "source": [
    "display(c1.mt_input)\n",
    "display(c2.mt_input)"
   ]
  },
  {
   "cell_type": "markdown",
   "metadata": {},
   "source": [
    "Again, these results can be saved and loaded so you don't have to redo this step.\n",
    "Just use the functions:"
   ]
  },
  {
   "cell_type": "code",
   "execution_count": null,
   "metadata": {},
   "outputs": [],
   "source": [
    "mt.save_shared_members(c1, c2, fileprefix='mem_share')\n",
    "mt.load_shared_members(c1, c2, fileprefix='mem_share')"
   ]
  },
  {
   "cell_type": "markdown",
   "metadata": {},
   "source": [
    "Once this step is done, you can actually start matching the clusters."
   ]
  },
  {
   "cell_type": "markdown",
   "metadata": {},
   "source": [
    "### Multiple matching\n",
    "The next step is to match the catalogs and store all candidates that pass the matching criteria."
   ]
  },
  {
   "cell_type": "code",
   "execution_count": null,
   "metadata": {},
   "outputs": [],
   "source": [
    "%%time\n",
    "mt.multiple(c1, c2)\n",
    "mt.multiple(c2, c1)"
   ]
  },
  {
   "cell_type": "markdown",
   "metadata": {},
   "source": [
    "This will fill the `mt_multi_self` and `mt_multi_other` columns:"
   ]
  },
  {
   "cell_type": "code",
   "execution_count": null,
   "metadata": {},
   "outputs": [],
   "source": [
    "display(c1)\n",
    "display(c2)"
   ]
  },
  {
   "cell_type": "markdown",
   "metadata": {},
   "source": [
    "### Unique matching\n",
    "Once all candidates are stored in each catalog, we can find the best candidates. You can also pass the argument:\n",
    "- `preference`: In cases where there are multiple matched, how the best candidate will be chosen. Options are: `'more_massive'`, `'angular_proximity'`, `'redshift_proximity'`, `'shared_member_fraction'` (default value).\n"
   ]
  },
  {
   "cell_type": "code",
   "execution_count": null,
   "metadata": {},
   "outputs": [],
   "source": [
    "%%time\n",
    "mt.unique(c1, c2, preference='shared_member_fraction')\n",
    "mt.unique(c2, c1, preference='shared_member_fraction')"
   ]
  },
  {
   "cell_type": "markdown",
   "metadata": {},
   "source": [
    "This will fill the matching columns:\n",
    "- `mt_self`: Best candidate found\n",
    "- `mt_other`: Best candidate found by the other catalog\n",
    "- `mt_frac_self`: Fraction of shared members with the best candidate found\n",
    "- `mt_frac_other`: Fraction of shared members by the best candidate found by the other catalog, relative to the other catalog\n",
    "\n",
    "\n",
    "If `pmem` is present in the members catalogs, the shared fractions are computed by:\n",
    "\\begin{equation*}\n",
    "\\frac{\\sum_{shared\\;members} Pmem_i}{\\sum_{cluster\\;members} Pmem_i}\n",
    "\\end{equation*}"
   ]
  },
  {
   "cell_type": "code",
   "execution_count": null,
   "metadata": {},
   "outputs": [],
   "source": [
    "display(c1)\n",
    "display(c2)"
   ]
  },
  {
   "cell_type": "markdown",
   "metadata": {},
   "source": [
    "### Cross matching\n",
    "If you want to make sure the same pair was found in both directions:"
   ]
  },
  {
   "cell_type": "code",
   "execution_count": null,
   "metadata": {},
   "outputs": [],
   "source": [
    "c1.cross_match()\n",
    "c2.cross_match()"
   ]
  },
  {
   "cell_type": "markdown",
   "metadata": {},
   "source": [
    "This will fill the `mt_cross` column:"
   ]
  },
  {
   "cell_type": "code",
   "execution_count": null,
   "metadata": {},
   "outputs": [],
   "source": [
    "display(c1)\n",
    "display(c2)"
   ]
  },
  {
   "cell_type": "markdown",
   "metadata": {},
   "source": [
    "## Save and Load\n",
    "The results of the matching can easily be saved and load using `ClEvaR` tools:"
   ]
  },
  {
   "cell_type": "code",
   "execution_count": null,
   "metadata": {},
   "outputs": [],
   "source": [
    "mt.save_matches(c1, c2, out_dir='temp', overwrite=True)"
   ]
  },
  {
   "cell_type": "code",
   "execution_count": null,
   "metadata": {},
   "outputs": [],
   "source": [
    "mt.load_matches(c1, c2, out_dir='temp')\n",
    "display(c1)\n",
    "display(c2)"
   ]
  }
 ],
 "metadata": {
  "kernelspec": {
   "display_name": "conda-clmmenv",
   "language": "python",
   "name": "conda-clmmenv"
  },
  "language_info": {
   "codemirror_mode": {
    "name": "ipython",
    "version": 3
   },
   "file_extension": ".py",
   "mimetype": "text/x-python",
   "name": "python",
   "nbconvert_exporter": "python",
   "pygments_lexer": "ipython3",
   "version": "3.9.2"
  }
 },
 "nbformat": 4,
 "nbformat_minor": 4
}
