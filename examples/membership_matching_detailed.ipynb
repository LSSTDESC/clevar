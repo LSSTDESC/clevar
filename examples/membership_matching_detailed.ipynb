{
 "cells": [
  {
   "cell_type": "markdown",
   "metadata": {},
   "source": [
    "# Matching catalogs based on membership (detailed)\n",
    "Here we show the specific steps of matching two catalogs based on proximity"
   ]
  },
  {
   "cell_type": "code",
   "execution_count": null,
   "metadata": {},
   "outputs": [],
   "source": [
    "%load_ext autoreload\n",
    "%autoreload 2"
   ]
  },
  {
   "cell_type": "markdown",
   "metadata": {},
   "source": [
    "## ClCatalogs\n",
    "Given some input data"
   ]
  },
  {
   "cell_type": "code",
   "execution_count": null,
   "metadata": {},
   "outputs": [],
   "source": [
    "import numpy as np\n",
    "from astropy.table import Table\n",
    "\n",
    "input1 = Table({\"ID\": [\"CL0a\", \"CL1a\", \"CL2a\", \"CL3a\", \"CL4a\"]})\n",
    "input1[\"MASS\"] = 1e14 * np.arange(1, 6) * 10\n",
    "input2 = Table({\"ID\": [\"CL0b\", \"CL1b\", \"CL2b\", \"CL3b\"]})\n",
    "input2[\"MASS\"] = 1e14 * np.arange(1, 5) * 10\n",
    "display(input1)\n",
    "display(input2)\n",
    "# Create members\n",
    "members_list = np.array(\n",
    "    [\n",
    "        # MEM_ID  CL1_ID  CL2_ID\n",
    "        [\"MEM0\", \"CL0a\", \"CL3b\"],\n",
    "        [\"MEM1\", \"CL0a\", \"CL0b\"],\n",
    "        [\"MEM2\", \"CL0a\", \"CL0b\"],\n",
    "        [\"MEM3\", \"CL0a\", \"CL0b\"],\n",
    "        [\"MEM4\", \"CL0a\", \"CL0b\"],\n",
    "        [\"MEM5\", \"CL1a\", \"CL1b\"],\n",
    "        [\"MEM6\", \"CL1a\", \"CL1b\"],\n",
    "        [\"MEM7\", \"CL1a\", \"CL1b\"],\n",
    "        [\"MEM8\", \"CL1a\", \"CL1b\"],\n",
    "        [\"MEM9\", \"CL2a\", \"CL2b\"],\n",
    "        [\"MEM10\", \"CL2a\", \"CL2b\"],\n",
    "        [\"MEM11\", \"CL2a\", \"CL2b\"],\n",
    "        [\"MEM12\", \"CL3a\", \"CL3b\"],\n",
    "        [\"MEM13\", \"CL3a\", \"CL3b\"],\n",
    "        [\"MEM14\", \"CL4a\", \"None\"],\n",
    "    ]\n",
    ")\n",
    "\n",
    "input1_mem = Table({\"ID\": members_list[:, 0], \"ID_CLUSTER\": members_list[:, 1]})\n",
    "input2_mem = Table({\"ID\": members_list[:-1, 0], \"ID_CLUSTER\": members_list[:-1, 2]})\n",
    "input1_mem[\"RA\"] = np.arange(len(input1_mem)) * 10.0\n",
    "input2_mem[\"RA\"] = np.arange(len(input2_mem)) * 10.0\n",
    "input1_mem[\"DEC\"] = 0.0\n",
    "input2_mem[\"DEC\"] = 0.0\n",
    "input1_mem[\"Z\"] = 0.1\n",
    "input2_mem[\"Z\"] = 0.1\n",
    "input1_mem[\"PMEM\"] = 1.0\n",
    "input2_mem[\"PMEM\"] = 1.0\n",
    "display(input1_mem)\n",
    "display(input2_mem)"
   ]
  },
  {
   "cell_type": "markdown",
   "metadata": {},
   "source": [
    "Create two `ClCatalog` objects, they have the same properties of `astropy` tables with additional functionality. You can tag the main properties of the catalog, or have columns with those names (see `catalogs.ipynb` for detailts). For the membership matching, the main columns to be included are:\n",
    "- `id` - must correspond to `id_cluster` in the cluster member catalog.\n",
    "- `mass` (or mass proxy) - necessary for proxity matching if `shared_member_fraction` used as preference criteria for unique matches, default use.\n",
    "\n",
    "\n",
    "All of the columns can be added when creating the `ClCatalog` object passing them as keys:\n",
    "```\n",
    "cat = ClCatalog('Cat', ra=[0, 1])\n",
    "```\n",
    "or passing the whole data table:\n",
    "\n",
    "```\n",
    "cat = ClCatalog('Cat', data={'ra': [0, 1]})\n",
    "```\n",
    "and can also be added afterwards:\n",
    "```\n",
    "cat = ClCatalog('Cat')\n",
    "cat['ra'] = [0, 1]\n",
    "```"
   ]
  },
  {
   "cell_type": "code",
   "execution_count": null,
   "metadata": {},
   "outputs": [],
   "source": [
    "from clevar.catalog import ClCatalog\n",
    "\n",
    "tags = {\"id\": \"ID\", \"mass\": \"MASS\"}\n",
    "c1 = ClCatalog(\"Cat1\", data=input1, tags=tags)\n",
    "c2 = ClCatalog(\"Cat2\", data=input2, tags=tags)\n",
    "\n",
    "# Format for nice display\n",
    "c1[\"mass\"].info.format = \".2e\"\n",
    "c2[\"mass\"].info.format = \".2e\"\n",
    "\n",
    "display(c1)\n",
    "display(c2)"
   ]
  },
  {
   "cell_type": "markdown",
   "metadata": {},
   "source": [
    "The members can be added to the cluster object using the `add_members` function.\n",
    "It has a similar instanciating format of a `ClCatalog` object, where the data can be added with tags, or the columns are added by keyword arguments (the tag/key `id_cluster` is always necessary and must correspond to `id` in the main cluster catalog)."
   ]
  },
  {
   "cell_type": "code",
   "execution_count": null,
   "metadata": {},
   "outputs": [],
   "source": [
    "mem_tags = {\"id\": \"ID\", \"id_cluster\": \"ID_CLUSTER\"}\n",
    "c1.add_members(data=input1_mem, tags=mem_tags)\n",
    "c2.add_members(data=input2_mem, tags=mem_tags)\n",
    "\n",
    "display(c1.members)\n",
    "display(c2.members)"
   ]
  },
  {
   "cell_type": "markdown",
   "metadata": {},
   "source": [
    "The catalogs can also be read directly from files, for more details see <a href='catalogs.ipynb'>catalogs.ipynb</a>."
   ]
  },
  {
   "cell_type": "markdown",
   "metadata": {},
   "source": [
    "## Matching\n",
    "Import the `MembershipMatch` and create a object for matching"
   ]
  },
  {
   "cell_type": "code",
   "execution_count": null,
   "metadata": {},
   "outputs": [],
   "source": [
    "from clevar.match import MembershipMatch\n",
    "\n",
    "mt = MembershipMatch()"
   ]
  },
  {
   "cell_type": "markdown",
   "metadata": {},
   "source": [
    "### Prepare the matching object\n",
    "Before matching the clusters it is necessary to match the members catalogs and then filling the clusters with information about of the shared members.\n",
    "\n",
    "The matching of members can be done by `id` if both member catalogs share the same `id`s or by angular proximity.\n",
    "\n",
    "\n",
    "\n",
    "\n",
    "\n",
    "\n",
    "The first step is to prepare each catalog with the matching configuration:\n",
    "\n",
    "- `delta_z`: Defines redshift window for matching. The possible values are:\n",
    "  - `'cat'`: uses redshift properties of the catalog\n",
    "  - `'spline.filename'`: interpolates data in `'filename'` assuming (z, zmin, zmax) format\n",
    "  - `float`: uses `delta_z*(1+z)`\n",
    "  - `None`: does not use z\n",
    "- `match_radius`: Radius of the catalog to be used in the matching. If `'cat'` uses the radius in the catalog, else must be in format `'value unit'`. (ex: `'1 arcsec'`, `'1 Mpc'`)\n",
    "\n",
    "In this case, because one of the configuraion radius has physical units, we also need a cosmology (`cosmo`) object to convert it to angular size (this is done internally)."
   ]
  },
  {
   "cell_type": "markdown",
   "metadata": {},
   "source": [
    "To match the members by `id`, just run the function:"
   ]
  },
  {
   "cell_type": "code",
   "execution_count": null,
   "metadata": {},
   "outputs": [],
   "source": [
    "%%time\n",
    "mt.match_members(c1.members, c2.members, method=\"id\")"
   ]
  },
  {
   "cell_type": "markdown",
   "metadata": {},
   "source": [
    "To match the members by angular proximity you also have to provide:\n",
    "  - `radius`(`str`, `None`). Radius for matching, with format `'value unit'` (ex: `1 arcsec`, `1 Mpc`).\n",
    "  - `cosmo`(`clevar.Cosmology`, `None`). Cosmology object for when radius has physical units.\n",
    "Then call the same function with these arguments"
   ]
  },
  {
   "cell_type": "code",
   "execution_count": null,
   "metadata": {},
   "outputs": [],
   "source": [
    "from clevar.cosmology import AstroPyCosmology\n",
    "\n",
    "mt.match_members(\n",
    "    c1.members, c2.members, method=\"angular_distance\", radius=\"0.1 kpc\", cosmo=AstroPyCosmology()\n",
    ")"
   ]
  },
  {
   "cell_type": "markdown",
   "metadata": {},
   "source": [
    "This function adds a `matched_mems` attribute to your matching object (`mt.matched_mems` in this case) that contains the indices of the matched members.\n",
    "This attribute can be saved and loaded so you don't have to redo this step.\n",
    "Just use the functions:"
   ]
  },
  {
   "cell_type": "code",
   "execution_count": null,
   "metadata": {},
   "outputs": [],
   "source": [
    "mt.save_matched_members(filename=\"mem_mt.txt\", overwrite=False)\n",
    "mt.load_matched_members(filename=\"mem_mt.txt\")"
   ]
  },
  {
   "cell_type": "markdown",
   "metadata": {},
   "source": [
    "Now we fill the catalogs with the information regarding the matched members. In this step, each cluster catalog will have a `ClData` table in its `mt_input` attibute with the number of members in each cluster (`nmem`) and a dictionary containing the number of shaded objects with the clusters of the other catalog (`shared_mems`).\n",
    "\n",
    "If `pmem` is provided to the members, these quantities are computed as:\n",
    "\n",
    "<center>$nmem=\\sum_{cluster\\;members} Pmem_i$</center>\n",
    "\n",
    "<center>$shared\\_mems=\\sum_{shared\\;members} Pmem_i$</center>"
   ]
  },
  {
   "cell_type": "code",
   "execution_count": null,
   "metadata": {},
   "outputs": [],
   "source": [
    "mt.fill_shared_members(c1, c2)"
   ]
  },
  {
   "cell_type": "code",
   "execution_count": null,
   "metadata": {},
   "outputs": [],
   "source": [
    "display(c1.mt_input)\n",
    "display(c2.mt_input)"
   ]
  },
  {
   "cell_type": "markdown",
   "metadata": {},
   "source": [
    "Again, these results can be saved and loaded so you don't have to redo this step.\n",
    "Just use the functions:"
   ]
  },
  {
   "cell_type": "code",
   "execution_count": null,
   "metadata": {},
   "outputs": [],
   "source": [
    "mt.save_shared_members(c1, c2, fileprefix=\"mem_share\")\n",
    "mt.load_shared_members(c1, c2, fileprefix=\"mem_share\")"
   ]
  },
  {
   "cell_type": "markdown",
   "metadata": {},
   "source": [
    "Once this step is done, you can actually start matching the clusters."
   ]
  },
  {
   "cell_type": "markdown",
   "metadata": {},
   "source": [
    "### Multiple matching\n",
    "The next step is to match the catalogs and store all candidates that pass the matching criteria."
   ]
  },
  {
   "cell_type": "code",
   "execution_count": null,
   "metadata": {},
   "outputs": [],
   "source": [
    "%%time\n",
    "mt.multiple(c1, c2)\n",
    "mt.multiple(c2, c1)"
   ]
  },
  {
   "cell_type": "markdown",
   "metadata": {},
   "source": [
    "This will fill the `mt_multi_self` and `mt_multi_other` columns:"
   ]
  },
  {
   "cell_type": "code",
   "execution_count": null,
   "metadata": {},
   "outputs": [],
   "source": [
    "display(c1)\n",
    "display(c2)"
   ]
  },
  {
   "cell_type": "markdown",
   "metadata": {},
   "source": [
    "### Unique matching\n",
    "Once all candidates are stored in each catalog, we can find the best candidates. You can also pass the argument:\n",
    "- `preference`: In cases where there are multiple matched, how the best candidate will be chosen. Options are: `'more_massive'`, `'angular_proximity'`, `'redshift_proximity'`, `'shared_member_fraction'` (default value).\n"
   ]
  },
  {
   "cell_type": "code",
   "execution_count": null,
   "metadata": {},
   "outputs": [],
   "source": [
    "%%time\n",
    "mt.unique(c1, c2, preference=\"shared_member_fraction\")\n",
    "mt.unique(c2, c1, preference=\"shared_member_fraction\")"
   ]
  },
  {
   "cell_type": "markdown",
   "metadata": {},
   "source": [
    "This will fill the matching columns:\n",
    "- `mt_self`: Best candidate found\n",
    "- `mt_other`: Best candidate found by the other catalog\n",
    "- `mt_frac_self`: Fraction of shared members with the best candidate found\n",
    "- `mt_frac_other`: Fraction of shared members by the best candidate found by the other catalog, relative to the other catalog\n",
    "\n",
    "\n",
    "If `pmem` is present in the members catalogs, the shared fractions are computed by:\n",
    "<h1><center>$\\frac{\\sum_{shared\\;members}Pmem_i}{\\sum_{cluster\\;members}Pmem_i}$</center></h1>"
   ]
  },
  {
   "cell_type": "code",
   "execution_count": null,
   "metadata": {},
   "outputs": [],
   "source": [
    "display(c1)\n",
    "display(c2)"
   ]
  },
  {
   "cell_type": "markdown",
   "metadata": {},
   "source": [
    "### Cross matching\n",
    "If you want to make sure the same pair was found in both directions:"
   ]
  },
  {
   "cell_type": "code",
   "execution_count": null,
   "metadata": {},
   "outputs": [],
   "source": [
    "c1.cross_match()\n",
    "c2.cross_match()"
   ]
  },
  {
   "cell_type": "markdown",
   "metadata": {},
   "source": [
    "This will fill the `mt_cross` column:"
   ]
  },
  {
   "cell_type": "code",
   "execution_count": null,
   "metadata": {},
   "outputs": [],
   "source": [
    "display(c1)\n",
    "display(c2)"
   ]
  },
  {
   "cell_type": "markdown",
   "metadata": {},
   "source": [
    "## Save and Load\n",
    "The results of the matching can easily be saved and load using `ClEvaR` tools:"
   ]
  },
  {
   "cell_type": "code",
   "execution_count": null,
   "metadata": {},
   "outputs": [],
   "source": [
    "mt.save_matches(c1, c2, out_dir=\"temp\", overwrite=True)"
   ]
  },
  {
   "cell_type": "code",
   "execution_count": null,
   "metadata": {},
   "outputs": [],
   "source": [
    "mt.load_matches(c1, c2, out_dir=\"temp\")\n",
    "display(c1)\n",
    "display(c2)"
   ]
  },
  {
   "cell_type": "markdown",
   "metadata": {},
   "source": [
    "## Getting Matched Pairs\n",
    "\n",
    "There is functionality inbuilt in `clevar` to plot some results of the matching, such as:\n",
    "- Recovery rates\n",
    "- Distances (anguar and redshift) of cluster centers\n",
    "- Scaling relations (mass, redshift, ...)\n",
    "for those cases, check the <a href='match_metrics.ipynb'>match_metrics.ipynb</a> and <a href='match_metrics_advanced.ipynb'>match_metrics_advanced.ipynb</a> notebooks.\n",
    "\n",
    "If those do not provide your needs, you can get directly the matched pairs of clusters: "
   ]
  },
  {
   "cell_type": "code",
   "execution_count": null,
   "metadata": {},
   "outputs": [],
   "source": [
    "from clevar.match import get_matched_pairs\n",
    "\n",
    "mt1, mt2 = get_matched_pairs(c1, c2, \"cross\")"
   ]
  },
  {
   "cell_type": "markdown",
   "metadata": {},
   "source": [
    "These will be catalogs with the corresponding matched pairs:"
   ]
  },
  {
   "cell_type": "code",
   "execution_count": null,
   "metadata": {},
   "outputs": [],
   "source": [
    "import pylab as plt\n",
    "\n",
    "plt.scatter(mt1[\"mass\"], mt2[\"mass\"])"
   ]
  },
  {
   "cell_type": "markdown",
   "metadata": {},
   "source": [
    "### Members of matched pairs\n",
    "\n",
    "The members also carry the information on the matched clusters.\n",
    "The column `match` shows to which clusters of the other catalog this member also belongs.\n",
    "The column `in_mt_sample` says if those clusters are presented in the matched sample:"
   ]
  },
  {
   "cell_type": "code",
   "execution_count": null,
   "metadata": {},
   "outputs": [],
   "source": [
    "mt1.members"
   ]
  },
  {
   "cell_type": "markdown",
   "metadata": {},
   "source": [
    "## Outputing matched catalogs\n",
    "\n",
    "To save the current catalogs, you can use the `write` inbuilt function:"
   ]
  },
  {
   "cell_type": "code",
   "execution_count": null,
   "metadata": {},
   "outputs": [],
   "source": [
    "c1.write(\"c1_temp.fits\", overwrite=True)"
   ]
  },
  {
   "cell_type": "markdown",
   "metadata": {},
   "source": [
    "This will allow you to save the catalog with its current labels and matching information.\n",
    "\n",
    "### Outputing matching information to original catalogs\n",
    "\n",
    "Assuming your input data came from initial files,\n",
    "`clevar` also provides functions create output files \n",
    "that combine all the information on them with the matching results.\n",
    "\n",
    "To add the matching information to an input catalog, use:\n",
    "\n",
    "```\n",
    "from clevar.match import output_catalog_with_matching\n",
    "output_catalog_with_matching('input_catalog.fits', 'output_catalog.fits', c1)\n",
    "```\n",
    "\n",
    "- note: `input_catalog.fits` must have the same number of rows that `c1`.\n",
    "\n",
    "\n",
    "To create a matched catalog containig all columns of both input catalogs, use:\n",
    "\n",
    "```\n",
    "from clevar.match import output_matched_catalog\n",
    "output_matched_catalog('input_catalog1.fits', 'input_catalog2.fits',\n",
    "    'output_catalog.fits', c1, c2, matching_type='cross')\n",
    "```\n",
    "\n",
    "where `matching_type` must be `cross`, `cat1` or `cat2`.\n",
    "\n",
    "- note: `input_catalog1.fits` must have the same number of rows that `c1` (and the same for `c2`)."
   ]
  }
 ],
 "metadata": {
  "kernelspec": {
   "display_name": "",
   "language": "python",
   "name": ""
  },
  "language_info": {
   "codemirror_mode": {
    "name": "ipython",
    "version": 3
   },
   "file_extension": ".py",
   "mimetype": "text/x-python",
   "name": "python",
   "nbconvert_exporter": "python",
   "pygments_lexer": "ipython3",
   "version": "3.10.8"
  },
  "toc": {
   "base_numbering": 1,
   "nav_menu": {},
   "number_sections": true,
   "sideBar": true,
   "skip_h1_title": true,
   "title_cell": "Table of Contents",
   "title_sidebar": "Contents",
   "toc_cell": true,
   "toc_position": {},
   "toc_section_display": true,
   "toc_window_display": false
  }
 },
 "nbformat": 4,
 "nbformat_minor": 4
}
