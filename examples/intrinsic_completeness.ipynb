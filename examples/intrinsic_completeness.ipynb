{
 "cells": [
  {
   "cell_type": "markdown",
   "metadata": {},
   "source": [
    "# Intrinsic Completeness\n",
    "When two catalogs with different mass proxies and a threshold mass proxy, there is a intrinsic completeness limitaion on the relative completeness of the catalogs.\n",
    "\n",
    "We can associate the mass proxy relation of two catalog with:\n",
    "\n",
    "\\begin{equation}\n",
    "P(M_2|M_1)\\frac{dn}{dM_1}=P(M_1|M_2)\\frac{dn}{dM_2},\n",
    "\\end{equation}\n",
    "\n",
    "where $P(M_1|M_2)$ is the probability of having a catalog 1 cluster with mass $M_1$ given a catalog 2 cluster with mass $M_2$, and $\\frac{dn}{dM_1}$ is the mass function of catalog 1.\n",
    "Then the number of catalog 1 cluster with mass $M_1$ can be computed as:\n",
    "\n",
    "\\begin{equation}\n",
    "n(M_1)=\\int_{-\\infty}^{\\infty}dM_2 \\frac{dn}{dM_2}P(M_1|M_2).\n",
    "\\end{equation}\n",
    "\n",
    "However, if catalog 2 has a cut given by some threshold $M_2^{th}$, the number of clusters we can expect to measure is:\n",
    "\n",
    "\\begin{equation}\n",
    "n_{M_2^{th}}(M_1)=\\int_{M_2^{th}}^{\\infty}dM_2 \\frac{dn}{dM_2}P(M_1|M_2),\n",
    "\\end{equation}\n",
    "\n",
    "and the relative completeness resulting is:\n",
    "\n",
    "\n",
    "\\begin{equation}\n",
    "c_{M_2^{th}}(M_1)=\n",
    "\\frac{n_{M_2^{th}}(M_1)}{n(M_1)}=\n",
    "\\frac\n",
    "    {\\int_{M_2^{th}}^{\\infty}dM_2 \\frac{dn}{dM_2}P(M_1|M_2)}\n",
    "    {\\int_{-\\infty}^{\\infty}dM_2 \\frac{dn}{dM_2}P(M_1|M_2)}.\n",
    "\\end{equation}\n",
    "\n",
    "We can see that this is just the integral of $P(M_1|M_2)$ weighted by the mass function $\\frac{dn}{dM_2}$.\n",
    "In an approximation where this factor presents minor effect (see the [appendix](#approx)), we can estimate this completeness as:\n",
    "\n",
    "\\begin{equation}\n",
    "c_{M_2^{th}}(M_1)=\n",
    "\\frac\n",
    "    {\\int_{M_2^{th}}^{\\infty}dM_2 P(M_1|M_2)}\n",
    "    {\\int_{-\\infty}^{\\infty}dM_2 P(M_1|M_2)}.\n",
    "\\end{equation}\n",
    "\n",
    "This is the estimation that can be done in `clevar`."
   ]
  },
  {
   "cell_type": "code",
   "execution_count": null,
   "metadata": {},
   "outputs": [],
   "source": [
    "%load_ext autoreload\n",
    "%autoreload 2\n",
    "\n",
    "import numpy as np\n",
    "import pylab as plt\n",
    "from IPython.display import Markdown as md"
   ]
  },
  {
   "cell_type": "markdown",
   "metadata": {},
   "source": [
    "## Generate random data and add to catalog"
   ]
  },
  {
   "cell_type": "code",
   "execution_count": null,
   "metadata": {},
   "outputs": [],
   "source": [
    "# For reproducibility\n",
    "np.random.seed(1)"
   ]
  },
  {
   "cell_type": "code",
   "execution_count": null,
   "metadata": {},
   "outputs": [],
   "source": [
    "from support import gen_cluster\n",
    "logm_scatter = 0.1\n",
    "input1, input2 = gen_cluster(lnm_scatter=logm_scatter*np.log(10))"
   ]
  },
  {
   "cell_type": "code",
   "execution_count": null,
   "metadata": {},
   "outputs": [],
   "source": [
    "from clevar import ClCatalog\n",
    "c1 = ClCatalog('Cat1', ra=input1['RA'], dec=input1['DEC'], z=input1['Z'], mass=input1['MASS'],\n",
    "            mass_err=input1['MASS_ERR'], z_err=input1['Z_ERR'])\n",
    "c2 = ClCatalog('Cat2', ra=input2['RA'], dec=input2['DEC'], z=input2['Z'], mass=input2['MASS'],\n",
    "            mass_err=input2['MASS_ERR'], z_err=input2['Z_ERR'])\n",
    "# Format for nice display\n",
    "for c in ('ra', 'dec', 'z', 'z_err'):\n",
    "    c1[c].info.format = '.2f'\n",
    "    c2[c].info.format = '.2f'\n",
    "for c in ('mass', 'mass_err'):\n",
    "    c1[c].info.format = '.2e'\n",
    "    c2[c].info.format = '.2e'"
   ]
  },
  {
   "cell_type": "markdown",
   "metadata": {},
   "source": [
    "## Match catalogs"
   ]
  },
  {
   "cell_type": "code",
   "execution_count": null,
   "metadata": {},
   "outputs": [],
   "source": [
    "from clevar.match import ProximityMatch\n",
    "from clevar.cosmology import AstroPyCosmology\n",
    "\n",
    "match_config = {\n",
    "    'type': 'cross', # options are cross, cat1, cat2\n",
    "    'which_radius': 'max', # Case of radius to be used, can be: cat1, cat2, min, max\n",
    "    'preference': 'angular_proximity', # options are more_massive, angular_proximity or redshift_proximity\n",
    "    'catalog1': {'delta_z':.2,\n",
    "                'match_radius': '10 arcsec'\n",
    "                },\n",
    "    'catalog2': {'delta_z':.2,\n",
    "                'match_radius': '10 arcsec'\n",
    "                }\n",
    "}\n",
    "\n",
    "mt = ProximityMatch()\n",
    "mt.match_from_config(c1, c2, match_config)"
   ]
  },
  {
   "cell_type": "markdown",
   "metadata": {},
   "source": [
    "## Find the scaling relation between the masses of the two catalogs"
   ]
  },
  {
   "cell_type": "code",
   "execution_count": null,
   "metadata": {},
   "outputs": [],
   "source": [
    "from clevar.match_metrics import scaling"
   ]
  },
  {
   "cell_type": "code",
   "execution_count": null,
   "metadata": {},
   "outputs": [],
   "source": [
    "zbins = np.linspace(0, 2, 21)\n",
    "mbins = np.logspace(13, 14, 5)"
   ]
  },
  {
   "cell_type": "code",
   "execution_count": null,
   "metadata": {},
   "outputs": [],
   "source": [
    "info2_mr = scaling.mass_density_metrics(\n",
    "    c2, c1, 'cross', ax_rotation=45,\n",
    "    add_err=False, plt_kwargs={'s':5},\n",
    "    mask1=c2['mass']>2e13,\n",
    "    add_fit=True, fit_bins1=20, fit_bins2=10, fit_err2=None,\n",
    "    bins1=20)"
   ]
  },
  {
   "cell_type": "markdown",
   "metadata": {},
   "source": [
    "The output of `scaling.mass*` functions contains a `['fit']['func_dist_interp']` element representing $P(M_1|M_2)$, which can be passed directly to the recovery rates to estimate the intrinsic completeness."
   ]
  },
  {
   "cell_type": "markdown",
   "metadata": {},
   "source": [
    "## Recovery rate\n",
    "Compute recovery rates, they are computed in mass and redshift bins.\n",
    "To add the intrinsic completeness, also pass the following arguments:\n",
    "* `p_m1_m2`: $P(M_1|M_2)$ - Probability of having a catalog 1 cluster with mass $M_1$ given a catalog 2 cluster with mass $M_2$.\n",
    "* `min_mass2`: Minimum mass (proxy) of the other catalog."
   ]
  },
  {
   "cell_type": "code",
   "execution_count": null,
   "metadata": {},
   "outputs": [],
   "source": [
    "from clevar.match_metrics import recovery"
   ]
  },
  {
   "cell_type": "markdown",
   "metadata": {},
   "source": [
    "When plotted as a function of redshift with mass bins, it will add shaded reagions corresponding to the completeness of each mass bin:"
   ]
  },
  {
   "cell_type": "code",
   "execution_count": null,
   "metadata": {},
   "outputs": [],
   "source": [
    "zbins = np.linspace(0, 2, 5)\n",
    "mbins = np.append(np.logspace(13, 13.4, 4), 1e15)\n",
    "info = recovery.plot(c1, 'cross', zbins, mbins, \n",
    "                     p_m1_m2=info2_mr['fit']['func_dist_interp'], min_mass2=1e13)\n",
    "plt.show()"
   ]
  },
  {
   "cell_type": "markdown",
   "metadata": {},
   "source": [
    "When plotted as a function of mass with redshift bins, it will add a shaded region correspong to the intrinsic completeness as a function of mass:"
   ]
  },
  {
   "cell_type": "code",
   "execution_count": null,
   "metadata": {},
   "outputs": [],
   "source": [
    "zbins = np.linspace(0, 2, 5)\n",
    "mbins = np.logspace(13, 14, 20)\n",
    "info = recovery.plot(\n",
    "    c1, 'cross', zbins, mbins,\n",
    "    shape='line', transpose=True,\n",
    "    p_m1_m2=info2_mr['fit']['func_dist_interp'], min_mass2=1e13)"
   ]
  },
  {
   "cell_type": "markdown",
   "metadata": {},
   "source": [
    "In this case specifically, we do know the true distribution $P(M_2|M_1)$ that was used by `gen_cluster` to generate the clusters. So we can compare these estimated results with the \"true\" intrinsic completeness:"
   ]
  },
  {
   "cell_type": "code",
   "execution_count": null,
   "metadata": {},
   "outputs": [],
   "source": [
    "p_m1_m2 = lambda m1, m2: np.exp(-0.5*(np.log10(m2/m1))**2/logm_scatter**2)/np.sqrt(2*np.pi*logm_scatter**2)"
   ]
  },
  {
   "cell_type": "code",
   "execution_count": null,
   "metadata": {},
   "outputs": [],
   "source": [
    "# By redshift\n",
    "zbins = np.linspace(0, 2, 5)\n",
    "mbins = np.append(np.logspace(13, 13.4, 4), 1e15)\n",
    "info = recovery.plot(c1, 'cross', zbins, mbins, \n",
    "                     p_m1_m2=p_m1_m2, min_mass2=1e13)\n",
    "plt.show()\n",
    "\n",
    "# By mass\n",
    "zbins = np.linspace(0, 2, 5)\n",
    "mbins = np.logspace(13, 14, 20)\n",
    "info = recovery.plot(\n",
    "    c1, 'cross', zbins, mbins,\n",
    "    shape='line', transpose=True,\n",
    "    p_m1_m2=p_m1_m2, min_mass2=1e13)"
   ]
  },
  {
   "cell_type": "code",
   "execution_count": null,
   "metadata": {},
   "outputs": [],
   "source": [
    "# By redshift\n",
    "zbins = np.linspace(0, 2, 5)\n",
    "mbins = np.append(np.logspace(13, 13.4, 4), 1e15)\n",
    "info = recovery.plot(c1, 'cross', zbins, mbins, \n",
    "                     p_m1_m2=p_m1_m2, min_mass2=1e13)\n",
    "plt.show()\n",
    "\n",
    "# By mass\n",
    "zbins = np.linspace(0, 2, 5)\n",
    "mbins = np.logspace(13, 14, 20)\n",
    "info = recovery.plot(\n",
    "    c1, 'cross', zbins, mbins,\n",
    "    shape='line', transpose=True,\n",
    "    p_m1_m2=p_m1_m2, min_mass2=1e13)"
   ]
  },
  {
   "cell_type": "markdown",
   "metadata": {
    "scrolled": true
   },
   "source": [
    "### Panels plots\n",
    "You can also have a panel for each bin:"
   ]
  },
  {
   "cell_type": "code",
   "execution_count": null,
   "metadata": {},
   "outputs": [],
   "source": [
    "zbins = np.linspace(0, 2, 21)\n",
    "mbins = np.append(np.logspace(13, 13.4, 4), 1e15)\n",
    "info = recovery.plot_panel(c1, 'cross', zbins, mbins,\n",
    "                           p_m1_m2=p_m1_m2, min_mass2=1e13)\n",
    "\n",
    "zbins = np.linspace(0, 2, 5)\n",
    "mbins = np.logspace(13, 14, 20)\n",
    "info = recovery.plot_panel(c1, 'cross', zbins, mbins, transpose=True,\n",
    "                          p_m1_m2=p_m1_m2, min_mass2=1e13)"
   ]
  },
  {
   "cell_type": "markdown",
   "metadata": {},
   "source": [
    "# Appendix: Estimating deviation in completeness approximation <a id='approx'>\n",
    "\n",
    "Here we can compute the deviation of disregarding the mass function factor in the intrinsic completeness estimation, i. e. comparing:\n",
    "    \n",
    "\\begin{equation}\n",
    "c(M)=\n",
    "\\frac\n",
    "    {\\int_{M_2^{th}}^{\\infty}dM_2 \\frac{dn}{dM_2}P(M_1|M_2)}\n",
    "    {\\int_{-\\infty}^{\\infty}dM_2 \\frac{dn}{dM_2}P(M_1|M_2)},\n",
    "\\end{equation}\n",
    "\n",
    "with\n",
    "\n",
    "\\begin{equation}\n",
    "c_{approx}(M_1)=\n",
    "\\frac\n",
    "    {\\int_{M_2^{th}}^{\\infty}dM_2 P(M_1|M_2)}\n",
    "    {\\int_{-\\infty}^{\\infty}dM_2 P(M_1|M_2)}.\n",
    "\\end{equation}"
   ]
  },
  {
   "cell_type": "code",
   "execution_count": null,
   "metadata": {},
   "outputs": [],
   "source": [
    "# Mass function approximation, derived from DC2 simulation:\n",
    "dn_dlogm = lambda x: 10**np.poly1d([ -0.4102,   9.6586, -52.4729])(x)\n",
    "\n",
    "# Gaussian distribution for logm\n",
    "p_m1_m2 = lambda m1, m2: np.exp(-0.5*(np.log10(m2/m1))**2/logm_scatter**2)/np.sqrt(2*np.pi*logm_scatter**2)"
   ]
  },
  {
   "cell_type": "code",
   "execution_count": null,
   "metadata": {},
   "outputs": [],
   "source": [
    "from scipy.integrate import quad_vec\n",
    "\n",
    "# Limits for integrals\n",
    "min_log_mass2_norm = 10\n",
    "max_log_mass2 = 16\n",
    "\n",
    "# Normalized integral\n",
    "def normalized_integral(m1, m2_th, func):\n",
    "    integ = quad_vec(func, np.log10(m2_th), max_log_mass2, epsabs=1e-50)[0]\n",
    "    norm = quad_vec(func, min_log_mass2_norm, max_log_mass2, epsabs=1e-50)[0]\n",
    "    if hasattr(integ, '__len__'):\n",
    "        integ[norm>0] /= norm[norm>0]\n",
    "    else:\n",
    "        integ = integ/norm if norm>0 else integ\n",
    "    return integ\n",
    "\n",
    "# Intrinsic completenss\n",
    "comp_full = lambda m1, m2_th: normalized_integral(\n",
    "    m1, m2_th, lambda logm2: p_m1_m2(m1, 10**logm2)*dn_dlogm(logm2))\n",
    "\n",
    "# Intrinsic completeness disregarding mass function\n",
    "comp_approx = lambda m1, m2_th: normalized_integral(\n",
    "    m1, m2_th, lambda logm2: p_m1_m2(m1, 10**logm2))"
   ]
  },
  {
   "cell_type": "markdown",
   "metadata": {},
   "source": [
    "We can estimate the difference as a function of $M_1$ or $M_2^{th}$. We will see both below."
   ]
  },
  {
   "cell_type": "markdown",
   "metadata": {},
   "source": [
    "## Difference with threshold mass\n",
    "\n",
    "Here we want to see the difference of this approximations as a function of $M_2^{th}$."
   ]
  },
  {
   "cell_type": "code",
   "execution_count": null,
   "metadata": {},
   "outputs": [],
   "source": [
    "m1 = 1e13"
   ]
  },
  {
   "cell_type": "code",
   "execution_count": null,
   "metadata": {},
   "outputs": [],
   "source": [
    "md(f'We start by fixing $M_1$ at $10^{{{np.log10(m1):.1f}}}$'\n",
    "  r' and evaluating the difference of the arguments $\\frac{dn}{dM_2}P(M_1|M_2)$ vs $P(M_1|M_2)$:')"
   ]
  },
  {
   "cell_type": "code",
   "execution_count": null,
   "metadata": {},
   "outputs": [],
   "source": [
    "m2_vec = np.logspace(12, 15, 500)\n",
    "norm1 = quad_vec(lambda logm2: p_m1_m2(m1, 10**logm2)*dn_dlogm(logm2),\n",
    "    min_log_mass2_norm, max_log_mass2, epsabs=1e-50)[0]\n",
    "norm2 = quad_vec(lambda logm2: p_m1_m2(m1, 10**logm2),\n",
    "    min_log_mass2_norm, max_log_mass2, epsabs=1e-50)[0]\n",
    "\n",
    "plt.plot(m2_vec, p_m1_m2(m1, m2_vec)*dn_dlogm(np.log10(m2_vec))/norm1,\n",
    "         label=r'$\\frac{dn}{dM_2}P(M_1|M_2)$')\n",
    "plt.plot(m2_vec, p_m1_m2(m1, m2_vec)/norm2, label='$P(M_1|M_2)$')\n",
    "\n",
    "\n",
    "plt.axvline(m1, ls='--', color='r')\n",
    "plt.text(m1, 0, '$M_1$', color='r')\n",
    "\n",
    "plt.xscale('log')\n",
    "plt.xlabel('$M_2$')\n",
    "plt.ylabel('kernel')\n",
    "plt.legend(fontsize=16)\n",
    "plt.show()"
   ]
  },
  {
   "cell_type": "markdown",
   "metadata": {},
   "source": [
    "There is only a small shift in the argument to be integrated.\n",
    "\n",
    "When making the integrals:"
   ]
  },
  {
   "cell_type": "code",
   "execution_count": null,
   "metadata": {},
   "outputs": [],
   "source": [
    "m2_th_vec = np.logspace(12, 14, 100)\n",
    "\n",
    "int_full_m1fix = np.array([comp_full(m1, m2) for m2 in m2_th_vec])\n",
    "int_approx_m1fix = np.array([comp_approx(m1, m2) for m2 in m2_th_vec])"
   ]
  },
  {
   "cell_type": "markdown",
   "metadata": {},
   "source": [
    "and checking the difference:"
   ]
  },
  {
   "cell_type": "code",
   "execution_count": null,
   "metadata": {},
   "outputs": [],
   "source": [
    "f, axes = plt.subplots(2, figsize=(6, 8), sharex=True)\n",
    "\n",
    "axes[0].plot(m2_th_vec, int_full_m1fix, label=r'$\\frac{dn}{dM_2}P(M_2|M_1)$')\n",
    "axes[0].plot(m2_th_vec, int_approx_m1fix, label='$P(M_2|M_1)$')\n",
    "\n",
    "diff_m1fix = int_approx_m1fix-int_full_m1fix\n",
    "axes[1].plot(m2_th_vec, diff_m1fix)\n",
    "\n",
    "axes[0].legend(fontsize=16)\n",
    "axes[0].set_ylabel('$c_{M_2^{th}}(M_1=10^{13})$')\n",
    "axes[1].set_ylabel('$difference$')\n",
    "axes[1].set_xlabel('$M_2^{th}$')\n",
    "\n",
    "\n",
    "for ax in axes:\n",
    "    ax.set_xscale('log')\n",
    "    ax.axvline(m1, ls='--', color='r')\n",
    "    ax.text(m1, 0, '$M_1$', color='r')\n",
    "\n",
    "plt.show()"
   ]
  },
  {
   "cell_type": "code",
   "execution_count": null,
   "metadata": {},
   "outputs": [],
   "source": [
    "md(f'the maximum difference is of {diff_m1fix.max():.4f}. '\n",
    "   f'Therefore the approximation only deviates by {diff_m1fix.max()*100:.0f}%,'\n",
    "   ' and it occurs at $M_2^{th}$=$M_1$')"
   ]
  },
  {
   "cell_type": "markdown",
   "metadata": {},
   "source": [
    "## Difference catalog mass\n",
    "\n",
    "Here we want to see the difference of this approximations as a function of $M_1$."
   ]
  },
  {
   "cell_type": "code",
   "execution_count": null,
   "metadata": {},
   "outputs": [],
   "source": [
    "m2_th = 1e13"
   ]
  },
  {
   "cell_type": "code",
   "execution_count": null,
   "metadata": {},
   "outputs": [],
   "source": [
    "md(f'We start by setting $M_2^{{th}}$ at $10^{{{np.log10(m2_th):.1f}}}$'\n",
    "  r' and evaluating the difference of the arguments $\\frac{dn}{dM_2}P(M_1|M_2)$ vs $P(M_1|M_2)$:')"
   ]
  },
  {
   "cell_type": "code",
   "execution_count": null,
   "metadata": {},
   "outputs": [],
   "source": [
    "m1_vec = np.logspace(12, 14, 201)\n",
    "\n",
    "int_full_m2fix = comp_full(m1_vec, m2_th)\n",
    "int_approx_m2fix = comp_approx(m1_vec, m2_th)"
   ]
  },
  {
   "cell_type": "code",
   "execution_count": null,
   "metadata": {},
   "outputs": [],
   "source": [
    "f, axes = plt.subplots(2, figsize=(6, 8), sharex=True)\n",
    "\n",
    "axes[0].plot(m1_vec, int_full_m2fix, label=r'$\\frac{dn}{dM_2}P(M_1|M_2)$')\n",
    "axes[0].plot(m1_vec, int_approx_m2fix, label='$P(M_1|M_2)$')\n",
    "\n",
    "diff_m2fix = int_approx_m2fix-int_full_m2fix\n",
    "axes[1].plot(m1_vec, diff_m2fix)\n",
    "\n",
    "axes[0].legend(fontsize=16)\n",
    "axes[0].set_ylabel('$c_{M_2^{th}=10^{13}}(M_1)$')\n",
    "axes[1].set_ylabel('$difference$')\n",
    "axes[1].set_xlabel('$M_1$')\n",
    "for ax in axes:\n",
    "    ax.set_xscale('log')\n",
    "    ax.axvline(m2_th, ls='--', color='r')\n",
    "    ax.text(m2_th, 0, '$M_2^{th}$', color='r')\n",
    "\n",
    "plt.show()"
   ]
  },
  {
   "cell_type": "code",
   "execution_count": null,
   "metadata": {},
   "outputs": [],
   "source": [
    "md(f'The maximum difference is of {diff_m2fix.max():.4f}. '\n",
    "   f'Therefore the approximation only deviates by {diff_m2fix.max()*100:.0f}%,'\n",
    "   ' and it occurs at $M_1$=$M_2^{th}$')"
   ]
  }
 ],
 "metadata": {
  "kernelspec": {
   "display_name": "",
   "language": "python",
   "name": ""
  },
  "language_info": {
   "codemirror_mode": {
    "name": "ipython",
    "version": 3
   },
   "file_extension": ".py",
   "mimetype": "text/x-python",
   "name": "python",
   "nbconvert_exporter": "python",
   "pygments_lexer": "ipython3",
   "version": "3.9.2"
  }
 },
 "nbformat": 4,
 "nbformat_minor": 4
}
