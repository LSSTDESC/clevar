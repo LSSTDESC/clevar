{
 "cells": [
  {
   "cell_type": "code",
   "execution_count": null,
   "metadata": {},
   "outputs": [],
   "source": [
    "%load_ext autoreload\n",
    "%autoreload 2"
   ]
  },
  {
   "cell_type": "code",
   "execution_count": null,
   "metadata": {},
   "outputs": [],
   "source": [
    "import numpy as np\n",
    "import pylab as plt\n",
    "from astropy.table import Table"
   ]
  },
  {
   "cell_type": "markdown",
   "metadata": {},
   "source": [
    "# Generate random data and add to catalog"
   ]
  },
  {
   "cell_type": "code",
   "execution_count": null,
   "metadata": {},
   "outputs": [],
   "source": [
    "N_clusters = 1000\n",
    "Data0 = Table({ \n",
    "    'RA': np.random.rand(N_clusters)*360,\n",
    "    'DEC': np.random.rand(N_clusters)*180-90,\n",
    "    'Z': .05+np.random.rand(N_clusters)*2,\n",
    "    'RADIUS_ARCMIN': np.random.rand(N_clusters),\n",
    "})\n",
    "m00 = 13+2*np.random.rand(N_clusters*10)\n",
    "prob_m = np.exp(-5*(m00-13)**2)\n",
    "Data0['MASS'] = 10**np.random.choice(m00, N_clusters,\n",
    "                                     p=prob_m/prob_m.sum(),\n",
    "                                     replace=False)\n",
    "Data0['MASS_ERR'] = Data0['MASS']*np.random.normal(loc=.2+0*Data0['MASS'], scale=.05)\n",
    "Data0['Z_ERR'] = (1+Data0['Z'])*np.random.normal(loc=.03+0*Data0['Z'], scale=.005)\n",
    "\n",
    "cls1 = np.random.choice(range(N_clusters), int(N_clusters*.7), replace=False)\n",
    "input1 = Data0[cls1]\n",
    "x = (Data0['MASS']/1e14)\n",
    "comp = (x**3)/(x**3+1)\n",
    "pur = (x)/(x+1)\n",
    "prob = 1-pur\n",
    "prob[cls1] = comp[cls1]\n",
    "prob = prob/prob.sum()\n",
    "\n",
    "input2 = Data0[np.random.choice(range(N_clusters), int(N_clusters*.7), replace=False, p=prob)]\n",
    "input2['RA'] = np.random.normal(loc=input2['RA'], scale=1/3600.)\n",
    "input2['DEC'] = np.random.normal(loc=input2['DEC'], scale=1/3600.)\n",
    "input2['Z'] = np.random.normal(loc=input2['Z'], scale=.01)"
   ]
  },
  {
   "cell_type": "code",
   "execution_count": null,
   "metadata": {},
   "outputs": [],
   "source": [
    "from clevar.catalog import ClData, Catalog"
   ]
  },
  {
   "cell_type": "code",
   "execution_count": null,
   "metadata": {},
   "outputs": [],
   "source": [
    "c1 = Catalog('Cat1', ra=input1['RA'], dec=input1['DEC'], z=input1['Z'], mass=input1['MASS'],\n",
    "            mass_err=input1['MASS_ERR'], z_err=input1['Z_ERR'])\n",
    "c2 = Catalog('Cat2', ra=input2['RA'], dec=input2['DEC'], z=input2['Z'], mass=input2['MASS'],\n",
    "            mass_err=input2['MASS_ERR'], z_err=input2['Z_ERR'])"
   ]
  },
  {
   "cell_type": "markdown",
   "metadata": {},
   "source": [
    "# Match catalogs"
   ]
  },
  {
   "cell_type": "code",
   "execution_count": null,
   "metadata": {},
   "outputs": [],
   "source": [
    "from clevar.match.proximity import ProximityMatch\n",
    "from clevar.cosmology import AstroPyCosmology"
   ]
  },
  {
   "cell_type": "code",
   "execution_count": null,
   "metadata": {},
   "outputs": [],
   "source": [
    "mt = ProximityMatch()"
   ]
  },
  {
   "cell_type": "code",
   "execution_count": null,
   "metadata": {},
   "outputs": [],
   "source": [
    "mt_config1 = {'delta_z':.2,\n",
    "            'match_radius': '1 mpc',\n",
    "            'cosmo':AstroPyCosmology()}\n",
    "mt_config2 = {'delta_z':.2,\n",
    "            'match_radius': '10 arcsec'}\n",
    "mt.prep_cat_for_match(c1, **mt_config1)\n",
    "mt.prep_cat_for_match(c2, **mt_config2)"
   ]
  },
  {
   "cell_type": "code",
   "execution_count": null,
   "metadata": {},
   "outputs": [],
   "source": [
    "%%time\n",
    "mt.multiple(c1, c2)\n",
    "mt.multiple(c2, c1)"
   ]
  },
  {
   "cell_type": "code",
   "execution_count": null,
   "metadata": {},
   "outputs": [],
   "source": [
    "%%time\n",
    "mt.unique(c1, c2, 'angular_proximity')\n",
    "mt.unique(c2, c1, 'angular_proximity')"
   ]
  },
  {
   "cell_type": "code",
   "execution_count": null,
   "metadata": {},
   "outputs": [],
   "source": [
    "mt.cross_match(c1)\n",
    "mt.cross_match(c2)"
   ]
  },
  {
   "cell_type": "markdown",
   "metadata": {},
   "source": [
    "# Recovery rate"
   ]
  },
  {
   "cell_type": "code",
   "execution_count": null,
   "metadata": {},
   "outputs": [],
   "source": [
    "from clevar.metrics import recovery"
   ]
  },
  {
   "cell_type": "code",
   "execution_count": null,
   "metadata": {},
   "outputs": [],
   "source": [
    "zbins = np.linspace(0, 2, 6)\n",
    "mbins = np.logspace(13, 14, 5)"
   ]
  },
  {
   "cell_type": "markdown",
   "metadata": {},
   "source": [
    "## Line type"
   ]
  },
  {
   "cell_type": "code",
   "execution_count": null,
   "metadata": {},
   "outputs": [],
   "source": [
    "recovery.plot(c1, 'mt_cross', zbins, mbins)\n",
    "plt.show()\n",
    "recovery.plot(c1, 'mt_cross', zbins, mbins, shape='line')\n",
    "plt.show()"
   ]
  },
  {
   "cell_type": "markdown",
   "metadata": {},
   "source": [
    "## Transpose"
   ]
  },
  {
   "cell_type": "code",
   "execution_count": null,
   "metadata": {},
   "outputs": [],
   "source": [
    "recovery.plot(c1, 'mt_cross', zbins, mbins,\n",
    "              shape='line', transpose=True)"
   ]
  },
  {
   "cell_type": "markdown",
   "metadata": {
    "scrolled": true
   },
   "source": [
    "## Panels"
   ]
  },
  {
   "cell_type": "code",
   "execution_count": null,
   "metadata": {},
   "outputs": [],
   "source": [
    "f, axes = recovery.plot_panel(c1, 'mt_cross', zbins, mbins)\n",
    "plt.show()\n",
    "f, axes = recovery.plot_panel(c1, 'mt_cross', zbins, mbins, transpose=True)\n",
    "plt.show()"
   ]
  },
  {
   "cell_type": "markdown",
   "metadata": {},
   "source": [
    "## 2D"
   ]
  },
  {
   "cell_type": "code",
   "execution_count": null,
   "metadata": {},
   "outputs": [],
   "source": [
    "recovery.plot2D(c1, 'mt_cross', zbins, mbins)\n",
    "plt.show()\n",
    "\n",
    "recovery.plot2D(c1, 'mt_cross', zbins, mbins,\n",
    "                add_num=True, num_kwargs={'fontsize':15})\n",
    "plt.show()"
   ]
  },
  {
   "cell_type": "markdown",
   "metadata": {},
   "source": [
    "# Distances of matching"
   ]
  },
  {
   "cell_type": "code",
   "execution_count": null,
   "metadata": {},
   "outputs": [],
   "source": [
    "from clevar.metrics import distances"
   ]
  },
  {
   "cell_type": "code",
   "execution_count": null,
   "metadata": {},
   "outputs": [],
   "source": [
    "ax = distances.central_position(c1, c2, 'mt_cross', 20, 'degrees')"
   ]
  },
  {
   "cell_type": "code",
   "execution_count": null,
   "metadata": {},
   "outputs": [],
   "source": [
    "ax = distances.redshift(c1, c2, 'mt_cross', redshift_bins=20,\n",
    "                        mass_bins=mbins, normalize='cat1')"
   ]
  },
  {
   "cell_type": "markdown",
   "metadata": {},
   "source": [
    "# Scaling Relations"
   ]
  },
  {
   "cell_type": "code",
   "execution_count": null,
   "metadata": {},
   "outputs": [],
   "source": [
    "from clevar.metrics import scaling"
   ]
  },
  {
   "cell_type": "markdown",
   "metadata": {},
   "source": [
    "## Redshift plots"
   ]
  },
  {
   "cell_type": "markdown",
   "metadata": {},
   "source": [
    "### Simple plot"
   ]
  },
  {
   "cell_type": "code",
   "execution_count": null,
   "metadata": {},
   "outputs": [],
   "source": [
    "ax = scaling.redshift(c1, c2, 'mt_cross')\n",
    "plt.show()\n",
    "ax = scaling.redshift(c1, c2, 'mt_cross', add_err=True)\n",
    "plt.show()"
   ]
  },
  {
   "cell_type": "markdown",
   "metadata": {},
   "source": [
    "### Color points by $\\log(M)$ value"
   ]
  },
  {
   "cell_type": "code",
   "execution_count": null,
   "metadata": {},
   "outputs": [],
   "source": [
    "ax, cb = scaling.redshift_masscolor(c1, c2, 'mt_cross', add_err=True)"
   ]
  },
  {
   "cell_type": "markdown",
   "metadata": {},
   "source": [
    "### Color points by density at plot"
   ]
  },
  {
   "cell_type": "code",
   "execution_count": null,
   "metadata": {},
   "outputs": [],
   "source": [
    "ax, cb = scaling.redshift_density(c1, c2, 'mt_cross', add_err=True)"
   ]
  },
  {
   "cell_type": "code",
   "execution_count": null,
   "metadata": {},
   "outputs": [],
   "source": [
    "ax, cb = scaling.redshift_density(c1, c2, 'mt_cross', ax_rotation=45)"
   ]
  },
  {
   "cell_type": "markdown",
   "metadata": {},
   "source": [
    "### Split data into mass bins"
   ]
  },
  {
   "cell_type": "code",
   "execution_count": null,
   "metadata": {},
   "outputs": [],
   "source": [
    "fig, axes = scaling.redshift_masspanel(c1, c2, 'mt_cross', add_err=True)"
   ]
  },
  {
   "cell_type": "markdown",
   "metadata": {},
   "source": [
    "### Split data into mass bins and color by density"
   ]
  },
  {
   "cell_type": "code",
   "execution_count": null,
   "metadata": {},
   "outputs": [],
   "source": [
    "fig, axes = scaling.redshift_density_masspanel(c1, c2, 'mt_cross', add_err=True)"
   ]
  },
  {
   "cell_type": "markdown",
   "metadata": {},
   "source": [
    "## Mass plots"
   ]
  },
  {
   "cell_type": "markdown",
   "metadata": {},
   "source": [
    "### Simple plot"
   ]
  },
  {
   "cell_type": "code",
   "execution_count": null,
   "metadata": {},
   "outputs": [],
   "source": [
    "ax = scaling.mass(c1, c2, 'mt_cross', add_err=True)"
   ]
  },
  {
   "cell_type": "markdown",
   "metadata": {},
   "source": [
    "### Color points by redshift value"
   ]
  },
  {
   "cell_type": "code",
   "execution_count": null,
   "metadata": {},
   "outputs": [],
   "source": [
    "ax, cb = scaling.mass_zcolor(c1, c2, 'mt_cross', add_err=True)"
   ]
  },
  {
   "cell_type": "markdown",
   "metadata": {},
   "source": [
    "### Color points by density at plot"
   ]
  },
  {
   "cell_type": "code",
   "execution_count": null,
   "metadata": {},
   "outputs": [],
   "source": [
    "ax, cb = scaling.mass_density(c1, c2, 'mt_cross', add_err=True)"
   ]
  },
  {
   "cell_type": "markdown",
   "metadata": {},
   "source": [
    "### Split data into redshift bins"
   ]
  },
  {
   "cell_type": "code",
   "execution_count": null,
   "metadata": {},
   "outputs": [],
   "source": [
    "fig, axes = scaling.mass_zpanel(c1, c2, 'mt_cross', add_err=True)"
   ]
  },
  {
   "cell_type": "markdown",
   "metadata": {},
   "source": [
    "### Split data into redshift bins and color by density"
   ]
  },
  {
   "cell_type": "code",
   "execution_count": null,
   "metadata": {},
   "outputs": [],
   "source": [
    "fig, axes = scaling.mass_density_zpanel(c1, c2, 'mt_cross', add_err=True)"
   ]
  }
 ],
 "metadata": {
  "kernelspec": {
   "display_name": "conda-clmmenv",
   "language": "python",
   "name": "conda-clmmenv"
  },
  "language_info": {
   "codemirror_mode": {
    "name": "ipython",
    "version": 3
   },
   "file_extension": ".py",
   "mimetype": "text/x-python",
   "name": "python",
   "nbconvert_exporter": "python",
   "pygments_lexer": "ipython3",
   "version": "3.9.2"
  }
 },
 "nbformat": 4,
 "nbformat_minor": 4
}
