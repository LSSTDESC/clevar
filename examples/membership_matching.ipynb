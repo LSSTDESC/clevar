{
 "cells": [
  {
   "cell_type": "markdown",
   "metadata": {},
   "source": [
    "# Matching catalogs based on membership (simple)\n",
    "Matching two catalogs based on membseship using a configuration dictionary"
   ]
  },
  {
   "cell_type": "code",
   "execution_count": null,
   "metadata": {},
   "outputs": [],
   "source": [
    "%load_ext autoreload\n",
    "%autoreload 2"
   ]
  },
  {
   "cell_type": "markdown",
   "metadata": {},
   "source": [
    "## ClCatalogs\n",
    "Given some input data"
   ]
  },
  {
   "cell_type": "code",
   "execution_count": null,
   "metadata": {},
   "outputs": [],
   "source": [
    "import numpy as np\n",
    "from astropy.table import Table\n",
    "input1 = Table({'ID': ['CL0a', 'CL1a', 'CL2a', 'CL3a', 'CL4a']})\n",
    "input1['MASS'] = 1e14*np.arange(1, 6)*10\n",
    "input2 = Table({'ID': ['CL0b', 'CL1b', 'CL2b', 'CL3b']})\n",
    "input2['MASS'] = 1e14*np.arange(1, 5)*10\n",
    "display(input1)\n",
    "display(input2)\n",
    "input1_mem = Table(\n",
    "    {'ID':[\n",
    "        'MEM0', 'MEM1', 'MEM2', 'MEM3', 'MEM4',\n",
    "        'MEM5', 'MEM6', 'MEM7', 'MEM8', 'MEM9',\n",
    "        'MEM10', 'MEM11', 'MEM12', 'MEM13', 'MEM14'],\n",
    "     'ID_CLUSTER': [\n",
    "         'CL0a', 'CL0a', 'CL0a', 'CL0a', 'CL0a',\n",
    "         'CL1a', 'CL1a', 'CL1a', 'CL1a', 'CL2a',\n",
    "         'CL2a', 'CL2a', 'CL3a', 'CL3a', 'CL4a'],\n",
    "    })\n",
    "input2_mem = Table(\n",
    "    {'ID':[\n",
    "        'MEM0', 'MEM1', 'MEM2', 'MEM3', 'MEM4',\n",
    "        'MEM5', 'MEM6', 'MEM7', 'MEM8', 'MEM9',\n",
    "        'MEM10', 'MEM11', 'MEM12', 'MEM13'],\n",
    "     'ID_CLUSTER': [\n",
    "         'CL3b', 'CL0b', 'CL0b', 'CL0b', 'CL0b',\n",
    "         'CL1b', 'CL1b', 'CL1b', 'CL1b', 'CL2b',\n",
    "         'CL2b', 'CL2b', 'CL3b', 'CL3b'],\n",
    "    })\n",
    "input1_mem['RA'] = np.arange(len(input1_mem))*10.0\n",
    "input2_mem['RA'] = np.arange(len(input2_mem))*10.0\n",
    "input1_mem['DEC'] = 0.0\n",
    "input2_mem['DEC'] = 0.0\n",
    "input1_mem['Z'] = 0.1\n",
    "input2_mem['Z'] = 0.1\n",
    "input1_mem['PMEM'] = 1.0\n",
    "input2_mem['PMEM'] = 1.0\n",
    "display(input1_mem)\n",
    "display(input2_mem)"
   ]
  },
  {
   "cell_type": "markdown",
   "metadata": {},
   "source": [
    "Create two `ClCatalog` objects. For membership matching it is necessary to have at least `id_cluster` in the member catalogs that corresponds to `id` in the cluster catalogs.\n",
    "If the matching of the members is done by anngular distance, `ra` and `dec` of the members also must be included.\n",
    "It is also possible to add the probability of each member belong to the host cluster with a `pmem` argument:"
   ]
  },
  {
   "cell_type": "code",
   "execution_count": null,
   "metadata": {},
   "outputs": [],
   "source": [
    "from clevar.catalog import ClCatalog, MemCatalog\n",
    "c1 = ClCatalog('Cat1', id=input1['ID'], mass=input1['MASS'])\n",
    "c2 = ClCatalog('Cat2', id=input2['ID'], mass=input2['MASS'])\n",
    "\n",
    "m1 = MemCatalog('Mem1', id=input1_mem['ID'], id_cluster=input1_mem['ID_CLUSTER'],\n",
    "                ra=input1_mem['RA'], dec=input1_mem['DEC'], pmem=input1_mem['PMEM'])\n",
    "m2 = MemCatalog('Mem2', id=input2_mem['ID'], id_cluster=input2_mem['ID_CLUSTER'],\n",
    "                ra=input2_mem['RA'], dec=input2_mem['DEC'], pmem=input2_mem['PMEM'])\n",
    "\n",
    "# Format for nice display\n",
    "for c in ('mass',):\n",
    "    c1[c].info.format = '.2e'\n",
    "    c2[c].info.format = '.2e'\n",
    "\n",
    "display(c1)\n",
    "display(c2)\n",
    "display(m1)\n",
    "display(m2)"
   ]
  },
  {
   "cell_type": "markdown",
   "metadata": {},
   "source": [
    "## Matching\n",
    "Import the `MembershipMatch` and create a object for matching"
   ]
  },
  {
   "cell_type": "code",
   "execution_count": null,
   "metadata": {},
   "outputs": [],
   "source": [
    "from clevar.match import MembershipMatch\n",
    "mt = MembershipMatch()"
   ]
  },
  {
   "cell_type": "markdown",
   "metadata": {},
   "source": [
    "Prepare the configuration. The main values are:\n",
    "\n",
    "- `type`: Type of matching to be considered. Can be a simple match of ClCatalog1->ClCatalog2 (`cat1`), ClCatalog2->ClCatalog1 (`cat2`) or cross matching.\n",
    "- `preference`: In cases where there are multiple matched, how the best candidate will be chosen.\n",
    "- `minimum_share_fraction`: Minimum share fraction to consider in matches (default=`0`).\n",
    "- `match_members`: Match the members catalogs (default=`True`), necessary if not already made.\n",
    "- `match_members_kwargs`: dictionary of arguments to match members, needed if `match_members=True`. Keys are:\n",
    "  - `method`(str): Method for matching. Options are `id` or `angular_distance`.\n",
    "  - `radius`(str, None): For `method='angular_distance'`. Radius for matching, with format `'value unit'` (ex: `1 arcsec`, `1 Mpc`).\n",
    "  - `cosmo`(clevar.Cosmology, None): For `method='angular_distance'`. Cosmology object for when radius has physical units.\n",
    "- `match_members_save`: saves file with matched members (default=`False`).\n",
    "- `match_members_load`: load matched members (default=`False`), if `True` skips matching (and save) of members.\n",
    "- `match_members_file`: file to save matching of members, needed if `match_members_save` or `match_members_load` is `True`.\n",
    "- `shared_members_fill`: Adds shared members dicts and nmem to mt_input in catalogs (default=`True`), necessary if not already made.\n",
    "- `shared_members_save`: saves files with shared members (default=`False`).\n",
    "- `shared_members_load`: load files with shared members (default=`False`), if `True` skips matching (and save) of members and fill (and save) of shared members.\n",
    "- `shared_members_file`: Prefix of file names to save shared members, needed if `shared_members_save` or `shared_members_load` is `True`."
   ]
  },
  {
   "cell_type": "code",
   "execution_count": null,
   "metadata": {},
   "outputs": [],
   "source": [
    "match_config = {\n",
    "    'type': 'cross', # options are cross, cat1, cat2\n",
    "    'preference': 'shared_member_fraction', # other options are more_massive, angular_proximity or redshift_proximity\n",
    "    'minimum_share_fraction': 0,\n",
    "    'match_members_kwargs': {'method':'id'},\n",
    "}"
   ]
  },
  {
   "cell_type": "markdown",
   "metadata": {},
   "source": [
    "Once the configuration is prepared, the whole process can be done with one call:"
   ]
  },
  {
   "cell_type": "code",
   "execution_count": null,
   "metadata": {},
   "outputs": [],
   "source": [
    "%%time\n",
    "mt.match_from_config(c1, c2, m1, m2, match_config)"
   ]
  },
  {
   "cell_type": "markdown",
   "metadata": {},
   "source": [
    "This will fill the matching columns in the catalogs:\n",
    "- `mt_multi_self`: Multiple matches found\n",
    "- `mt_multi_other`: Multiple matches found by the other catalog\n",
    "- `mt_self`: Best candidate found\n",
    "- `mt_other`: Best candidate found by the other catalog\n",
    "- `mt_frac_self`: Fraction of shared members with the best candidate found\n",
    "- `mt_frac_other`: Fraction of shared members by the best candidate found by the other catalog, relative to the other catalog\n",
    "- `mt_cross`: Best candidate found in both directions\n",
    "\n",
    "\n",
    "If `pmem` is present in the members catalogs, the shared fractions are computed by:\n",
    "<h1><center>$\\frac{\\sum_{shared\\;members}Pmem_i}{\\sum_{cluster\\;members}Pmem_i}$</center></h1>"
   ]
  },
  {
   "cell_type": "code",
   "execution_count": null,
   "metadata": {},
   "outputs": [],
   "source": [
    "display(c1)\n",
    "display(c2)"
   ]
  },
  {
   "cell_type": "markdown",
   "metadata": {},
   "source": [
    "## Save and Load\n",
    "The results of the matching can easily be saved and load using `ClEvaR` tools:"
   ]
  },
  {
   "cell_type": "code",
   "execution_count": null,
   "metadata": {},
   "outputs": [],
   "source": [
    "mt.save_matches(c1, c2, out_dir='temp', overwrite=True)"
   ]
  },
  {
   "cell_type": "code",
   "execution_count": null,
   "metadata": {},
   "outputs": [],
   "source": [
    "mt.load_matches(c1, c2, out_dir='temp')\n",
    "display(c1)\n",
    "display(c2)"
   ]
  }
 ],
 "metadata": {
  "kernelspec": {
   "display_name": "conda-clmmenv",
   "language": "python",
   "name": "conda-clmmenv"
  },
  "language_info": {
   "codemirror_mode": {
    "name": "ipython",
    "version": 3
   },
   "file_extension": ".py",
   "mimetype": "text/x-python",
   "name": "python",
   "nbconvert_exporter": "python",
   "pygments_lexer": "ipython3",
   "version": "3.9.2"
  }
 },
 "nbformat": 4,
 "nbformat_minor": 4
}
