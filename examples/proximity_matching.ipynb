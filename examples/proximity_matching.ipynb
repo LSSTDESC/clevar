{
 "cells": [
  {
   "cell_type": "markdown",
   "metadata": {},
   "source": [
    "# Simple example of matching based on proximity\n",
    "Matching two catalogs based on proximity based on a configuration dictionary"
   ]
  },
  {
   "cell_type": "code",
   "execution_count": null,
   "metadata": {},
   "outputs": [],
   "source": [
    "%load_ext autoreload\n",
    "%autoreload 2"
   ]
  },
  {
   "cell_type": "markdown",
   "metadata": {},
   "source": [
    "## Catalogs\n",
    "Given some input data"
   ]
  },
  {
   "cell_type": "code",
   "execution_count": null,
   "metadata": {},
   "outputs": [],
   "source": [
    "import numpy as np\n",
    "from astropy.table import Table\n",
    "input1 = Table({ \n",
    "    'ID': [f'CL{i}' for i in range(5)],\n",
    "    'RA': [0.0, 0.0001, 0.00011, 25, 20],\n",
    "    'DEC': [0.0, 0.0, 0.0, 0.0, 0.0],\n",
    "    'Z': [0.2, 0.3, 0.25, 0.4, 0.35],\n",
    "    'MASS': [10**13.5, 10**13.4, 10**13.3, 10**13.8, 10**14],\n",
    "    'RADIUS_ARCMIN': [1.0, 1.0, 1.0, 1.0, 1.0],\n",
    "})\n",
    "input2 = Table({\n",
    "    'ID': ['CL0', 'CL1', 'CL2', 'CL3'],\n",
    "    'RA': [0.0, 0.0001, 0.00011, 25],\n",
    "    'DEC': [0.0, 0, 0, 0],\n",
    "    'Z': [0.3, 0.2, 0.25, 0.4],\n",
    "    'MASS': [10**13.3, 10**13.4, 10**13.5, 10**13.8],\n",
    "    'RADIUS_ARCMIN': [1.0, 1.0, 1.0, 1.0],\n",
    "})"
   ]
  },
  {
   "cell_type": "code",
   "execution_count": null,
   "metadata": {},
   "outputs": [],
   "source": [
    "display(input1)\n",
    "display(input2)"
   ]
  },
  {
   "cell_type": "markdown",
   "metadata": {},
   "source": [
    "Create two `Catalog` objects:"
   ]
  },
  {
   "cell_type": "code",
   "execution_count": null,
   "metadata": {},
   "outputs": [],
   "source": [
    "from clevar.catalog import Catalog\n",
    "c1 = Catalog('Cat1', id=input1['ID'], ra=input1['RA'], dec=input1['DEC'], z=input1['Z'], mass=input1['MASS'])\n",
    "c2 = Catalog('Cat2', id=input2['ID'], ra=input2['RA'], dec=input2['DEC'], z=input2['Z'], mass=input2['MASS'])\n",
    "display(c1)\n",
    "display(c2)"
   ]
  },
  {
   "cell_type": "markdown",
   "metadata": {},
   "source": [
    "## Matching\n",
    "Import the `ProximityMatch` and create a object for matching"
   ]
  },
  {
   "cell_type": "code",
   "execution_count": null,
   "metadata": {},
   "outputs": [],
   "source": [
    "from clevar.match.proximity import ProximityMatch\n",
    "mt = ProximityMatch()"
   ]
  },
  {
   "cell_type": "markdown",
   "metadata": {},
   "source": [
    "Prepare the configuration. The main values are:\n",
    "\n",
    "- `type`: Type of matching to be considered. Can be a simple match of Catalog1->Catalog2 (`cat1`), Catalog2->Catalog1 (`cat2`) or cross matching.\n",
    "- `which_radius`: Given a pair of clusters, which radius will be used for the matching.\n",
    "- `preference`: In cases where there are multiple matched, how the best candidate will be chosen.\n",
    "\n",
    "We also need to provide some specific configuration for each catalog with:\n",
    "\n",
    "- `delta_z`: Defines redshift window for matching. The possible values are:\n",
    "  - `'cat'`: uses redshift properties of the catalog\n",
    "  - `'spline.filename'`: interpolates data in `'filename'` assuming (z, zmin, zmax) format\n",
    "  - `float`: uses `delta_z*(1+z)`\n",
    "  - `None`: does not use z\n",
    "- `match_radius`: Radius of the catalog to be used in the matching. If `'cat'` uses the radius in the catalog, else must be in format `'value unit'`. (ex: `'1 arcsec'`, `'1 Mpc'`)\n",
    "\n",
    "In this case, because one of the configuraion radius has physical units, we need a cosmology object to convert it to angular size (this is done internally)."
   ]
  },
  {
   "cell_type": "code",
   "execution_count": null,
   "metadata": {},
   "outputs": [],
   "source": [
    "match_config = {\n",
    "    'type': 'cross', # options are cross, cat1, cat2\n",
    "    'which_radius': 'max', # Case of radius to be used, can be: cat1, cat2, min, max\n",
    "    'preference': 'angular_proximity', # options are more_massive, angular_proximity or redshift_proximity\n",
    "    'catalog1': {'delta_z':.2,\n",
    "                'match_radius': '1 mpc'\n",
    "                },\n",
    "    'catalog2': {'delta_z':.2,\n",
    "                'match_radius': '10 arcsec'\n",
    "                }\n",
    "}\n",
    "from clevar.cosmology import AstroPyCosmology\n",
    "cosmo = AstroPyCosmology()"
   ]
  },
  {
   "cell_type": "markdown",
   "metadata": {},
   "source": [
    "Once the configuration is prepared, the whole process can be done with one call:"
   ]
  },
  {
   "cell_type": "code",
   "execution_count": null,
   "metadata": {},
   "outputs": [],
   "source": [
    "%%time\n",
    "mt.match_from_config(c1, c2, match_config, cosmo=cosmo)"
   ]
  },
  {
   "cell_type": "markdown",
   "metadata": {},
   "source": [
    "This will fill the matching columns in the catalogs:\n",
    "- `mt_multi_self`: Multiple matches found\n",
    "- `mt_multi_other`: Multiple matches found by the other catalog\n",
    "- `mt_self`: Best candidate found\n",
    "- `mt_other`: Best candidate found by the other catalog\n",
    "- `mt_cross`: Best candidate found in both directions"
   ]
  },
  {
   "cell_type": "code",
   "execution_count": null,
   "metadata": {},
   "outputs": [],
   "source": [
    "display(c1)\n",
    "display(c2)"
   ]
  },
  {
   "cell_type": "markdown",
   "metadata": {},
   "source": [
    "# Save and Load\n",
    "The results of the matching can easily be saved and load using `ClEvaR` tools:"
   ]
  },
  {
   "cell_type": "code",
   "execution_count": null,
   "metadata": {},
   "outputs": [],
   "source": [
    "mt.save_matches(c1, c2, out_dir='temp', overwrite=True)"
   ]
  },
  {
   "cell_type": "code",
   "execution_count": null,
   "metadata": {},
   "outputs": [],
   "source": [
    "mt.load_matches(c1, c2, out_dir='temp')\n",
    "display(c1)\n",
    "display(c2)"
   ]
  }
 ],
 "metadata": {
  "kernelspec": {
   "display_name": "conda-clmmenv",
   "language": "python",
   "name": "conda-clmmenv"
  },
  "language_info": {
   "codemirror_mode": {
    "name": "ipython",
    "version": 3
   },
   "file_extension": ".py",
   "mimetype": "text/x-python",
   "name": "python",
   "nbconvert_exporter": "python",
   "pygments_lexer": "ipython3",
   "version": "3.9.2"
  }
 },
 "nbformat": 4,
 "nbformat_minor": 4
}
