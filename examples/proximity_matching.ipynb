{
 "cells": [
  {
   "cell_type": "code",
   "execution_count": null,
   "metadata": {},
   "outputs": [],
   "source": [
    "%load_ext autoreload\n",
    "%autoreload 2"
   ]
  },
  {
   "cell_type": "code",
   "execution_count": null,
   "metadata": {},
   "outputs": [],
   "source": [
    "import numpy as np\n",
    "from astropy.table import Table"
   ]
  },
  {
   "cell_type": "code",
   "execution_count": null,
   "metadata": {},
   "outputs": [],
   "source": [
    "input1 = Table({ \n",
    "    'ID': [f'CL{i}' for i in range(5)],\n",
    "    'RA': [0.0, 0.0001, 0.00011, 25, 20],\n",
    "    'DEC': [0.0, 0.0, 0.0, 0.0, 0.0],\n",
    "    'Z': [0.2, 0.3, 0.25, 0.4, 0.35],\n",
    "    'MASS': [10**13.5, 10**13.4, 10**13.3, 10**13.8, 10**14],\n",
    "    'RADIUS_ARCMIN': [1.0, 1.0, 1.0, 1.0, 1.0],\n",
    "})\n",
    "input2 = Table({\n",
    "    'ID': ['CL0', 'CL1', 'CL2', 'CL3'],\n",
    "    'RA': [0.0, 0.0001, 0.00011, 25],\n",
    "    'DEC': [0.0, 0, 0, 0],\n",
    "    'Z': [0.3, 0.2, 0.25, 0.4],\n",
    "    'MASS': [10**13.3, 10**13.4, 10**13.5, 10**13.8],\n",
    "    'RADIUS_ARCMIN': [1.0, 1.0, 1.0, 1.0],\n",
    "})"
   ]
  },
  {
   "cell_type": "code",
   "execution_count": null,
   "metadata": {},
   "outputs": [],
   "source": [
    "display(input1)\n",
    "display(input2)"
   ]
  },
  {
   "cell_type": "code",
   "execution_count": null,
   "metadata": {},
   "outputs": [],
   "source": [
    "from clevar.catalog import Catalog"
   ]
  },
  {
   "cell_type": "code",
   "execution_count": null,
   "metadata": {},
   "outputs": [],
   "source": [
    "c1 = Catalog('Cat1', id=input1['ID'], ra=input1['RA'], dec=input1['DEC'], z=input1['Z'], mass=input1['MASS'])\n",
    "c2 = Catalog('Cat2', id=input2['ID'], ra=input2['RA'], dec=input2['DEC'], z=input2['Z'], mass=input2['MASS'])\n",
    "display(c1.data)\n",
    "display(c2.data)"
   ]
  },
  {
   "cell_type": "code",
   "execution_count": null,
   "metadata": {},
   "outputs": [],
   "source": [
    "display(c1)\n",
    "display(c2)"
   ]
  },
  {
   "cell_type": "code",
   "execution_count": null,
   "metadata": {},
   "outputs": [],
   "source": [
    "from clevar.match.proximity import ProximityMatch\n",
    "from clevar.cosmology import AstroPyCosmology"
   ]
  },
  {
   "cell_type": "code",
   "execution_count": null,
   "metadata": {},
   "outputs": [],
   "source": [
    "mt = ProximityMatch()"
   ]
  },
  {
   "cell_type": "code",
   "execution_count": null,
   "metadata": {},
   "outputs": [],
   "source": [
    "mt_config1 = {'delta_z':.2,\n",
    "            'match_radius': '1 mpc',\n",
    "            'cosmo':AstroPyCosmology()}\n",
    "mt_config2 = {'delta_z':.2,\n",
    "            'match_radius': '1 arcsec'}\n",
    "mt.prep_cat_for_match(c1, **mt_config1)\n",
    "mt.prep_cat_for_match(c2, **mt_config2)"
   ]
  },
  {
   "cell_type": "code",
   "execution_count": null,
   "metadata": {},
   "outputs": [],
   "source": [
    "display(c1.mt_input)\n",
    "display(c2.mt_input)"
   ]
  },
  {
   "cell_type": "code",
   "execution_count": null,
   "metadata": {},
   "outputs": [],
   "source": [
    "mt.multiple(c1, c2)"
   ]
  },
  {
   "cell_type": "code",
   "execution_count": null,
   "metadata": {},
   "outputs": [],
   "source": [
    "mt.multiple(c2, c1)"
   ]
  },
  {
   "cell_type": "code",
   "execution_count": null,
   "metadata": {},
   "outputs": [],
   "source": [
    "mt.unique(c1, c2, 'angular_proximity')\n",
    "mt.unique(c2, c1, 'angular_proximity')"
   ]
  },
  {
   "cell_type": "code",
   "execution_count": null,
   "metadata": {},
   "outputs": [],
   "source": [
    "display(c1)\n",
    "display(c2)"
   ]
  },
  {
   "cell_type": "code",
   "execution_count": null,
   "metadata": {},
   "outputs": [],
   "source": [
    "c1.cross_match()\n",
    "c2.cross_match()"
   ]
  },
  {
   "cell_type": "code",
   "execution_count": null,
   "metadata": {},
   "outputs": [],
   "source": [
    "display(c1)\n",
    "display(c2)"
   ]
  },
  {
   "cell_type": "code",
   "execution_count": null,
   "metadata": {},
   "outputs": [],
   "source": [
    "mt.save_matches(c1, c2, out_dir='temp', overwrite=True)"
   ]
  },
  {
   "cell_type": "code",
   "execution_count": null,
   "metadata": {},
   "outputs": [],
   "source": [
    "mt.load_matches(c1, c2, out_dir='temp')\n",
    "display(c1)\n",
    "display(c2)"
   ]
  }
 ],
 "metadata": {
  "kernelspec": {
   "display_name": "conda-clmmenv",
   "language": "python",
   "name": "conda-clmmenv"
  },
  "language_info": {
   "codemirror_mode": {
    "name": "ipython",
    "version": 3
   },
   "file_extension": ".py",
   "mimetype": "text/x-python",
   "name": "python",
   "nbconvert_exporter": "python",
   "pygments_lexer": "ipython3",
   "version": "3.9.2"
  }
 },
 "nbformat": 4,
 "nbformat_minor": 4
}
