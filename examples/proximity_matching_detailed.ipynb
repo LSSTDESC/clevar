{
 "cells": [
  {
   "cell_type": "markdown",
   "metadata": {},
   "source": [
    "# Matching catalogs based on proximity (detailed)\n",
    "Here we show the specific steps of matching two catalogs based on proximity"
   ]
  },
  {
   "cell_type": "markdown",
   "metadata": {
    "toc": true
   },
   "source": [
    "<h1>Table of Contents<span class=\"tocSkip\"></span></h1>\n",
    "<div class=\"toc\"><ul class=\"toc-item\"><li><span><a href=\"#ClCatalogs\" data-toc-modified-id=\"ClCatalogs-1\"><span class=\"toc-item-num\">1&nbsp;&nbsp;</span>ClCatalogs</a></span></li><li><span><a href=\"#Matching\" data-toc-modified-id=\"Matching-2\"><span class=\"toc-item-num\">2&nbsp;&nbsp;</span>Matching</a></span><ul class=\"toc-item\"><li><span><a href=\"#Prepare-the-catalogs\" data-toc-modified-id=\"Prepare-the-catalogs-2.1\"><span class=\"toc-item-num\">2.1&nbsp;&nbsp;</span>Prepare the catalogs</a></span></li><li><span><a href=\"#Multiple-matching\" data-toc-modified-id=\"Multiple-matching-2.2\"><span class=\"toc-item-num\">2.2&nbsp;&nbsp;</span>Multiple matching</a></span></li><li><span><a href=\"#Unique-matching\" data-toc-modified-id=\"Unique-matching-2.3\"><span class=\"toc-item-num\">2.3&nbsp;&nbsp;</span>Unique matching</a></span></li><li><span><a href=\"#Cross-matching\" data-toc-modified-id=\"Cross-matching-2.4\"><span class=\"toc-item-num\">2.4&nbsp;&nbsp;</span>Cross matching</a></span></li></ul></li><li><span><a href=\"#Save-and-Load\" data-toc-modified-id=\"Save-and-Load-3\"><span class=\"toc-item-num\">3&nbsp;&nbsp;</span>Save and Load</a></span></li><li><span><a href=\"#Getting-Matched-Pairs\" data-toc-modified-id=\"Getting-Matched-Pairs-4\"><span class=\"toc-item-num\">4&nbsp;&nbsp;</span>Getting Matched Pairs</a></span></li><li><span><a href=\"#Outputing-matched-catalogs\" data-toc-modified-id=\"Outputing-matched-catalogs-5\"><span class=\"toc-item-num\">5&nbsp;&nbsp;</span>Outputing matched catalogs</a></span><ul class=\"toc-item\"><li><span><a href=\"#Outputing-matching-information-to-original-catalogs\" data-toc-modified-id=\"Outputing-matching-information-to-original-catalogs-5.1\"><span class=\"toc-item-num\">5.1&nbsp;&nbsp;</span>Outputing matching information to original catalogs</a></span></li></ul></li></ul></div>"
   ]
  },
  {
   "cell_type": "code",
   "execution_count": null,
   "metadata": {},
   "outputs": [],
   "source": [
    "%load_ext autoreload\n",
    "%autoreload 2"
   ]
  },
  {
   "cell_type": "markdown",
   "metadata": {},
   "source": [
    "## ClCatalogs\n",
    "Given some input data"
   ]
  },
  {
   "cell_type": "code",
   "execution_count": null,
   "metadata": {},
   "outputs": [],
   "source": [
    "import numpy as np\n",
    "from astropy.table import Table\n",
    "\n",
    "input1 = Table(\n",
    "    {\n",
    "        \"ID\": [f\"CL{i}\" for i in range(5)],\n",
    "        \"RA\": [0.0, 0.0001, 0.00011, 25, 20],\n",
    "        \"DEC\": [0.0, 0.0, 0.0, 0.0, 0.0],\n",
    "        \"Z\": [0.2, 0.3, 0.25, 0.4, 0.35],\n",
    "        \"MASS\": [10**13.5, 10**13.4, 10**13.3, 10**13.8, 10**14],\n",
    "        \"RADIUS_ARCMIN\": [1.0, 1.0, 1.0, 1.0, 1.0],\n",
    "    }\n",
    ")\n",
    "input2 = Table(\n",
    "    {\n",
    "        \"ID\": [\"CL0\", \"CL1\", \"CL2\", \"CL3\"],\n",
    "        \"RA\": [0.0, 0.0001, 0.00011, 25],\n",
    "        \"DEC\": [0.0, 0, 0, 0],\n",
    "        \"Z\": [0.3, 0.2, 0.25, 0.4],\n",
    "        \"MASS\": [10**13.3, 10**13.4, 10**13.5, 10**13.8],\n",
    "        \"RADIUS_ARCMIN\": [1.0, 1.0, 1.0, 1.0],\n",
    "    }\n",
    ")\n",
    "display(input1)\n",
    "display(input2)"
   ]
  },
  {
   "cell_type": "markdown",
   "metadata": {},
   "source": [
    "Create two `ClCatalog` objects, they have the same properties of `astropy` tables with additional functionality. You can tag the main properties of the catalog, or have columns with those names (see `catalogs.ipynb` for detailts). For the proximity matching, the main tags/columns to be included are:\n",
    "- `id` - if not included, one will be assigned\n",
    "- `ra` (in degrees) - necessary\n",
    "- `dec` (in degrees) - necessary\n",
    "- `z` - necessary if used as matching criteria or for angular to physical convertion\n",
    "- `mass` (or mass proxy) - necessary if used as preference criteria for unique matches\n",
    "- `radius` - necessary if used as a criteria of matching (also requires `radius_unit` to be passed)"
   ]
  },
  {
   "cell_type": "code",
   "execution_count": null,
   "metadata": {},
   "outputs": [],
   "source": [
    "from clevar.catalog import ClCatalog\n",
    "\n",
    "tags = {\"id\": \"ID\", \"ra\": \"RA\", \"dec\": \"DEC\", \"z\": \"Z\", \"mass\": \"MASS\"}\n",
    "c1 = ClCatalog(\"Cat1\", data=input1, tags=tags)\n",
    "c2 = ClCatalog(\"Cat2\", data=input2, tags=tags)\n",
    "# Format for nice display\n",
    "for c in (\"ra\", \"dec\", \"z\"):\n",
    "    c1[c].info.format = \".2f\"\n",
    "    c2[c].info.format = \".2f\"\n",
    "for c in (\"mass\",):\n",
    "    c1[c].info.format = \".2e\"\n",
    "    c2[c].info.format = \".2e\"\n",
    "display(c1)\n",
    "display(c2)"
   ]
  },
  {
   "cell_type": "markdown",
   "metadata": {},
   "source": [
    "The `ClCatalog` object can also be read directly from a file,\n",
    "for details, see <a href='catalogs.ipynb'>catalogs.ipynb</a>."
   ]
  },
  {
   "cell_type": "markdown",
   "metadata": {},
   "source": [
    "## Matching\n",
    "Import the `ProximityMatch` and create a object for matching"
   ]
  },
  {
   "cell_type": "code",
   "execution_count": null,
   "metadata": {},
   "outputs": [],
   "source": [
    "from clevar.match import ProximityMatch\n",
    "\n",
    "mt = ProximityMatch()"
   ]
  },
  {
   "cell_type": "markdown",
   "metadata": {},
   "source": [
    "### Prepare the catalogs\n",
    "The first step is to prepare each catalog with the matching configuration:\n",
    "\n",
    "- `delta_z`: Defines redshift window for matching. The possible values are:\n",
    "  - `'cat'`: uses redshift properties of the catalog\n",
    "  - `'spline.filename'`: interpolates data in `'filename'` assuming (z, zmin, zmax) format\n",
    "  - `float`: uses `delta_z*(1+z)`\n",
    "  - `None`: does not use z\n",
    "- `match_radius`: Radius of the catalog to be used in the matching. If `'cat'` uses the radius in the catalog, else must be in format `'value unit'`. (ex: `'1 arcsec'`, `'1 Mpc'`)\n",
    "\n",
    "In this case, because one of the configuraion radius has physical units, we also need a cosmology (`cosmo`) object to convert it to angular size (this is done internally)."
   ]
  },
  {
   "cell_type": "code",
   "execution_count": null,
   "metadata": {},
   "outputs": [],
   "source": [
    "from clevar.cosmology import AstroPyCosmology\n",
    "\n",
    "mt_config1 = {\"delta_z\": 0.2, \"match_radius\": \"1 mpc\", \"cosmo\": AstroPyCosmology()}\n",
    "mt_config2 = {\"delta_z\": 0.2, \"match_radius\": \"1 arcsec\"}\n",
    "mt.prep_cat_for_match(c1, **mt_config1)\n",
    "mt.prep_cat_for_match(c2, **mt_config2)"
   ]
  },
  {
   "cell_type": "markdown",
   "metadata": {},
   "source": [
    "This will add values to the `mt_input` attribute of the catalogs:"
   ]
  },
  {
   "cell_type": "code",
   "execution_count": null,
   "metadata": {},
   "outputs": [],
   "source": [
    "display(c1.mt_input)\n",
    "display(c2.mt_input)"
   ]
  },
  {
   "cell_type": "markdown",
   "metadata": {},
   "source": [
    "### Multiple matching\n",
    "The next step is to match the catalogs and store all candidates that pass the matching criteria. You can also pass the argument:\n",
    "- `radius_selection`: Given a pair of clusters, which radius will be used for the matching."
   ]
  },
  {
   "cell_type": "code",
   "execution_count": null,
   "metadata": {},
   "outputs": [],
   "source": [
    "%%time\n",
    "mt.multiple(c1, c2)\n",
    "mt.multiple(c2, c1)"
   ]
  },
  {
   "cell_type": "markdown",
   "metadata": {},
   "source": [
    "This will fill the `mt_multi_self` and `mt_multi_other` columns:"
   ]
  },
  {
   "cell_type": "code",
   "execution_count": null,
   "metadata": {},
   "outputs": [],
   "source": [
    "display(c1)\n",
    "display(c2)"
   ]
  },
  {
   "cell_type": "markdown",
   "metadata": {},
   "source": [
    "### Unique matching\n",
    "Once all candidates are stored in each catalog, we can find the best candidates. You can also pass the argument:\n",
    "- `preference`: In cases where there are multiple matched, how the best candidate will be chosen."
   ]
  },
  {
   "cell_type": "code",
   "execution_count": null,
   "metadata": {},
   "outputs": [],
   "source": [
    "%%time\n",
    "mt.unique(c1, c2, preference=\"angular_proximity\")\n",
    "mt.unique(c2, c1, preference=\"angular_proximity\")"
   ]
  },
  {
   "cell_type": "markdown",
   "metadata": {},
   "source": [
    "This will fill the `mt_self` and `mt_other` columns:"
   ]
  },
  {
   "cell_type": "code",
   "execution_count": null,
   "metadata": {},
   "outputs": [],
   "source": [
    "display(c1)\n",
    "display(c2)"
   ]
  },
  {
   "cell_type": "markdown",
   "metadata": {},
   "source": [
    "### Cross matching\n",
    "If you want to make sure the same pair was found in both directions:"
   ]
  },
  {
   "cell_type": "code",
   "execution_count": null,
   "metadata": {},
   "outputs": [],
   "source": [
    "c1.cross_match()\n",
    "c2.cross_match()"
   ]
  },
  {
   "cell_type": "markdown",
   "metadata": {},
   "source": [
    "This will fill the `mt_cross` column:"
   ]
  },
  {
   "cell_type": "code",
   "execution_count": null,
   "metadata": {},
   "outputs": [],
   "source": [
    "display(c1)\n",
    "display(c2)"
   ]
  },
  {
   "cell_type": "markdown",
   "metadata": {},
   "source": [
    "## Save and Load\n",
    "The results of the matching can easily be saved and load using `ClEvaR` tools:"
   ]
  },
  {
   "cell_type": "code",
   "execution_count": null,
   "metadata": {},
   "outputs": [],
   "source": [
    "mt.save_matches(c1, c2, out_dir=\"temp\", overwrite=True)"
   ]
  },
  {
   "cell_type": "code",
   "execution_count": null,
   "metadata": {},
   "outputs": [],
   "source": [
    "mt.load_matches(c1, c2, out_dir=\"temp\")\n",
    "display(c1)\n",
    "display(c2)"
   ]
  },
  {
   "cell_type": "markdown",
   "metadata": {},
   "source": [
    "## Getting Matched Pairs\n",
    "\n",
    "There is functionality inbuilt in `clevar` to plot some results of the matching, such as:\n",
    "- Recovery rates\n",
    "- Distances (anguar and redshift) of cluster centers\n",
    "- Scaling relations (mass, redshift, ...)\n",
    "for those cases, check the <a href='match_metrics.ipynb'>match_metrics.ipynb</a> and <a href='match_metrics_advanced.ipynb'>match_metrics_advanced.ipynb</a> notebooks.\n",
    "\n",
    "If those do not provide your needs, you can get directly the matched pairs of clusters: "
   ]
  },
  {
   "cell_type": "code",
   "execution_count": null,
   "metadata": {},
   "outputs": [],
   "source": [
    "from clevar.match import get_matched_pairs\n",
    "\n",
    "mt1, mt2 = get_matched_pairs(c1, c2, \"cross\")"
   ]
  },
  {
   "cell_type": "markdown",
   "metadata": {},
   "source": [
    "These will be catalogs with the corresponding matched pairs:"
   ]
  },
  {
   "cell_type": "code",
   "execution_count": null,
   "metadata": {},
   "outputs": [],
   "source": [
    "import pylab as plt\n",
    "\n",
    "plt.scatter(mt1[\"mass\"], mt2[\"mass\"])"
   ]
  },
  {
   "cell_type": "markdown",
   "metadata": {},
   "source": [
    "## Outputing matched catalogs\n",
    "\n",
    "To save the current catalogs, you can use the `write` inbuilt function:"
   ]
  },
  {
   "cell_type": "code",
   "execution_count": null,
   "metadata": {},
   "outputs": [],
   "source": [
    "c1.write(\"c1_temp.fits\", overwrite=True)"
   ]
  },
  {
   "cell_type": "markdown",
   "metadata": {},
   "source": [
    "This will allow you to save the catalog with its current labels and matching information.\n",
    "\n",
    "### Outputing matching information to original catalogs\n",
    "\n",
    "Assuming your input data came from initial files,\n",
    "`clevar` also provides functions create output files \n",
    "that combine all the information on them with the matching results.\n",
    "\n",
    "To add the matching information to an input catalog, use:\n",
    "\n",
    "```\n",
    "from clevar.match import output_catalog_with_matching\n",
    "output_catalog_with_matching('input_catalog.fits', 'output_catalog.fits', c1)\n",
    "```\n",
    "\n",
    "- note: `input_catalog.fits` must have the same number of rows that `c1`.\n",
    "\n",
    "\n",
    "To create a matched catalog containig all columns of both input catalogs, use:\n",
    "\n",
    "```\n",
    "from clevar.match import output_matched_catalog\n",
    "output_matched_catalog('input_catalog1.fits', 'input_catalog2.fits',\n",
    "    'output_catalog.fits', c1, c2, matching_type='cross')\n",
    "```\n",
    "\n",
    "where `matching_type` must be `cross`, `cat1` or `cat2`.\n",
    "\n",
    "- note: `input_catalog1.fits` must have the same number of rows that `c1` (and the same for `c2`)."
   ]
  }
 ],
 "metadata": {
  "kernelspec": {
   "display_name": "",
   "language": "python",
   "name": ""
  },
  "language_info": {
   "codemirror_mode": {
    "name": "ipython",
    "version": 3
   },
   "file_extension": ".py",
   "mimetype": "text/x-python",
   "name": "python",
   "nbconvert_exporter": "python",
   "pygments_lexer": "ipython3",
   "version": "3.9.2"
  },
  "toc": {
   "base_numbering": 1,
   "nav_menu": {},
   "number_sections": true,
   "sideBar": true,
   "skip_h1_title": true,
   "title_cell": "Table of Contents",
   "title_sidebar": "Contents",
   "toc_cell": true,
   "toc_position": {},
   "toc_section_display": true,
   "toc_window_display": false
  }
 },
 "nbformat": 4,
 "nbformat_minor": 4
}
